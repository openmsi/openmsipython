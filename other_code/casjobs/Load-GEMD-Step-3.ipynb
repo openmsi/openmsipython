{
 "cells": [
  {
   "cell_type": "markdown",
   "metadata": {},
   "source": [
    "# Load GEMD files in database\n",
    "This code is for information purposes onlny as it requires permissions on our SciServer system that users of this repo will not in general posess. The database schema is defined by files in the database_design subfolder.\n",
    "\n",
    "#### NB parts of this code can only be run by someone with direct credentials to the database"
   ]
  },
  {
   "cell_type": "code",
   "execution_count": null,
   "metadata": {},
   "outputs": [],
   "source": [
    "import glob\n",
    "import json\n",
    "import random\n",
    "import pandas\n",
    "import pprint\n",
    "import sys\n",
    "import json\n",
    "import numpy as np\n",
    "import pymssql"
   ]
  },
  {
   "cell_type": "code",
   "execution_count": null,
   "metadata": {},
   "outputs": [],
   "source": [
    "from gemd_database import MSSQLDatabase"
   ]
  },
  {
   "cell_type": "code",
   "execution_count": null,
   "metadata": {},
   "outputs": [],
   "source": [
    "with open('/home/idies/workspace/persistent/.private/gemd.json','r') as f:\n",
    "    AUTH = json.load(f)\n",
    "GEMDDB=MSSQLDatabase(AUTH,'GEMD')"
   ]
  },
  {
   "cell_type": "markdown",
   "metadata": {},
   "source": [
    "# graph tables\n",
    "adding edges to objects"
   ]
  },
  {
   "cell_type": "code",
   "execution_count": null,
   "metadata": {},
   "outputs": [],
   "source": [
    "sql = \"\"\"\n",
    "insert into GEMDEdge \n",
    "select uid,material_run_uid, 'ingredient_run:material_run'\n",
    "from ingredient_run\n",
    "where material_run_uid is not null\n",
    "union\n",
    "select uid,process_run_uid, 'ingredient_run:process_run'\n",
    "from ingredient_run\n",
    "where process_run_uid is not null\n",
    "union\n",
    "select uid,spec_uid, 'ingredient_run:spec'\n",
    "from ingredient_run\n",
    "where process_run_uid is not null\n",
    "union\n",
    "select uid,process_spec_uid, 'ingredient_spec:process_spec'\n",
    "from ingredient_spec\n",
    "where process_spec_uid is not null\n",
    "union\n",
    "select uid,material_spec_uid, 'ingredient_spec:material_spec'\n",
    "from ingredient_spec\n",
    "where material_spec_uid is not null\n",
    "union\n",
    "select uid,spec_uid, 'material_run:spec'\n",
    "from material_run \n",
    "where spec_uid is not null\n",
    "union\n",
    "select uid, process_run_uid, 'material_run:process_run'\n",
    "from material_run \n",
    "where process_run_uid is not null\n",
    "union\n",
    "select uid,process_spec_uid, 'material_spec:process_spec'\n",
    "from material_spec \n",
    "where process_spec_uid is not null\n",
    "union\n",
    "select uid,template_uid, 'material_spec:template'\n",
    "from material_spec\n",
    "where template_uid is not null\n",
    "union\n",
    "select uid,spec_uid, 'measurement_run:spec'\n",
    "from measurement_run\n",
    "where spec_uid is not null\n",
    "union\n",
    "select uid,material_uid, 'measurement_run:material'\n",
    "from measurement_run\n",
    "where material_uid is not null\n",
    "union\n",
    "select uid,template_uid, 'measurement_spec:template'\n",
    "from measurement_spec\n",
    "where template_uid is not null\n",
    "union\n",
    "select uid,spec_uid, 'process_run:spec'\n",
    "from process_run\n",
    "where spec_uid is not null\n",
    "union\n",
    "select uid,template_uid, 'process_spec:template'\n",
    "from process_spec\n",
    "where template_uid is not null\n",
    "\"\"\"\n",
    "GEMDDB.execute_update(sql)"
   ]
  }
 ],
 "metadata": {
  "kernelspec": {
   "display_name": "Python 3.9 (py39)",
   "language": "python",
   "name": "py39"
  },
  "language_info": {
   "codemirror_mode": {
    "name": "ipython",
    "version": 3
   },
   "file_extension": ".py",
   "mimetype": "text/x-python",
   "name": "python",
   "nbconvert_exporter": "python",
   "pygments_lexer": "ipython3",
   "version": "3.9.7"
  }
 },
 "nbformat": 4,
 "nbformat_minor": 4
}
