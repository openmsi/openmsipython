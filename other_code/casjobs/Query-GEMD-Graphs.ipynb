{
 "cells": [
  {
   "cell_type": "markdown",
   "metadata": {},
   "source": [
    "# Sample queries exploring Graph structure in GEMD database\n"
   ]
  },
  {
   "cell_type": "code",
   "execution_count": 1,
   "metadata": {
    "execution": {
     "iopub.execute_input": "2023-06-21T12:24:15.136041Z",
     "iopub.status.busy": "2023-06-21T12:24:15.135568Z",
     "iopub.status.idle": "2023-06-21T12:24:16.109553Z",
     "shell.execute_reply": "2023-06-21T12:24:16.107449Z",
     "shell.execute_reply.started": "2023-06-21T12:24:15.135900Z"
    },
    "tags": []
   },
   "outputs": [],
   "source": [
    "import SciServer.CasJobs as cj\n",
    "from pprint import pprint\n",
    "import json\n",
    "import pandas"
   ]
  },
  {
   "cell_type": "code",
   "execution_count": 2,
   "metadata": {
    "execution": {
     "iopub.execute_input": "2023-06-21T12:24:18.731494Z",
     "iopub.status.busy": "2023-06-21T12:24:18.730893Z",
     "iopub.status.idle": "2023-06-21T12:24:18.738321Z",
     "shell.execute_reply": "2023-06-21T12:24:18.736824Z",
     "shell.execute_reply.started": "2023-06-21T12:24:18.731439Z"
    },
    "tags": []
   },
   "outputs": [],
   "source": [
    "DATABASE='GEMD'"
   ]
  },
  {
   "cell_type": "markdown",
   "metadata": {},
   "source": [
    "This query finds pairs of nodes with >1 path from one to the other."
   ]
  },
  {
   "cell_type": "code",
   "execution_count": 3,
   "metadata": {
    "execution": {
     "iopub.execute_input": "2023-06-21T12:24:20.411818Z",
     "iopub.status.busy": "2023-06-21T12:24:20.411212Z",
     "iopub.status.idle": "2023-06-21T12:24:35.907237Z",
     "shell.execute_reply": "2023-06-21T12:24:35.905292Z",
     "shell.execute_reply.started": "2023-06-21T12:24:20.411765Z"
    }
   },
   "outputs": [
    {
     "name": "stdout",
     "output_type": "stream",
     "text": [
      "CPU times: user 646 ms, sys: 437 ms, total: 1.08 s\n",
      "Wall time: 15.4 s\n"
     ]
    },
    {
     "data": {
      "text/html": [
       "<div>\n",
       "<style scoped>\n",
       "    .dataframe tbody tr th:only-of-type {\n",
       "        vertical-align: middle;\n",
       "    }\n",
       "\n",
       "    .dataframe tbody tr th {\n",
       "        vertical-align: top;\n",
       "    }\n",
       "\n",
       "    .dataframe thead th {\n",
       "        text-align: right;\n",
       "    }\n",
       "</style>\n",
       "<table border=\"1\" class=\"dataframe\">\n",
       "  <thead>\n",
       "    <tr style=\"text-align: right;\">\n",
       "      <th></th>\n",
       "      <th>root_uid</th>\n",
       "      <th>root_type</th>\n",
       "      <th>endpoint_uid</th>\n",
       "      <th>endpoint_type</th>\n",
       "      <th>path</th>\n",
       "      <th>min_level</th>\n",
       "      <th>max_level</th>\n",
       "      <th>num_paths</th>\n",
       "    </tr>\n",
       "  </thead>\n",
       "  <tbody>\n",
       "    <tr>\n",
       "      <th>0</th>\n",
       "      <td>000043d9-701d-4a81-bf62-4c1cb1cca72f</td>\n",
       "      <td>material_run</td>\n",
       "      <td>b6fbde0c-bbf3-44fc-ada9-ebd2dd07f69b</td>\n",
       "      <td>process_template</td>\n",
       "      <td>material_run000043d9-701d-4a81-bf62-4c1cb1cca7...</td>\n",
       "      <td>3</td>\n",
       "      <td>3</td>\n",
       "      <td>2</td>\n",
       "    </tr>\n",
       "    <tr>\n",
       "      <th>1</th>\n",
       "      <td>000043d9-701d-4a81-bf62-4c1cb1cca72f</td>\n",
       "      <td>material_run</td>\n",
       "      <td>b9274d86-b97a-4e39-b097-efee075e171a</td>\n",
       "      <td>process_spec</td>\n",
       "      <td>material_run000043d9-701d-4a81-bf62-4c1cb1cca7...</td>\n",
       "      <td>2</td>\n",
       "      <td>2</td>\n",
       "      <td>2</td>\n",
       "    </tr>\n",
       "    <tr>\n",
       "      <th>2</th>\n",
       "      <td>00027938-31ce-4580-af14-d8626e735d35</td>\n",
       "      <td>material_run</td>\n",
       "      <td>b6fbde0c-bbf3-44fc-ada9-ebd2dd07f69b</td>\n",
       "      <td>process_template</td>\n",
       "      <td>material_run00027938-31ce-4580-af14-d8626e735d...</td>\n",
       "      <td>3</td>\n",
       "      <td>3</td>\n",
       "      <td>2</td>\n",
       "    </tr>\n",
       "    <tr>\n",
       "      <th>3</th>\n",
       "      <td>00027938-31ce-4580-af14-d8626e735d35</td>\n",
       "      <td>material_run</td>\n",
       "      <td>f1556630-0f5c-4996-b016-36a4c822f9cb</td>\n",
       "      <td>process_spec</td>\n",
       "      <td>material_run00027938-31ce-4580-af14-d8626e735d...</td>\n",
       "      <td>2</td>\n",
       "      <td>2</td>\n",
       "      <td>2</td>\n",
       "    </tr>\n",
       "    <tr>\n",
       "      <th>4</th>\n",
       "      <td>0007c08e-c7f1-4568-bedc-543ebbc060df</td>\n",
       "      <td>material_run</td>\n",
       "      <td>8a150e80-4108-4ecf-9184-00000b40d06e</td>\n",
       "      <td>process_spec</td>\n",
       "      <td>material_run0007c08e-c7f1-4568-bedc-543ebbc060...</td>\n",
       "      <td>2</td>\n",
       "      <td>2</td>\n",
       "      <td>2</td>\n",
       "    </tr>\n",
       "    <tr>\n",
       "      <th>...</th>\n",
       "      <td>...</td>\n",
       "      <td>...</td>\n",
       "      <td>...</td>\n",
       "      <td>...</td>\n",
       "      <td>...</td>\n",
       "      <td>...</td>\n",
       "      <td>...</td>\n",
       "      <td>...</td>\n",
       "    </tr>\n",
       "    <tr>\n",
       "      <th>24197</th>\n",
       "      <td>ffdf443e-eed2-4c9a-a5ea-7ce1dd11ffc3</td>\n",
       "      <td>material_run</td>\n",
       "      <td>ee2196b4-b0eb-4c47-b2ff-4ba3fa58f25e</td>\n",
       "      <td>process_template</td>\n",
       "      <td>material_runffdf443e-eed2-4c9a-a5ea-7ce1dd11ff...</td>\n",
       "      <td>3</td>\n",
       "      <td>3</td>\n",
       "      <td>2</td>\n",
       "    </tr>\n",
       "    <tr>\n",
       "      <th>24198</th>\n",
       "      <td>ffe704e6-6c4f-4bfb-8930-7e87a61a0261</td>\n",
       "      <td>material_run</td>\n",
       "      <td>d5557c35-5104-4480-8a46-f093f8e8a4bb</td>\n",
       "      <td>process_template</td>\n",
       "      <td>material_runffe704e6-6c4f-4bfb-8930-7e87a61a02...</td>\n",
       "      <td>3</td>\n",
       "      <td>3</td>\n",
       "      <td>2</td>\n",
       "    </tr>\n",
       "    <tr>\n",
       "      <th>24199</th>\n",
       "      <td>ffe704e6-6c4f-4bfb-8930-7e87a61a0261</td>\n",
       "      <td>material_run</td>\n",
       "      <td>d6d849c4-5a00-4176-8b7c-0e0ac276e32e</td>\n",
       "      <td>process_spec</td>\n",
       "      <td>material_runffe704e6-6c4f-4bfb-8930-7e87a61a02...</td>\n",
       "      <td>2</td>\n",
       "      <td>2</td>\n",
       "      <td>2</td>\n",
       "    </tr>\n",
       "    <tr>\n",
       "      <th>24200</th>\n",
       "      <td>fff2d0fe-a165-4314-bb57-6608bc17c4f7</td>\n",
       "      <td>material_run</td>\n",
       "      <td>ee2196b4-b0eb-4c47-b2ff-4ba3fa58f25e</td>\n",
       "      <td>process_template</td>\n",
       "      <td>material_runfff2d0fe-a165-4314-bb57-6608bc17c4...</td>\n",
       "      <td>3</td>\n",
       "      <td>3</td>\n",
       "      <td>2</td>\n",
       "    </tr>\n",
       "    <tr>\n",
       "      <th>24201</th>\n",
       "      <td>fff2d0fe-a165-4314-bb57-6608bc17c4f7</td>\n",
       "      <td>material_run</td>\n",
       "      <td>f66ea441-2a8c-4754-ad46-942f99a390d5</td>\n",
       "      <td>process_spec</td>\n",
       "      <td>material_runfff2d0fe-a165-4314-bb57-6608bc17c4...</td>\n",
       "      <td>2</td>\n",
       "      <td>2</td>\n",
       "      <td>2</td>\n",
       "    </tr>\n",
       "  </tbody>\n",
       "</table>\n",
       "<p>24202 rows × 8 columns</p>\n",
       "</div>"
      ],
      "text/plain": [
       "                                   root_uid     root_type  \\\n",
       "0      000043d9-701d-4a81-bf62-4c1cb1cca72f  material_run   \n",
       "1      000043d9-701d-4a81-bf62-4c1cb1cca72f  material_run   \n",
       "2      00027938-31ce-4580-af14-d8626e735d35  material_run   \n",
       "3      00027938-31ce-4580-af14-d8626e735d35  material_run   \n",
       "4      0007c08e-c7f1-4568-bedc-543ebbc060df  material_run   \n",
       "...                                     ...           ...   \n",
       "24197  ffdf443e-eed2-4c9a-a5ea-7ce1dd11ffc3  material_run   \n",
       "24198  ffe704e6-6c4f-4bfb-8930-7e87a61a0261  material_run   \n",
       "24199  ffe704e6-6c4f-4bfb-8930-7e87a61a0261  material_run   \n",
       "24200  fff2d0fe-a165-4314-bb57-6608bc17c4f7  material_run   \n",
       "24201  fff2d0fe-a165-4314-bb57-6608bc17c4f7  material_run   \n",
       "\n",
       "                               endpoint_uid     endpoint_type  \\\n",
       "0      b6fbde0c-bbf3-44fc-ada9-ebd2dd07f69b  process_template   \n",
       "1      b9274d86-b97a-4e39-b097-efee075e171a      process_spec   \n",
       "2      b6fbde0c-bbf3-44fc-ada9-ebd2dd07f69b  process_template   \n",
       "3      f1556630-0f5c-4996-b016-36a4c822f9cb      process_spec   \n",
       "4      8a150e80-4108-4ecf-9184-00000b40d06e      process_spec   \n",
       "...                                     ...               ...   \n",
       "24197  ee2196b4-b0eb-4c47-b2ff-4ba3fa58f25e  process_template   \n",
       "24198  d5557c35-5104-4480-8a46-f093f8e8a4bb  process_template   \n",
       "24199  d6d849c4-5a00-4176-8b7c-0e0ac276e32e      process_spec   \n",
       "24200  ee2196b4-b0eb-4c47-b2ff-4ba3fa58f25e  process_template   \n",
       "24201  f66ea441-2a8c-4754-ad46-942f99a390d5      process_spec   \n",
       "\n",
       "                                                    path  min_level  \\\n",
       "0      material_run000043d9-701d-4a81-bf62-4c1cb1cca7...          3   \n",
       "1      material_run000043d9-701d-4a81-bf62-4c1cb1cca7...          2   \n",
       "2      material_run00027938-31ce-4580-af14-d8626e735d...          3   \n",
       "3      material_run00027938-31ce-4580-af14-d8626e735d...          2   \n",
       "4      material_run0007c08e-c7f1-4568-bedc-543ebbc060...          2   \n",
       "...                                                  ...        ...   \n",
       "24197  material_runffdf443e-eed2-4c9a-a5ea-7ce1dd11ff...          3   \n",
       "24198  material_runffe704e6-6c4f-4bfb-8930-7e87a61a02...          3   \n",
       "24199  material_runffe704e6-6c4f-4bfb-8930-7e87a61a02...          2   \n",
       "24200  material_runfff2d0fe-a165-4314-bb57-6608bc17c4...          3   \n",
       "24201  material_runfff2d0fe-a165-4314-bb57-6608bc17c4...          2   \n",
       "\n",
       "       max_level  num_paths  \n",
       "0              3          2  \n",
       "1              2          2  \n",
       "2              3          2  \n",
       "3              2          2  \n",
       "4              2          2  \n",
       "...          ...        ...  \n",
       "24197          3          2  \n",
       "24198          3          2  \n",
       "24199          2          2  \n",
       "24200          3          2  \n",
       "24201          2          2  \n",
       "\n",
       "[24202 rows x 8 columns]"
      ]
     },
     "execution_count": 3,
     "metadata": {},
     "output_type": "execute_result"
    }
   ],
   "source": [
    "%%time\n",
    "sql=\"\"\"\n",
    "with gr as (\n",
    "select c.uid as root_uid\n",
    ",      c.gemd_type as root_type\n",
    ",      0 as level\n",
    ",      cast(NULL as varchar(64)) as endpoint_uid\n",
    ",      cast(NULL as varchar(32)) as endpoint_type\n",
    ",      c.uid as from_uid, cast(NULL as bigint) as edge_id, cast(NULL as varchar(64)) as gemd_ref\n",
    ",      cast(gemd_type+c.uid as varchar(max)) as [path]\n",
    "  from GEMDObject c where gemd_type='material_run'\n",
    " union all\n",
    "select gr.root_uid, gr.root_type, gr.level+1, e.to_uid, c.gemd_type\n",
    ",      e.to_uid, e.id, e.gemd_ref\n",
    ",      gr.path+'==>'+e.gemd_ref+':'+e.to_uid\n",
    "  from gr \n",
    "  join GEMDEdge e on e.from_uid=gr.from_uid\n",
    "  join GEMDObject c on c.uid=e.to_uid\n",
    "where gr.level < 16\n",
    ")\n",
    "select root_uid, root_type, endpoint_uid, endpoint_type\n",
    ",      min(path) as path, min(level) as min_level, max(level) as max_level\n",
    ",      count(*) as num_paths\n",
    "  from gr\n",
    "group by root_type, root_uid, endpoint_uid,endpoint_type having count(*) > 1  -- if you want to find multiple paths between nodes\n",
    " order by root_type,root_uid, endpoint_uid,path\n",
    "\"\"\"\n",
    "cj.executeQuery(sql, DATABASE)"
   ]
  },
  {
   "cell_type": "markdown",
   "metadata": {},
   "source": [
    "Following query returns all paths between all nodes. This can be compared with the graph functionality inside MS SQL itself but seems to be faster."
   ]
  },
  {
   "cell_type": "code",
   "execution_count": 5,
   "metadata": {},
   "outputs": [
    {
     "ename": "Exception",
     "evalue": "Error when executing query. Http Response from CasJobs API returned status code 500:\n{\"Error Code\":500,\"Error Type\":\"InternalServerError\",\"Error Message\":\"Failed to execute a query: Query results exceed memory limitations.   Please revise your query to return less information, or use MyDB\",\"LogMessageID\":\"aea1ef6b-a45b-4f62-82e5-6f66a544ddfd\"}",
     "output_type": "error",
     "traceback": [
      "\u001b[0;31m\u001b[0m",
      "\u001b[0;31mException\u001b[0mTraceback (most recent call last)",
      "\u001b[0;32m<timed exec>\u001b[0m in \u001b[0;36m<module>\u001b[0;34m\u001b[0m\n",
      "\u001b[0;32m~/miniconda3/envs/py38/lib/python3.8/site-packages/SciServer-2.1.0-py3.8.egg/SciServer/CasJobs.py\u001b[0m in \u001b[0;36mexecuteQuery\u001b[0;34m(sql, context, format)\u001b[0m\n\u001b[1;32m    147\u001b[0m     \u001b[0mpostResponse\u001b[0m \u001b[0;34m=\u001b[0m \u001b[0mrequests\u001b[0m\u001b[0;34m.\u001b[0m\u001b[0mpost\u001b[0m\u001b[0;34m(\u001b[0m\u001b[0mQueryUrl\u001b[0m\u001b[0;34m,\u001b[0m\u001b[0mdata\u001b[0m\u001b[0;34m=\u001b[0m\u001b[0mdata\u001b[0m\u001b[0;34m,\u001b[0m\u001b[0mheaders\u001b[0m\u001b[0;34m=\u001b[0m\u001b[0mheaders\u001b[0m\u001b[0;34m,\u001b[0m \u001b[0mstream\u001b[0m\u001b[0;34m=\u001b[0m\u001b[0;32mTrue\u001b[0m\u001b[0;34m)\u001b[0m\u001b[0;34m\u001b[0m\u001b[0;34m\u001b[0m\u001b[0m\n\u001b[1;32m    148\u001b[0m     \u001b[0;32mif\u001b[0m \u001b[0mpostResponse\u001b[0m\u001b[0;34m.\u001b[0m\u001b[0mstatus_code\u001b[0m \u001b[0;34m!=\u001b[0m \u001b[0;36m200\u001b[0m\u001b[0;34m:\u001b[0m\u001b[0;34m\u001b[0m\u001b[0;34m\u001b[0m\u001b[0m\n\u001b[0;32m--> 149\u001b[0;31m         \u001b[0;32mraise\u001b[0m \u001b[0mException\u001b[0m\u001b[0;34m(\u001b[0m\u001b[0;34m\"Error when executing query. Http Response from CasJobs API returned status code \"\u001b[0m \u001b[0;34m+\u001b[0m \u001b[0mstr\u001b[0m\u001b[0;34m(\u001b[0m\u001b[0mpostResponse\u001b[0m\u001b[0;34m.\u001b[0m\u001b[0mstatus_code\u001b[0m\u001b[0;34m)\u001b[0m \u001b[0;34m+\u001b[0m \u001b[0;34m\":\\n\"\u001b[0m \u001b[0;34m+\u001b[0m \u001b[0mpostResponse\u001b[0m\u001b[0;34m.\u001b[0m\u001b[0mcontent\u001b[0m\u001b[0;34m.\u001b[0m\u001b[0mdecode\u001b[0m\u001b[0;34m(\u001b[0m\u001b[0;34m)\u001b[0m\u001b[0;34m)\u001b[0m\u001b[0;34m;\u001b[0m\u001b[0;34m\u001b[0m\u001b[0;34m\u001b[0m\u001b[0m\n\u001b[0m\u001b[1;32m    150\u001b[0m \u001b[0;34m\u001b[0m\u001b[0m\n\u001b[1;32m    151\u001b[0m     \u001b[0;32mif\u001b[0m \u001b[0;34m(\u001b[0m\u001b[0mformat\u001b[0m \u001b[0;34m==\u001b[0m \u001b[0;34m\"readable\"\u001b[0m\u001b[0;34m)\u001b[0m \u001b[0;32mor\u001b[0m \u001b[0;34m(\u001b[0m\u001b[0mformat\u001b[0m \u001b[0;34m==\u001b[0m \u001b[0;34m\"StringIO\"\u001b[0m\u001b[0;34m)\u001b[0m\u001b[0;34m:\u001b[0m\u001b[0;34m\u001b[0m\u001b[0;34m\u001b[0m\u001b[0m\n",
      "\u001b[0;31mException\u001b[0m: Error when executing query. Http Response from CasJobs API returned status code 500:\n{\"Error Code\":500,\"Error Type\":\"InternalServerError\",\"Error Message\":\"Failed to execute a query: Query results exceed memory limitations.   Please revise your query to return less information, or use MyDB\",\"LogMessageID\":\"aea1ef6b-a45b-4f62-82e5-6f66a544ddfd\"}"
     ]
    }
   ],
   "source": [
    "%%time\n",
    "sql=\"\"\"\n",
    "with gr as (\n",
    "select c.uid as root_uid\n",
    ",      c.gemd_type as root_type\n",
    ",      0 as level\n",
    ",      cast(NULL as varchar(64)) as endpoint_uid\n",
    ",      c.uid as from_uid, cast(NULL as bigint) as edge_id, cast(NULL as varchar(64)) as gemd_ref\n",
    ",      cast(gemd_type+':'+c.uid as varchar(max)) as [path]\n",
    "  from GEMDObject c\n",
    " union all\n",
    "select gr.root_uid, gr.root_type, gr.level+1, e.to_uid\n",
    ",      e.to_uid, e.id, e.gemd_ref\n",
    ",      gr.path+'==>'+e.gemd_ref+':'+e.to_uid\n",
    "  from gr\n",
    "  join GEMDEdge e on e.from_uid=gr.from_uid\n",
    "where gr.level < 16\n",
    ")\n",
    "select root_uid, root_type, endpoint_uid\n",
    ",      edge_id,gemd_ref\n",
    ",      path, level\n",
    "  from gr\n",
    " order by root_type,root_uid, path\n",
    "\"\"\"\n",
    "paths=cj.executeQuery(sql, DATABASE)"
   ]
  },
  {
   "cell_type": "code",
   "execution_count": null,
   "metadata": {},
   "outputs": [],
   "source": [
    "edges=paths[paths['level']>0]\n",
    "edges"
   ]
  },
  {
   "cell_type": "markdown",
   "metadata": {},
   "source": [
    "count for each node how many distinct nodes can be reached from it"
   ]
  },
  {
   "cell_type": "code",
   "execution_count": 10,
   "metadata": {
    "execution": {
     "iopub.execute_input": "2023-06-21T12:25:14.921821Z",
     "iopub.status.busy": "2023-06-21T12:25:14.920899Z",
     "iopub.status.idle": "2023-06-21T12:25:30.851468Z",
     "shell.execute_reply": "2023-06-21T12:25:30.849569Z",
     "shell.execute_reply.started": "2023-06-21T12:25:14.921761Z"
    },
    "tags": []
   },
   "outputs": [
    {
     "name": "stdout",
     "output_type": "stream",
     "text": [
      "CPU times: user 230 ms, sys: 76.4 ms, total: 306 ms\n",
      "Wall time: 15.9 s\n"
     ]
    }
   ],
   "source": [
    "%%time\n",
    "sql=\"\"\"\n",
    "with gr as (\n",
    "select c.uid as root_uid\n",
    ",      c.gemd_type as root_type\n",
    ",      0 as level\n",
    ",      cast(NULL as varchar(64)) as endpoint_uid\n",
    ",      c.uid as from_uid, cast(NULL as bigint) as edge_id, cast(NULL as varchar(64)) as gemd_ref\n",
    ",      cast(gemd_type+c.uid as varchar(max)) as [path]\n",
    "  from GEMDObject c\n",
    " union all\n",
    "select gr.root_uid, gr.root_type, gr.level+1, e.to_uid\n",
    ",      e.to_uid, e.id, e.gemd_ref\n",
    ",      gr.path+'==>'+e.gemd_ref+':'+e.to_uid\n",
    "  from gr\n",
    "  join GEMDEdge e on e.from_uid=gr.from_uid\n",
    "where gr.level < 16\n",
    ")\n",
    "select root_uid, root_type, count(distinct endpoint_uid) as num_out_nodes\n",
    "  from gr\n",
    "group by root_type, root_uid\n",
    " order by num_out_nodes desc\n",
    "\"\"\"\n",
    "nodes_out=cj.executeQuery(sql, DATABASE)"
   ]
  },
  {
   "cell_type": "code",
   "execution_count": 7,
   "metadata": {},
   "outputs": [
    {
     "data": {
      "text/html": [
       "<div>\n",
       "<style scoped>\n",
       "    .dataframe tbody tr th:only-of-type {\n",
       "        vertical-align: middle;\n",
       "    }\n",
       "\n",
       "    .dataframe tbody tr th {\n",
       "        vertical-align: top;\n",
       "    }\n",
       "\n",
       "    .dataframe thead th {\n",
       "        text-align: right;\n",
       "    }\n",
       "</style>\n",
       "<table border=\"1\" class=\"dataframe\">\n",
       "  <thead>\n",
       "    <tr style=\"text-align: right;\">\n",
       "      <th></th>\n",
       "      <th>root_uid</th>\n",
       "      <th>root_type</th>\n",
       "      <th>num_out_nodes</th>\n",
       "    </tr>\n",
       "  </thead>\n",
       "  <tbody>\n",
       "    <tr>\n",
       "      <th>0</th>\n",
       "      <td>adaa778f-62d8-476f-a774-4a3877a53d05</td>\n",
       "      <td>ingredient_run</td>\n",
       "      <td>13</td>\n",
       "    </tr>\n",
       "    <tr>\n",
       "      <th>1</th>\n",
       "      <td>e190aa30-a7d1-44c1-89a6-3262939803c4</td>\n",
       "      <td>ingredient_run</td>\n",
       "      <td>13</td>\n",
       "    </tr>\n",
       "    <tr>\n",
       "      <th>2</th>\n",
       "      <td>daea63f1-9ca9-4027-9c03-a1ac6c178342</td>\n",
       "      <td>ingredient_run</td>\n",
       "      <td>13</td>\n",
       "    </tr>\n",
       "    <tr>\n",
       "      <th>3</th>\n",
       "      <td>b8610aac-5b37-4b22-b17b-00262286fce7</td>\n",
       "      <td>ingredient_run</td>\n",
       "      <td>13</td>\n",
       "    </tr>\n",
       "    <tr>\n",
       "      <th>4</th>\n",
       "      <td>7d62501f-7a29-4c85-9fab-a869f6923bb2</td>\n",
       "      <td>ingredient_run</td>\n",
       "      <td>13</td>\n",
       "    </tr>\n",
       "    <tr>\n",
       "      <th>5</th>\n",
       "      <td>9cab251d-ff37-428c-97e2-77c725e825d6</td>\n",
       "      <td>ingredient_run</td>\n",
       "      <td>13</td>\n",
       "    </tr>\n",
       "    <tr>\n",
       "      <th>6</th>\n",
       "      <td>3ccc45be-c8b0-455c-a8e6-1f07472ff40c</td>\n",
       "      <td>ingredient_run</td>\n",
       "      <td>13</td>\n",
       "    </tr>\n",
       "    <tr>\n",
       "      <th>7</th>\n",
       "      <td>0b6a2404-634d-4868-be85-5fa90597b7c5</td>\n",
       "      <td>ingredient_run</td>\n",
       "      <td>13</td>\n",
       "    </tr>\n",
       "    <tr>\n",
       "      <th>8</th>\n",
       "      <td>300dc1dc-0fb0-40c5-a690-3a8c6545404d</td>\n",
       "      <td>ingredient_run</td>\n",
       "      <td>13</td>\n",
       "    </tr>\n",
       "    <tr>\n",
       "      <th>9</th>\n",
       "      <td>04b9166d-5cb6-4a0d-9e83-383a3fbfd6ab</td>\n",
       "      <td>ingredient_run</td>\n",
       "      <td>13</td>\n",
       "    </tr>\n",
       "  </tbody>\n",
       "</table>\n",
       "</div>"
      ],
      "text/plain": [
       "                               root_uid       root_type  num_out_nodes\n",
       "0  adaa778f-62d8-476f-a774-4a3877a53d05  ingredient_run             13\n",
       "1  e190aa30-a7d1-44c1-89a6-3262939803c4  ingredient_run             13\n",
       "2  daea63f1-9ca9-4027-9c03-a1ac6c178342  ingredient_run             13\n",
       "3  b8610aac-5b37-4b22-b17b-00262286fce7  ingredient_run             13\n",
       "4  7d62501f-7a29-4c85-9fab-a869f6923bb2  ingredient_run             13\n",
       "5  9cab251d-ff37-428c-97e2-77c725e825d6  ingredient_run             13\n",
       "6  3ccc45be-c8b0-455c-a8e6-1f07472ff40c  ingredient_run             13\n",
       "7  0b6a2404-634d-4868-be85-5fa90597b7c5  ingredient_run             13\n",
       "8  300dc1dc-0fb0-40c5-a690-3a8c6545404d  ingredient_run             13\n",
       "9  04b9166d-5cb6-4a0d-9e83-383a3fbfd6ab  ingredient_run             13"
      ]
     },
     "execution_count": 7,
     "metadata": {},
     "output_type": "execute_result"
    }
   ],
   "source": [
    "nodes_out.head(10)"
   ]
  },
  {
   "cell_type": "markdown",
   "metadata": {},
   "source": [
    "count for each node how many distinct nodes can reach it"
   ]
  },
  {
   "cell_type": "code",
   "execution_count": 40,
   "metadata": {},
   "outputs": [
    {
     "name": "stdout",
     "output_type": "stream",
     "text": [
      "CPU times: user 98.3 ms, sys: 19.2 ms, total: 118 ms\n",
      "Wall time: 18.3 s\n"
     ]
    }
   ],
   "source": [
    "%%time\n",
    "sql=\"\"\"\n",
    "with gr as (\n",
    "select c.uid as root_uid\n",
    ",      c.gemd_type as root_type\n",
    ",      0 as level\n",
    ",      cast(NULL as varchar(64)) as endpoint_uid\n",
    ",      c.uid as from_uid, cast(NULL as bigint) as edge_id, cast(NULL as varchar(64)) as gemd_ref\n",
    ",      cast(gemd_type+c.uid as varchar(max)) as [path]\n",
    "  from GEMDObject c\n",
    " union all\n",
    "select gr.root_uid, gr.root_type, gr.level+1, e.to_uid\n",
    ",      e.to_uid, e.id, e.gemd_ref\n",
    ",      gr.path+'==>'+e.gemd_ref+':'+e.to_uid\n",
    "  from gr\n",
    "  join GEMDEdge e on e.from_uid=gr.from_uid\n",
    "where gr.level < 16\n",
    ")\n",
    "select endpoint_uid, count(distinct root_uid) as num_in_nodes\n",
    "  from gr\n",
    "group by endpoint_uid\n",
    " order by num_in_nodes desc\n",
    "\"\"\"\n",
    "nodes_in=cj.executeQuery(sql, DATABASE)"
   ]
  },
  {
   "cell_type": "code",
   "execution_count": 41,
   "metadata": {},
   "outputs": [
    {
     "data": {
      "text/html": [
       "<div>\n",
       "<style scoped>\n",
       "    .dataframe tbody tr th:only-of-type {\n",
       "        vertical-align: middle;\n",
       "    }\n",
       "\n",
       "    .dataframe tbody tr th {\n",
       "        vertical-align: top;\n",
       "    }\n",
       "\n",
       "    .dataframe thead th {\n",
       "        text-align: right;\n",
       "    }\n",
       "</style>\n",
       "<table border=\"1\" class=\"dataframe\">\n",
       "  <thead>\n",
       "    <tr style=\"text-align: right;\">\n",
       "      <th></th>\n",
       "      <th>root_uid</th>\n",
       "      <th>root_type</th>\n",
       "      <th>num_out_nodes</th>\n",
       "    </tr>\n",
       "  </thead>\n",
       "  <tbody>\n",
       "    <tr>\n",
       "      <th>0</th>\n",
       "      <td>adaa778f-62d8-476f-a774-4a3877a53d05</td>\n",
       "      <td>ingredient_run</td>\n",
       "      <td>13</td>\n",
       "    </tr>\n",
       "    <tr>\n",
       "      <th>1</th>\n",
       "      <td>e190aa30-a7d1-44c1-89a6-3262939803c4</td>\n",
       "      <td>ingredient_run</td>\n",
       "      <td>13</td>\n",
       "    </tr>\n",
       "    <tr>\n",
       "      <th>2</th>\n",
       "      <td>daea63f1-9ca9-4027-9c03-a1ac6c178342</td>\n",
       "      <td>ingredient_run</td>\n",
       "      <td>13</td>\n",
       "    </tr>\n",
       "    <tr>\n",
       "      <th>3</th>\n",
       "      <td>b8610aac-5b37-4b22-b17b-00262286fce7</td>\n",
       "      <td>ingredient_run</td>\n",
       "      <td>13</td>\n",
       "    </tr>\n",
       "    <tr>\n",
       "      <th>4</th>\n",
       "      <td>7d62501f-7a29-4c85-9fab-a869f6923bb2</td>\n",
       "      <td>ingredient_run</td>\n",
       "      <td>13</td>\n",
       "    </tr>\n",
       "  </tbody>\n",
       "</table>\n",
       "</div>"
      ],
      "text/plain": [
       "                               root_uid       root_type  num_out_nodes\n",
       "0  adaa778f-62d8-476f-a774-4a3877a53d05  ingredient_run             13\n",
       "1  e190aa30-a7d1-44c1-89a6-3262939803c4  ingredient_run             13\n",
       "2  daea63f1-9ca9-4027-9c03-a1ac6c178342  ingredient_run             13\n",
       "3  b8610aac-5b37-4b22-b17b-00262286fce7  ingredient_run             13\n",
       "4  7d62501f-7a29-4c85-9fab-a869f6923bb2  ingredient_run             13"
      ]
     },
     "execution_count": 41,
     "metadata": {},
     "output_type": "execute_result"
    }
   ],
   "source": [
    "nodes_out.head()"
   ]
  },
  {
   "cell_type": "code",
   "execution_count": 42,
   "metadata": {},
   "outputs": [
    {
     "data": {
      "text/html": [
       "<div>\n",
       "<style scoped>\n",
       "    .dataframe tbody tr th:only-of-type {\n",
       "        vertical-align: middle;\n",
       "    }\n",
       "\n",
       "    .dataframe tbody tr th {\n",
       "        vertical-align: top;\n",
       "    }\n",
       "\n",
       "    .dataframe thead th {\n",
       "        text-align: right;\n",
       "    }\n",
       "</style>\n",
       "<table border=\"1\" class=\"dataframe\">\n",
       "  <thead>\n",
       "    <tr style=\"text-align: right;\">\n",
       "      <th></th>\n",
       "      <th>endpoint_uid</th>\n",
       "      <th>num_in_nodes</th>\n",
       "    </tr>\n",
       "  </thead>\n",
       "  <tbody>\n",
       "    <tr>\n",
       "      <th>0</th>\n",
       "      <td></td>\n",
       "      <td>50497</td>\n",
       "    </tr>\n",
       "    <tr>\n",
       "      <th>1</th>\n",
       "      <td>ee2196b4-b0eb-4c47-b2ff-4ba3fa58f25e</td>\n",
       "      <td>11597</td>\n",
       "    </tr>\n",
       "    <tr>\n",
       "      <th>2</th>\n",
       "      <td>abc629d5-7453-4620-accd-db59f8586067</td>\n",
       "      <td>9916</td>\n",
       "    </tr>\n",
       "    <tr>\n",
       "      <th>3</th>\n",
       "      <td>705961c4-081b-4cfb-ae02-d0c7eb3e2008</td>\n",
       "      <td>9683</td>\n",
       "    </tr>\n",
       "    <tr>\n",
       "      <th>4</th>\n",
       "      <td>b6fbde0c-bbf3-44fc-ada9-ebd2dd07f69b</td>\n",
       "      <td>8409</td>\n",
       "    </tr>\n",
       "  </tbody>\n",
       "</table>\n",
       "</div>"
      ],
      "text/plain": [
       "                           endpoint_uid  num_in_nodes\n",
       "0                                               50497\n",
       "1  ee2196b4-b0eb-4c47-b2ff-4ba3fa58f25e         11597\n",
       "2  abc629d5-7453-4620-accd-db59f8586067          9916\n",
       "3  705961c4-081b-4cfb-ae02-d0c7eb3e2008          9683\n",
       "4  b6fbde0c-bbf3-44fc-ada9-ebd2dd07f69b          8409"
      ]
     },
     "execution_count": 42,
     "metadata": {},
     "output_type": "execute_result"
    }
   ],
   "source": [
    "nodes_in.head()"
   ]
  },
  {
   "cell_type": "markdown",
   "metadata": {},
   "source": [
    "## visualize\n",
    "Goal is to get a visualization vapability ala that supported by \n",
    "<a href=\"http://www.thebrain.com\" target=\"_blank\">http://www.thebrain.com</a>. \\\n",
    "This allows one to trace edges from a starting node, restricting views to only that node and nodes 1 or 2 steps away. \\\n",
    "Needs code development!"
   ]
  },
  {
   "cell_type": "code",
   "execution_count": 11,
   "metadata": {
    "execution": {
     "iopub.execute_input": "2023-06-21T13:13:44.756928Z",
     "iopub.status.busy": "2023-06-21T13:13:44.756246Z",
     "iopub.status.idle": "2023-06-21T13:13:44.777217Z",
     "shell.execute_reply": "2023-06-21T13:13:44.775130Z",
     "shell.execute_reply.started": "2023-06-21T13:13:44.756863Z"
    },
    "tags": []
   },
   "outputs": [],
   "source": [
    "import networkx as nx\n",
    "G = nx.Graph()"
   ]
  },
  {
   "cell_type": "markdown",
   "metadata": {},
   "source": [
    "take a node from nodes_out and find the graph reachable from it"
   ]
  },
  {
   "cell_type": "code",
   "execution_count": 12,
   "metadata": {
    "execution": {
     "iopub.execute_input": "2023-06-21T13:13:46.589871Z",
     "iopub.status.busy": "2023-06-21T13:13:46.589289Z",
     "iopub.status.idle": "2023-06-21T13:13:46.612829Z",
     "shell.execute_reply": "2023-06-21T13:13:46.611079Z",
     "shell.execute_reply.started": "2023-06-21T13:13:46.589818Z"
    },
    "tags": []
   },
   "outputs": [],
   "source": [
    "UID = nodes_out.iloc[0].root_uid\n",
    "# UID = '01b44457-6ebe-43bc-b316-66fcff35957e'"
   ]
  },
  {
   "cell_type": "code",
   "execution_count": 17,
   "metadata": {
    "execution": {
     "iopub.execute_input": "2023-06-21T13:14:23.164547Z",
     "iopub.status.busy": "2023-06-21T13:14:23.163926Z",
     "iopub.status.idle": "2023-06-21T13:14:28.199982Z",
     "shell.execute_reply": "2023-06-21T13:14:28.197750Z",
     "shell.execute_reply.started": "2023-06-21T13:14:23.164494Z"
    },
    "tags": []
   },
   "outputs": [
    {
     "data": {
      "text/html": [
       "<div>\n",
       "<style scoped>\n",
       "    .dataframe tbody tr th:only-of-type {\n",
       "        vertical-align: middle;\n",
       "    }\n",
       "\n",
       "    .dataframe tbody tr th {\n",
       "        vertical-align: top;\n",
       "    }\n",
       "\n",
       "    .dataframe thead th {\n",
       "        text-align: right;\n",
       "    }\n",
       "</style>\n",
       "<table border=\"1\" class=\"dataframe\">\n",
       "  <thead>\n",
       "    <tr style=\"text-align: right;\">\n",
       "      <th></th>\n",
       "      <th>Source</th>\n",
       "      <th>Target</th>\n",
       "    </tr>\n",
       "  </thead>\n",
       "  <tbody>\n",
       "    <tr>\n",
       "      <th>0</th>\n",
       "      <td>ingredient_run [adaa778f-62d8-476f-a774-4a3877...</td>\n",
       "      <td>material_run [5c6e208a-7c91-49d5-a6ba-023911c3...</td>\n",
       "    </tr>\n",
       "    <tr>\n",
       "      <th>1</th>\n",
       "      <td>ingredient_run [adaa778f-62d8-476f-a774-4a3877...</td>\n",
       "      <td>ingredient_spec [276a2071-594e-4c36-bf81-a867c...</td>\n",
       "    </tr>\n",
       "    <tr>\n",
       "      <th>2</th>\n",
       "      <td>ingredient_run [adaa778f-62d8-476f-a774-4a3877...</td>\n",
       "      <td>process_run [58d4bf30-de0d-4972-8600-7dd33e71b...</td>\n",
       "    </tr>\n",
       "    <tr>\n",
       "      <th>3</th>\n",
       "      <td>process_run [58d4bf30-de0d-4972-8600-7dd33e71b...</td>\n",
       "      <td>process_spec [5c649b97-6770-487e-834d-c228a314...</td>\n",
       "    </tr>\n",
       "    <tr>\n",
       "      <th>4</th>\n",
       "      <td>process_spec [5c649b97-6770-487e-834d-c228a314...</td>\n",
       "      <td>process_template [ee2196b4-b0eb-4c47-b2ff-4ba3...</td>\n",
       "    </tr>\n",
       "    <tr>\n",
       "      <th>5</th>\n",
       "      <td>ingredient_spec [276a2071-594e-4c36-bf81-a867c...</td>\n",
       "      <td>material_spec [7595a295-533f-406a-8b0a-eccd4b1...</td>\n",
       "    </tr>\n",
       "    <tr>\n",
       "      <th>6</th>\n",
       "      <td>ingredient_spec [276a2071-594e-4c36-bf81-a867c...</td>\n",
       "      <td>process_spec [5c649b97-6770-487e-834d-c228a314...</td>\n",
       "    </tr>\n",
       "    <tr>\n",
       "      <th>7</th>\n",
       "      <td>process_spec [5c649b97-6770-487e-834d-c228a314...</td>\n",
       "      <td>process_template [ee2196b4-b0eb-4c47-b2ff-4ba3...</td>\n",
       "    </tr>\n",
       "    <tr>\n",
       "      <th>8</th>\n",
       "      <td>material_spec [7595a295-533f-406a-8b0a-eccd4b1...</td>\n",
       "      <td>process_spec [ed82e185-d722-4b3a-a72a-5c80d42a...</td>\n",
       "    </tr>\n",
       "    <tr>\n",
       "      <th>9</th>\n",
       "      <td>material_spec [7595a295-533f-406a-8b0a-eccd4b1...</td>\n",
       "      <td>material_template [44b8ff23-00dd-4551-8196-68c...</td>\n",
       "    </tr>\n",
       "    <tr>\n",
       "      <th>10</th>\n",
       "      <td>process_spec [ed82e185-d722-4b3a-a72a-5c80d42a...</td>\n",
       "      <td>process_template [b33ea835-56e3-4b5e-88ba-eb17...</td>\n",
       "    </tr>\n",
       "    <tr>\n",
       "      <th>11</th>\n",
       "      <td>material_run [5c6e208a-7c91-49d5-a6ba-023911c3...</td>\n",
       "      <td>material_spec [e83b3018-8dea-439f-83bb-ae35c0c...</td>\n",
       "    </tr>\n",
       "    <tr>\n",
       "      <th>12</th>\n",
       "      <td>material_run [5c6e208a-7c91-49d5-a6ba-023911c3...</td>\n",
       "      <td>process_run [cc7b3c40-af3e-41c8-844b-7315cd01a...</td>\n",
       "    </tr>\n",
       "    <tr>\n",
       "      <th>13</th>\n",
       "      <td>process_run [cc7b3c40-af3e-41c8-844b-7315cd01a...</td>\n",
       "      <td>process_spec [aba8d3b2-4103-4993-8c3b-6fa0774b...</td>\n",
       "    </tr>\n",
       "    <tr>\n",
       "      <th>14</th>\n",
       "      <td>process_spec [aba8d3b2-4103-4993-8c3b-6fa0774b...</td>\n",
       "      <td>process_template [66157c71-b4b4-42a6-8354-c9a6...</td>\n",
       "    </tr>\n",
       "    <tr>\n",
       "      <th>15</th>\n",
       "      <td>material_spec [e83b3018-8dea-439f-83bb-ae35c0c...</td>\n",
       "      <td>material_template [44b8ff23-00dd-4551-8196-68c...</td>\n",
       "    </tr>\n",
       "    <tr>\n",
       "      <th>16</th>\n",
       "      <td>material_spec [e83b3018-8dea-439f-83bb-ae35c0c...</td>\n",
       "      <td>process_spec [aba8d3b2-4103-4993-8c3b-6fa0774b...</td>\n",
       "    </tr>\n",
       "    <tr>\n",
       "      <th>17</th>\n",
       "      <td>process_spec [aba8d3b2-4103-4993-8c3b-6fa0774b...</td>\n",
       "      <td>process_template [66157c71-b4b4-42a6-8354-c9a6...</td>\n",
       "    </tr>\n",
       "  </tbody>\n",
       "</table>\n",
       "</div>"
      ],
      "text/plain": [
       "                                               Source  \\\n",
       "0   ingredient_run [adaa778f-62d8-476f-a774-4a3877...   \n",
       "1   ingredient_run [adaa778f-62d8-476f-a774-4a3877...   \n",
       "2   ingredient_run [adaa778f-62d8-476f-a774-4a3877...   \n",
       "3   process_run [58d4bf30-de0d-4972-8600-7dd33e71b...   \n",
       "4   process_spec [5c649b97-6770-487e-834d-c228a314...   \n",
       "5   ingredient_spec [276a2071-594e-4c36-bf81-a867c...   \n",
       "6   ingredient_spec [276a2071-594e-4c36-bf81-a867c...   \n",
       "7   process_spec [5c649b97-6770-487e-834d-c228a314...   \n",
       "8   material_spec [7595a295-533f-406a-8b0a-eccd4b1...   \n",
       "9   material_spec [7595a295-533f-406a-8b0a-eccd4b1...   \n",
       "10  process_spec [ed82e185-d722-4b3a-a72a-5c80d42a...   \n",
       "11  material_run [5c6e208a-7c91-49d5-a6ba-023911c3...   \n",
       "12  material_run [5c6e208a-7c91-49d5-a6ba-023911c3...   \n",
       "13  process_run [cc7b3c40-af3e-41c8-844b-7315cd01a...   \n",
       "14  process_spec [aba8d3b2-4103-4993-8c3b-6fa0774b...   \n",
       "15  material_spec [e83b3018-8dea-439f-83bb-ae35c0c...   \n",
       "16  material_spec [e83b3018-8dea-439f-83bb-ae35c0c...   \n",
       "17  process_spec [aba8d3b2-4103-4993-8c3b-6fa0774b...   \n",
       "\n",
       "                                               Target  \n",
       "0   material_run [5c6e208a-7c91-49d5-a6ba-023911c3...  \n",
       "1   ingredient_spec [276a2071-594e-4c36-bf81-a867c...  \n",
       "2   process_run [58d4bf30-de0d-4972-8600-7dd33e71b...  \n",
       "3   process_spec [5c649b97-6770-487e-834d-c228a314...  \n",
       "4   process_template [ee2196b4-b0eb-4c47-b2ff-4ba3...  \n",
       "5   material_spec [7595a295-533f-406a-8b0a-eccd4b1...  \n",
       "6   process_spec [5c649b97-6770-487e-834d-c228a314...  \n",
       "7   process_template [ee2196b4-b0eb-4c47-b2ff-4ba3...  \n",
       "8   process_spec [ed82e185-d722-4b3a-a72a-5c80d42a...  \n",
       "9   material_template [44b8ff23-00dd-4551-8196-68c...  \n",
       "10  process_template [b33ea835-56e3-4b5e-88ba-eb17...  \n",
       "11  material_spec [e83b3018-8dea-439f-83bb-ae35c0c...  \n",
       "12  process_run [cc7b3c40-af3e-41c8-844b-7315cd01a...  \n",
       "13  process_spec [aba8d3b2-4103-4993-8c3b-6fa0774b...  \n",
       "14  process_template [66157c71-b4b4-42a6-8354-c9a6...  \n",
       "15  material_template [44b8ff23-00dd-4551-8196-68c...  \n",
       "16  process_spec [aba8d3b2-4103-4993-8c3b-6fa0774b...  \n",
       "17  process_template [66157c71-b4b4-42a6-8354-c9a6...  "
      ]
     },
     "execution_count": 17,
     "metadata": {},
     "output_type": "execute_result"
    }
   ],
   "source": [
    "sql=f\"\"\"\n",
    "with gr as (\n",
    "select c.uid as node_uid\n",
    ",      c.gemd_type as node_type\n",
    ",      c.context as node_context\n",
    ",      cast(c.gemd_type+' ['+c.uid+']' as varchar(128)) as Target\n",
    ",      cast(-1 as bigint) as edge_id\n",
    ",      cast(NULL as varchar(64)) as from_uid\n",
    ",      cast(NULL as varchar(128)) as Source\n",
    ",      0 as level\n",
    "  from GEMDObject c\n",
    "  where uid='{UID}'\n",
    " union all\n",
    "select c.uid as node_uid\n",
    ",      c.gemd_type as node_type\n",
    ",      c.context as node_context\n",
    ",      cast(c.gemd_type+' ['+c.uid+']' as varchar(128)) as Target\n",
    ",      e.id as edge_id\n",
    ",      gr.node_uid as from_uid\n",
    ",      gr.Target as Source\n",
    ",      gr.level+1 as level\n",
    "  from gr\n",
    "  join GEMDEdge e on e.from_uid=gr.node_uid\n",
    "  join GEMDObject c on c.uid=e.to_uid\n",
    "where gr.level < 16\n",
    ")\n",
    "select Source,Target\n",
    "--,node_type,node_context\n",
    "  from gr\n",
    " where Source is not null\n",
    "\"\"\"\n",
    "gr=cj.executeQuery(sql,DATABASE)\n",
    "gr"
   ]
  },
  {
   "cell_type": "code",
   "execution_count": 18,
   "metadata": {
    "execution": {
     "iopub.execute_input": "2023-06-21T13:14:28.203722Z",
     "iopub.status.busy": "2023-06-21T13:14:28.203229Z",
     "iopub.status.idle": "2023-06-21T13:14:28.214571Z",
     "shell.execute_reply": "2023-06-21T13:14:28.212873Z",
     "shell.execute_reply.started": "2023-06-21T13:14:28.203669Z"
    },
    "tags": []
   },
   "outputs": [],
   "source": [
    "G=nx.from_pandas_edgelist(gr,'Source','Target',create_using=nx.DiGraph)#,'node_type')"
   ]
  },
  {
   "cell_type": "code",
   "execution_count": 17,
   "metadata": {
    "tags": []
   },
   "outputs": [
    {
     "data": {
      "text/plain": [
       "NodeView(('ingredient_run [adaa778f-62d8-476f-a774-4a3877a53d05]', 'material_run [5c6e208a-7c91-49d5-a6ba-023911c32910]', 'ingredient_spec [276a2071-594e-4c36-bf81-a867cf78ce50]', 'process_run [58d4bf30-de0d-4972-8600-7dd33e71b070]', 'process_spec [5c649b97-6770-487e-834d-c228a314b77d]', 'process_template [ee2196b4-b0eb-4c47-b2ff-4ba3fa58f25e]', 'material_spec [7595a295-533f-406a-8b0a-eccd4b130760]', 'process_spec [ed82e185-d722-4b3a-a72a-5c80d42a476c]', 'material_template [44b8ff23-00dd-4551-8196-68cef7f02b96]', 'process_template [b33ea835-56e3-4b5e-88ba-eb17be32e4bd]', 'material_spec [e83b3018-8dea-439f-83bb-ae35c0cb1c94]', 'process_run [cc7b3c40-af3e-41c8-844b-7315cd01ab54]', 'process_spec [aba8d3b2-4103-4993-8c3b-6fa0774b721c]', 'process_template [66157c71-b4b4-42a6-8354-c9a698c8e4db]'))"
      ]
     },
     "execution_count": 17,
     "metadata": {},
     "output_type": "execute_result"
    }
   ],
   "source": [
    "G.nodes"
   ]
  },
  {
   "cell_type": "code",
   "execution_count": 18,
   "metadata": {
    "tags": []
   },
   "outputs": [
    {
     "data": {
      "image/png": "[encoded data removed]",
      "text/plain": [
       "<Figure size 432x288 with 1 Axes>"
      ]
     },
     "metadata": {},
     "output_type": "display_data"
    }
   ],
   "source": [
    "nx.draw_spring(G)  # seems not to work in JupyterLab"
   ]
  },
  {
   "cell_type": "markdown",
   "metadata": {},
   "source": [
    "## plot using bokeh\n",
    "Needs more work. Canot deal with DiGraphs"
   ]
  },
  {
   "cell_type": "code",
   "execution_count": 19,
   "metadata": {
    "tags": []
   },
   "outputs": [],
   "source": [
    "from bokeh.io import output_notebook, show, save\n",
    "from bokeh.models import Range1d, Circle, ColumnDataSource, MultiLine\n",
    "from bokeh.plotting import figure\n",
    "from bokeh.plotting import from_networkx"
   ]
  },
  {
   "cell_type": "code",
   "execution_count": 20,
   "metadata": {},
   "outputs": [
    {
     "data": {
      "text/html": [
       "\n",
       "    <div class=\"bk-root\">\n",
       "        <a href=\"https://bokeh.org\" target=\"_blank\" class=\"bk-logo bk-logo-small bk-logo-notebook\"></a>\n",
       "        <span id=\"1001\">Loading BokehJS ...</span>\n",
       "    </div>"
      ]
     },
     "metadata": {},
     "output_type": "display_data"
    },
    {
     "data": {
      "application/javascript": [
       "\n",
       "(function(root) {\n",
       "  function now() {\n",
       "    return new Date();\n",
       "  }\n",
       "\n",
       "  var force = true;\n",
       "\n",
       "  if (typeof root._bokeh_onload_callbacks === \"undefined\" || force === true) {\n",
       "    root._bokeh_onload_callbacks = [];\n",
       "    root._bokeh_is_loading = undefined;\n",
       "  }\n",
       "\n",
       "  var JS_MIME_TYPE = 'application/javascript';\n",
       "  var HTML_MIME_TYPE = 'text/html';\n",
       "  var EXEC_MIME_TYPE = 'application/vnd.bokehjs_exec.v0+json';\n",
       "  var CLASS_NAME = 'output_bokeh rendered_html';\n",
       "\n",
       "  /**\n",
       "   * Render data to the DOM node\n",
       "   */\n",
       "  function render(props, node) {\n",
       "    var script = document.createElement(\"script\");\n",
       "    node.appendChild(script);\n",
       "  }\n",
       "\n",
       "  /**\n",
       "   * Handle when an output is cleared or removed\n",
       "   */\n",
       "  function handleClearOutput(event, handle) {\n",
       "    var cell = handle.cell;\n",
       "\n",
       "    var id = cell.output_area._bokeh_element_id;\n",
       "    var server_id = cell.output_area._bokeh_server_id;\n",
       "    // Clean up Bokeh references\n",
       "    if (id != null && id in Bokeh.index) {\n",
       "      Bokeh.index[id].model.document.clear();\n",
       "      delete Bokeh.index[id];\n",
       "    }\n",
       "\n",
       "    if (server_id !== undefined) {\n",
       "      // Clean up Bokeh references\n",
       "      var cmd = \"from bokeh.io.state import curstate; print(curstate().uuid_to_server['\" + server_id + \"'].get_sessions()[0].document.roots[0]._id)\";\n",
       "      cell.notebook.kernel.execute(cmd, {\n",
       "        iopub: {\n",
       "          output: function(msg) {\n",
       "            var id = msg.content.text.trim();\n",
       "            if (id in Bokeh.index) {\n",
       "              Bokeh.index[id].model.document.clear();\n",
       "              delete Bokeh.index[id];\n",
       "            }\n",
       "          }\n",
       "        }\n",
       "      });\n",
       "      // Destroy server and session\n",
       "      var cmd = \"import bokeh.io.notebook as ion; ion.destroy_server('\" + server_id + \"')\";\n",
       "      cell.notebook.kernel.execute(cmd);\n",
       "    }\n",
       "  }\n",
       "\n",
       "  /**\n",
       "   * Handle when a new output is added\n",
       "   */\n",
       "  function handleAddOutput(event, handle) {\n",
       "    var output_area = handle.output_area;\n",
       "    var output = handle.output;\n",
       "\n",
       "    // limit handleAddOutput to display_data with EXEC_MIME_TYPE content only\n",
       "    if ((output.output_type != \"display_data\") || (!output.data.hasOwnProperty(EXEC_MIME_TYPE))) {\n",
       "      return\n",
       "    }\n",
       "\n",
       "    var toinsert = output_area.element.find(\".\" + CLASS_NAME.split(' ')[0]);\n",
       "\n",
       "    if (output.metadata[EXEC_MIME_TYPE][\"id\"] !== undefined) {\n",
       "      toinsert[toinsert.length - 1].firstChild.textContent = output.data[JS_MIME_TYPE];\n",
       "      // store reference to embed id on output_area\n",
       "      output_area._bokeh_element_id = output.metadata[EXEC_MIME_TYPE][\"id\"];\n",
       "    }\n",
       "    if (output.metadata[EXEC_MIME_TYPE][\"server_id\"] !== undefined) {\n",
       "      var bk_div = document.createElement(\"div\");\n",
       "      bk_div.innerHTML = output.data[HTML_MIME_TYPE];\n",
       "      var script_attrs = bk_div.children[0].attributes;\n",
       "      for (var i = 0; i < script_attrs.length; i++) {\n",
       "        toinsert[toinsert.length - 1].firstChild.setAttribute(script_attrs[i].name, script_attrs[i].value);\n",
       "        toinsert[toinsert.length - 1].firstChild.textContent = bk_div.children[0].textContent\n",
       "      }\n",
       "      // store reference to server id on output_area\n",
       "      output_area._bokeh_server_id = output.metadata[EXEC_MIME_TYPE][\"server_id\"];\n",
       "    }\n",
       "  }\n",
       "\n",
       "  function register_renderer(events, OutputArea) {\n",
       "\n",
       "    function append_mime(data, metadata, element) {\n",
       "      // create a DOM node to render to\n",
       "      var toinsert = this.create_output_subarea(\n",
       "        metadata,\n",
       "        CLASS_NAME,\n",
       "        EXEC_MIME_TYPE\n",
       "      );\n",
       "      this.keyboard_manager.register_events(toinsert);\n",
       "      // Render to node\n",
       "      var props = {data: data, metadata: metadata[EXEC_MIME_TYPE]};\n",
       "      render(props, toinsert[toinsert.length - 1]);\n",
       "      element.append(toinsert);\n",
       "      return toinsert\n",
       "    }\n",
       "\n",
       "    /* Handle when an output is cleared or removed */\n",
       "    events.on('clear_output.CodeCell', handleClearOutput);\n",
       "    events.on('delete.Cell', handleClearOutput);\n",
       "\n",
       "    /* Handle when a new output is added */\n",
       "    events.on('output_added.OutputArea', handleAddOutput);\n",
       "\n",
       "    /**\n",
       "     * Register the mime type and append_mime function with output_area\n",
       "     */\n",
       "    OutputArea.prototype.register_mime_type(EXEC_MIME_TYPE, append_mime, {\n",
       "      /* Is output safe? */\n",
       "      safe: true,\n",
       "      /* Index of renderer in `output_area.display_order` */\n",
       "      index: 0\n",
       "    });\n",
       "  }\n",
       "\n",
       "  // register the mime type if in Jupyter Notebook environment and previously unregistered\n",
       "  if (root.Jupyter !== undefined) {\n",
       "    var events = require('base/js/events');\n",
       "    var OutputArea = require('notebook/js/outputarea').OutputArea;\n",
       "\n",
       "    if (OutputArea.prototype.mime_types().indexOf(EXEC_MIME_TYPE) == -1) {\n",
       "      register_renderer(events, OutputArea);\n",
       "    }\n",
       "  }\n",
       "\n",
       "  \n",
       "  if (typeof (root._bokeh_timeout) === \"undefined\" || force === true) {\n",
       "    root._bokeh_timeout = Date.now() + 5000;\n",
       "    root._bokeh_failed_load = false;\n",
       "  }\n",
       "\n",
       "  var NB_LOAD_WARNING = {'data': {'text/html':\n",
       "     \"<div style='background-color: #fdd'>\\n\"+\n",
       "     \"<p>\\n\"+\n",
       "     \"BokehJS does not appear to have successfully loaded. If loading BokehJS from CDN, this \\n\"+\n",
       "     \"may be due to a slow or bad network connection. Possible fixes:\\n\"+\n",
       "     \"</p>\\n\"+\n",
       "     \"<ul>\\n\"+\n",
       "     \"<li>re-rerun `output_notebook()` to attempt to load from CDN again, or</li>\\n\"+\n",
       "     \"<li>use INLINE resources instead, as so:</li>\\n\"+\n",
       "     \"</ul>\\n\"+\n",
       "     \"<code>\\n\"+\n",
       "     \"from bokeh.resources import INLINE\\n\"+\n",
       "     \"output_notebook(resources=INLINE)\\n\"+\n",
       "     \"</code>\\n\"+\n",
       "     \"</div>\"}};\n",
       "\n",
       "  function display_loaded() {\n",
       "    var el = document.getElementById(\"1001\");\n",
       "    if (el != null) {\n",
       "      el.textContent = \"BokehJS is loading...\";\n",
       "    }\n",
       "    if (root.Bokeh !== undefined) {\n",
       "      if (el != null) {\n",
       "        el.textContent = \"BokehJS \" + root.Bokeh.version + \" successfully loaded.\";\n",
       "      }\n",
       "    } else if (Date.now() < root._bokeh_timeout) {\n",
       "      setTimeout(display_loaded, 100)\n",
       "    }\n",
       "  }\n",
       "\n",
       "\n",
       "  function run_callbacks() {\n",
       "    try {\n",
       "      root._bokeh_onload_callbacks.forEach(function(callback) {\n",
       "        if (callback != null)\n",
       "          callback();\n",
       "      });\n",
       "    } finally {\n",
       "      delete root._bokeh_onload_callbacks\n",
       "    }\n",
       "    console.debug(\"Bokeh: all callbacks have finished\");\n",
       "  }\n",
       "\n",
       "  function load_libs(css_urls, js_urls, callback) {\n",
       "    if (css_urls == null) css_urls = [];\n",
       "    if (js_urls == null) js_urls = [];\n",
       "\n",
       "    root._bokeh_onload_callbacks.push(callback);\n",
       "    if (root._bokeh_is_loading > 0) {\n",
       "      console.debug(\"Bokeh: BokehJS is being loaded, scheduling callback at\", now());\n",
       "      return null;\n",
       "    }\n",
       "    if (js_urls == null || js_urls.length === 0) {\n",
       "      run_callbacks();\n",
       "      return null;\n",
       "    }\n",
       "    console.debug(\"Bokeh: BokehJS not loaded, scheduling load and callback at\", now());\n",
       "    root._bokeh_is_loading = css_urls.length + js_urls.length;\n",
       "\n",
       "    function on_load() {\n",
       "      root._bokeh_is_loading--;\n",
       "      if (root._bokeh_is_loading === 0) {\n",
       "        console.debug(\"Bokeh: all BokehJS libraries/stylesheets loaded\");\n",
       "        run_callbacks()\n",
       "      }\n",
       "    }\n",
       "\n",
       "    function on_error() {\n",
       "      console.error(\"failed to load \" + url);\n",
       "    }\n",
       "\n",
       "    for (var i = 0; i < css_urls.length; i++) {\n",
       "      var url = css_urls[i];\n",
       "      const element = document.createElement(\"link\");\n",
       "      element.onload = on_load;\n",
       "      element.onerror = on_error;\n",
       "      element.rel = \"stylesheet\";\n",
       "      element.type = \"text/css\";\n",
       "      element.href = url;\n",
       "      console.debug(\"Bokeh: injecting link tag for BokehJS stylesheet: \", url);\n",
       "      document.body.appendChild(element);\n",
       "    }\n",
       "\n",
       "    const hashes = {\"https://cdn.bokeh.org/bokeh/release/bokeh-2.2.3.min.js\": \"T2yuo9Oe71Cz/I4X9Ac5+gpEa5a8PpJCDlqKYO0CfAuEszu1JrXLl8YugMqYe3sM\", \"https://cdn.bokeh.org/bokeh/release/bokeh-widgets-2.2.3.min.js\": \"98GDGJ0kOMCUMUePhksaQ/GYgB3+NH9h996V88sh3aOiUNX3N+fLXAtry6xctSZ6\", \"https://cdn.bokeh.org/bokeh/release/bokeh-tables-2.2.3.min.js\": \"89bArO+nlbP3sgakeHjCo1JYxYR5wufVgA3IbUvDY+K7w4zyxJqssu7wVnfeKCq8\"};\n",
       "\n",
       "    for (var i = 0; i < js_urls.length; i++) {\n",
       "      var url = js_urls[i];\n",
       "      var element = document.createElement('script');\n",
       "      element.onload = on_load;\n",
       "      element.onerror = on_error;\n",
       "      element.async = false;\n",
       "      element.src = url;\n",
       "      if (url in hashes) {\n",
       "        element.crossOrigin = \"anonymous\";\n",
       "        element.integrity = \"sha384-\" + hashes[url];\n",
       "      }\n",
       "      console.debug(\"Bokeh: injecting script tag for BokehJS library: \", url);\n",
       "      document.head.appendChild(element);\n",
       "    }\n",
       "  };\n",
       "\n",
       "  function inject_raw_css(css) {\n",
       "    const element = document.createElement(\"style\");\n",
       "    element.appendChild(document.createTextNode(css));\n",
       "    document.body.appendChild(element);\n",
       "  }\n",
       "\n",
       "  \n",
       "  var js_urls = [\"https://cdn.bokeh.org/bokeh/release/bokeh-2.2.3.min.js\", \"https://cdn.bokeh.org/bokeh/release/bokeh-widgets-2.2.3.min.js\", \"https://cdn.bokeh.org/bokeh/release/bokeh-tables-2.2.3.min.js\"];\n",
       "  var css_urls = [];\n",
       "  \n",
       "\n",
       "  var inline_js = [\n",
       "    function(Bokeh) {\n",
       "      Bokeh.set_log_level(\"info\");\n",
       "    },\n",
       "    function(Bokeh) {\n",
       "    \n",
       "    \n",
       "    }\n",
       "  ];\n",
       "\n",
       "  function run_inline_js() {\n",
       "    \n",
       "    if (root.Bokeh !== undefined || force === true) {\n",
       "      \n",
       "    for (var i = 0; i < inline_js.length; i++) {\n",
       "      inline_js[i].call(root, root.Bokeh);\n",
       "    }\n",
       "    if (force === true) {\n",
       "        display_loaded();\n",
       "      }} else if (Date.now() < root._bokeh_timeout) {\n",
       "      setTimeout(run_inline_js, 100);\n",
       "    } else if (!root._bokeh_failed_load) {\n",
       "      console.log(\"Bokeh: BokehJS failed to load within specified timeout.\");\n",
       "      root._bokeh_failed_load = true;\n",
       "    } else if (force !== true) {\n",
       "      var cell = $(document.getElementById(\"1001\")).parents('.cell').data().cell;\n",
       "      cell.output_area.append_execute_result(NB_LOAD_WARNING)\n",
       "    }\n",
       "\n",
       "  }\n",
       "\n",
       "  if (root._bokeh_is_loading === 0) {\n",
       "    console.debug(\"Bokeh: BokehJS loaded, going straight to plotting\");\n",
       "    run_inline_js();\n",
       "  } else {\n",
       "    load_libs(css_urls, js_urls, function() {\n",
       "      console.debug(\"Bokeh: BokehJS plotting callback run at\", now());\n",
       "      run_inline_js();\n",
       "    });\n",
       "  }\n",
       "}(window));"
      ],
      "application/vnd.bokehjs_load.v0+json": "\n(function(root) {\n  function now() {\n    return new Date();\n  }\n\n  var force = true;\n\n  if (typeof root._bokeh_onload_callbacks === \"undefined\" || force === true) {\n    root._bokeh_onload_callbacks = [];\n    root._bokeh_is_loading = undefined;\n  }\n\n  \n\n  \n  if (typeof (root._bokeh_timeout) === \"undefined\" || force === true) {\n    root._bokeh_timeout = Date.now() + 5000;\n    root._bokeh_failed_load = false;\n  }\n\n  var NB_LOAD_WARNING = {'data': {'text/html':\n     \"<div style='background-color: #fdd'>\\n\"+\n     \"<p>\\n\"+\n     \"BokehJS does not appear to have successfully loaded. If loading BokehJS from CDN, this \\n\"+\n     \"may be due to a slow or bad network connection. Possible fixes:\\n\"+\n     \"</p>\\n\"+\n     \"<ul>\\n\"+\n     \"<li>re-rerun `output_notebook()` to attempt to load from CDN again, or</li>\\n\"+\n     \"<li>use INLINE resources instead, as so:</li>\\n\"+\n     \"</ul>\\n\"+\n     \"<code>\\n\"+\n     \"from bokeh.resources import INLINE\\n\"+\n     \"output_notebook(resources=INLINE)\\n\"+\n     \"</code>\\n\"+\n     \"</div>\"}};\n\n  function display_loaded() {\n    var el = document.getElementById(\"1001\");\n    if (el != null) {\n      el.textContent = \"BokehJS is loading...\";\n    }\n    if (root.Bokeh !== undefined) {\n      if (el != null) {\n        el.textContent = \"BokehJS \" + root.Bokeh.version + \" successfully loaded.\";\n      }\n    } else if (Date.now() < root._bokeh_timeout) {\n      setTimeout(display_loaded, 100)\n    }\n  }\n\n\n  function run_callbacks() {\n    try {\n      root._bokeh_onload_callbacks.forEach(function(callback) {\n        if (callback != null)\n          callback();\n      });\n    } finally {\n      delete root._bokeh_onload_callbacks\n    }\n    console.debug(\"Bokeh: all callbacks have finished\");\n  }\n\n  function load_libs(css_urls, js_urls, callback) {\n    if (css_urls == null) css_urls = [];\n    if (js_urls == null) js_urls = [];\n\n    root._bokeh_onload_callbacks.push(callback);\n    if (root._bokeh_is_loading > 0) {\n      console.debug(\"Bokeh: BokehJS is being loaded, scheduling callback at\", now());\n      return null;\n    }\n    if (js_urls == null || js_urls.length === 0) {\n      run_callbacks();\n      return null;\n    }\n    console.debug(\"Bokeh: BokehJS not loaded, scheduling load and callback at\", now());\n    root._bokeh_is_loading = css_urls.length + js_urls.length;\n\n    function on_load() {\n      root._bokeh_is_loading--;\n      if (root._bokeh_is_loading === 0) {\n        console.debug(\"Bokeh: all BokehJS libraries/stylesheets loaded\");\n        run_callbacks()\n      }\n    }\n\n    function on_error() {\n      console.error(\"failed to load \" + url);\n    }\n\n    for (var i = 0; i < css_urls.length; i++) {\n      var url = css_urls[i];\n      const element = document.createElement(\"link\");\n      element.onload = on_load;\n      element.onerror = on_error;\n      element.rel = \"stylesheet\";\n      element.type = \"text/css\";\n      element.href = url;\n      console.debug(\"Bokeh: injecting link tag for BokehJS stylesheet: \", url);\n      document.body.appendChild(element);\n    }\n\n    const hashes = {\"https://cdn.bokeh.org/bokeh/release/bokeh-2.2.3.min.js\": \"T2yuo9Oe71Cz/I4X9Ac5+gpEa5a8PpJCDlqKYO0CfAuEszu1JrXLl8YugMqYe3sM\", \"https://cdn.bokeh.org/bokeh/release/bokeh-widgets-2.2.3.min.js\": \"98GDGJ0kOMCUMUePhksaQ/GYgB3+NH9h996V88sh3aOiUNX3N+fLXAtry6xctSZ6\", \"https://cdn.bokeh.org/bokeh/release/bokeh-tables-2.2.3.min.js\": \"89bArO+nlbP3sgakeHjCo1JYxYR5wufVgA3IbUvDY+K7w4zyxJqssu7wVnfeKCq8\"};\n\n    for (var i = 0; i < js_urls.length; i++) {\n      var url = js_urls[i];\n      var element = document.createElement('script');\n      element.onload = on_load;\n      element.onerror = on_error;\n      element.async = false;\n      element.src = url;\n      if (url in hashes) {\n        element.crossOrigin = \"anonymous\";\n        element.integrity = \"sha384-\" + hashes[url];\n      }\n      console.debug(\"Bokeh: injecting script tag for BokehJS library: \", url);\n      document.head.appendChild(element);\n    }\n  };\n\n  function inject_raw_css(css) {\n    const element = document.createElement(\"style\");\n    element.appendChild(document.createTextNode(css));\n    document.body.appendChild(element);\n  }\n\n  \n  var js_urls = [\"https://cdn.bokeh.org/bokeh/release/bokeh-2.2.3.min.js\", \"https://cdn.bokeh.org/bokeh/release/bokeh-widgets-2.2.3.min.js\", \"https://cdn.bokeh.org/bokeh/release/bokeh-tables-2.2.3.min.js\"];\n  var css_urls = [];\n  \n\n  var inline_js = [\n    function(Bokeh) {\n      Bokeh.set_log_level(\"info\");\n    },\n    function(Bokeh) {\n    \n    \n    }\n  ];\n\n  function run_inline_js() {\n    \n    if (root.Bokeh !== undefined || force === true) {\n      \n    for (var i = 0; i < inline_js.length; i++) {\n      inline_js[i].call(root, root.Bokeh);\n    }\n    if (force === true) {\n        display_loaded();\n      }} else if (Date.now() < root._bokeh_timeout) {\n      setTimeout(run_inline_js, 100);\n    } else if (!root._bokeh_failed_load) {\n      console.log(\"Bokeh: BokehJS failed to load within specified timeout.\");\n      root._bokeh_failed_load = true;\n    } else if (force !== true) {\n      var cell = $(document.getElementById(\"1001\")).parents('.cell').data().cell;\n      cell.output_area.append_execute_result(NB_LOAD_WARNING)\n    }\n\n  }\n\n  if (root._bokeh_is_loading === 0) {\n    console.debug(\"Bokeh: BokehJS loaded, going straight to plotting\");\n    run_inline_js();\n  } else {\n    load_libs(css_urls, js_urls, function() {\n      console.debug(\"Bokeh: BokehJS plotting callback run at\", now());\n      run_inline_js();\n    });\n  }\n}(window));"
     },
     "metadata": {},
     "output_type": "display_data"
    }
   ],
   "source": [
    "output_notebook()"
   ]
  },
  {
   "cell_type": "code",
   "execution_count": 21,
   "metadata": {
    "tags": []
   },
   "outputs": [
    {
     "data": {
      "text/html": [
       "\n",
       "\n",
       "\n",
       "\n",
       "\n",
       "\n",
       "  <div class=\"bk-root\" id=\"909d2ea3-8e1a-44aa-8f54-479d0daadcd1\" data-root-id=\"1004\"></div>\n"
      ]
     },
     "metadata": {},
     "output_type": "display_data"
    },
    {
     "data": {
      "application/javascript": [
       "(function(root) {\n",
       "  function embed_document(root) {\n",
       "    \n",
       "  var docs_json = {\"6400e48e-4449-4abb-919e-142ddf20eb86\":{\"roots\":{\"references\":[{\"attributes\":{\"below\":[{\"id\":\"1013\"}],\"center\":[{\"id\":\"1016\"},{\"id\":\"1020\"}],\"left\":[{\"id\":\"1017\"}],\"renderers\":[{\"id\":\"1032\"}],\"title\":{\"id\":\"1005\"},\"toolbar\":{\"id\":\"1026\"},\"x_range\":{\"id\":\"1002\"},\"x_scale\":{\"id\":\"1009\"},\"y_range\":{\"id\":\"1003\"},\"y_scale\":{\"id\":\"1011\"}},\"id\":\"1004\",\"subtype\":\"Figure\",\"type\":\"Plot\"},{\"attributes\":{},\"id\":\"1054\",\"type\":\"BasicTickFormatter\"},{\"attributes\":{},\"id\":\"1056\",\"type\":\"BasicTickFormatter\"},{\"attributes\":{},\"id\":\"1067\",\"type\":\"Selection\"},{\"attributes\":{},\"id\":\"1068\",\"type\":\"UnionRenderers\"},{\"attributes\":{\"line_alpha\":{\"value\":0.5}},\"id\":\"1047\",\"type\":\"MultiLine\"},{\"attributes\":{\"text\":\"graph rooted in adaa778f-62d8-476f-a774-4a3877a53d05\"},\"id\":\"1005\",\"type\":\"Title\"},{\"attributes\":{\"end\":10.1,\"start\":-10.1},\"id\":\"1002\",\"type\":\"Range1d\"},{\"attributes\":{},\"id\":\"1011\",\"type\":\"LinearScale\"},{\"attributes\":{\"data\":{\"index\":[\"ingredient_run [adaa778f-62d8-476f-a774-4a3877a53d05]\",\"material_run [5c6e208a-7c91-49d5-a6ba-023911c32910]\",\"ingredient_spec [276a2071-594e-4c36-bf81-a867cf78ce50]\",\"process_run [58d4bf30-de0d-4972-8600-7dd33e71b070]\",\"process_spec [5c649b97-6770-487e-834d-c228a314b77d]\",\"process_template [ee2196b4-b0eb-4c47-b2ff-4ba3fa58f25e]\",\"material_spec [7595a295-533f-406a-8b0a-eccd4b130760]\",\"process_spec [ed82e185-d722-4b3a-a72a-5c80d42a476c]\",\"material_template [44b8ff23-00dd-4551-8196-68cef7f02b96]\",\"process_template [b33ea835-56e3-4b5e-88ba-eb17be32e4bd]\",\"material_spec [e83b3018-8dea-439f-83bb-ae35c0cb1c94]\",\"process_run [cc7b3c40-af3e-41c8-844b-7315cd01ab54]\",\"process_spec [aba8d3b2-4103-4993-8c3b-6fa0774b721c]\",\"process_template [66157c71-b4b4-42a6-8354-c9a698c8e4db]\"]},\"selected\":{\"id\":\"1067\"},\"selection_policy\":{\"id\":\"1068\"}},\"id\":\"1034\",\"type\":\"ColumnDataSource\"},{\"attributes\":{},\"id\":\"1009\",\"type\":\"LinearScale\"},{\"attributes\":{},\"id\":\"1066\",\"type\":\"NodesOnly\"},{\"attributes\":{},\"id\":\"1069\",\"type\":\"Selection\"},{\"attributes\":{\"end\":10.1,\"start\":-10.1},\"id\":\"1003\",\"type\":\"Range1d\"},{\"attributes\":{},\"id\":\"1065\",\"type\":\"NodesOnly\"},{\"attributes\":{},\"id\":\"1070\",\"type\":\"UnionRenderers\"},{\"attributes\":{\"fill_color\":{\"value\":\"skyblue\"},\"size\":{\"units\":\"screen\",\"value\":15}},\"id\":\"1042\",\"type\":\"Circle\"},{\"attributes\":{\"data\":{\"end\":[\"material_run [5c6e208a-7c91-49d5-a6ba-023911c32910]\",\"ingredient_spec [276a2071-594e-4c36-bf81-a867cf78ce50]\",\"process_run [58d4bf30-de0d-4972-8600-7dd33e71b070]\",\"material_spec [e83b3018-8dea-439f-83bb-ae35c0cb1c94]\",\"process_run [cc7b3c40-af3e-41c8-844b-7315cd01ab54]\",\"material_spec [7595a295-533f-406a-8b0a-eccd4b130760]\",\"process_spec [5c649b97-6770-487e-834d-c228a314b77d]\",\"process_spec [5c649b97-6770-487e-834d-c228a314b77d]\",\"process_template [ee2196b4-b0eb-4c47-b2ff-4ba3fa58f25e]\",\"process_spec [ed82e185-d722-4b3a-a72a-5c80d42a476c]\",\"material_template [44b8ff23-00dd-4551-8196-68cef7f02b96]\",\"process_template [b33ea835-56e3-4b5e-88ba-eb17be32e4bd]\",\"material_template [44b8ff23-00dd-4551-8196-68cef7f02b96]\",\"process_spec [aba8d3b2-4103-4993-8c3b-6fa0774b721c]\",\"process_spec [aba8d3b2-4103-4993-8c3b-6fa0774b721c]\",\"process_template [66157c71-b4b4-42a6-8354-c9a698c8e4db]\"],\"start\":[\"ingredient_run [adaa778f-62d8-476f-a774-4a3877a53d05]\",\"ingredient_run [adaa778f-62d8-476f-a774-4a3877a53d05]\",\"ingredient_run [adaa778f-62d8-476f-a774-4a3877a53d05]\",\"material_run [5c6e208a-7c91-49d5-a6ba-023911c32910]\",\"material_run [5c6e208a-7c91-49d5-a6ba-023911c32910]\",\"ingredient_spec [276a2071-594e-4c36-bf81-a867cf78ce50]\",\"ingredient_spec [276a2071-594e-4c36-bf81-a867cf78ce50]\",\"process_run [58d4bf30-de0d-4972-8600-7dd33e71b070]\",\"process_spec [5c649b97-6770-487e-834d-c228a314b77d]\",\"material_spec [7595a295-533f-406a-8b0a-eccd4b130760]\",\"material_spec [7595a295-533f-406a-8b0a-eccd4b130760]\",\"process_spec [ed82e185-d722-4b3a-a72a-5c80d42a476c]\",\"material_spec [e83b3018-8dea-439f-83bb-ae35c0cb1c94]\",\"material_spec [e83b3018-8dea-439f-83bb-ae35c0cb1c94]\",\"process_run [cc7b3c40-af3e-41c8-844b-7315cd01ab54]\",\"process_spec [aba8d3b2-4103-4993-8c3b-6fa0774b721c]\"]},\"selected\":{\"id\":\"1069\"},\"selection_policy\":{\"id\":\"1070\"}},\"id\":\"1038\",\"type\":\"ColumnDataSource\"},{\"attributes\":{\"formatter\":{\"id\":\"1054\"},\"ticker\":{\"id\":\"1014\"}},\"id\":\"1013\",\"type\":\"LinearAxis\"},{\"attributes\":{},\"id\":\"1014\",\"type\":\"BasicTicker\"},{\"attributes\":{\"axis\":{\"id\":\"1013\"},\"ticker\":null},\"id\":\"1016\",\"type\":\"Grid\"},{\"attributes\":{\"formatter\":{\"id\":\"1056\"},\"ticker\":{\"id\":\"1018\"}},\"id\":\"1017\",\"type\":\"LinearAxis\"},{\"attributes\":{\"axis\":{\"id\":\"1017\"},\"dimension\":1,\"ticker\":null},\"id\":\"1020\",\"type\":\"Grid\"},{\"attributes\":{\"active_drag\":\"auto\",\"active_inspect\":\"auto\",\"active_multi\":null,\"active_scroll\":{\"id\":\"1022\"},\"active_tap\":\"auto\",\"tools\":[{\"id\":\"1021\"},{\"id\":\"1022\"},{\"id\":\"1023\"},{\"id\":\"1024\"},{\"id\":\"1025\"}]},\"id\":\"1026\",\"type\":\"Toolbar\"},{\"attributes\":{},\"id\":\"1018\",\"type\":\"BasicTicker\"},{\"attributes\":{\"data_source\":{\"id\":\"1034\"},\"glyph\":{\"id\":\"1042\"},\"hover_glyph\":null,\"muted_glyph\":null,\"view\":{\"id\":\"1036\"}},\"id\":\"1035\",\"type\":\"GlyphRenderer\"},{\"attributes\":{\"callback\":null,\"tooltips\":[[\"Source\",\"@index\"]]},\"id\":\"1025\",\"type\":\"HoverTool\"},{\"attributes\":{},\"id\":\"1021\",\"type\":\"PanTool\"},{\"attributes\":{\"edge_renderer\":{\"id\":\"1039\"},\"inspection_policy\":{\"id\":\"1065\"},\"layout_provider\":{\"id\":\"1041\"},\"node_renderer\":{\"id\":\"1035\"},\"selection_policy\":{\"id\":\"1066\"}},\"id\":\"1032\",\"type\":\"GraphRenderer\"},{\"attributes\":{\"source\":{\"id\":\"1034\"}},\"id\":\"1036\",\"type\":\"CDSView\"},{\"attributes\":{},\"id\":\"1022\",\"type\":\"WheelZoomTool\"},{\"attributes\":{},\"id\":\"1023\",\"type\":\"SaveTool\"},{\"attributes\":{},\"id\":\"1024\",\"type\":\"ResetTool\"},{\"attributes\":{\"data_source\":{\"id\":\"1038\"},\"glyph\":{\"id\":\"1047\"},\"hover_glyph\":null,\"muted_glyph\":null,\"view\":{\"id\":\"1040\"}},\"id\":\"1039\",\"type\":\"GlyphRenderer\"},{\"attributes\":{\"source\":{\"id\":\"1038\"}},\"id\":\"1040\",\"type\":\"CDSView\"},{\"attributes\":{\"graph_layout\":{\"ingredient_run [adaa778f-62d8-476f-a774-4a3877a53d05]\":[0.9372753422566723,-2.376908848057217],\"ingredient_spec [276a2071-594e-4c36-bf81-a867cf78ce50]\":[0.36655519973941836,-2.6550502189722707],\"material_run [5c6e208a-7c91-49d5-a6ba-023911c32910]\":[1.87687793948651,2.1372204293124994],\"material_spec [7595a295-533f-406a-8b0a-eccd4b130760]\":[0.9327501573886505,3.6622748011709327],\"material_spec [e83b3018-8dea-439f-83bb-ae35c0cb1c94]\":[3.059014055213058,3.9648227152211604],\"material_template [44b8ff23-00dd-4551-8196-68cef7f02b96]\":[7.49016388364678,4.531248097670971],\"process_run [58d4bf30-de0d-4972-8600-7dd33e71b070]\":[-0.1303793424268352,-6.8495468901693854],\"process_run [cc7b3c40-af3e-41c8-844b-7315cd01ab54]\":[-0.3194070989896121,1.8496384988937071],\"process_spec [5c649b97-6770-487e-834d-c228a314b77d]\":[-0.09353692251392741,-8.9211954078079],\"process_spec [aba8d3b2-4103-4993-8c3b-6fa0774b721c]\":[-1.4528690174292416,3.3030959016409507],\"process_spec [ed82e185-d722-4b3a-a72a-5c80d42a476c]\":[-5.630663300949079,2.7155252985201583],\"process_template [66157c71-b4b4-42a6-8354-c9a698c8e4db]\":[-2.415588408721506,5.18320504209049],\"process_template [b33ea835-56e3-4b5e-88ba-eb17be32e4bd]\":[-4.9393371042284295,3.4556705804858985],\"process_template [ee2196b4-b0eb-4c47-b2ff-4ba3fa58f25e]\":[0.3191446175275394,-10.0]}},\"id\":\"1041\",\"type\":\"StaticLayoutProvider\"}],\"root_ids\":[\"1004\"]},\"title\":\"Bokeh Application\",\"version\":\"2.2.3\"}};\n",
       "  var render_items = [{\"docid\":\"6400e48e-4449-4abb-919e-142ddf20eb86\",\"root_ids\":[\"1004\"],\"roots\":{\"1004\":\"909d2ea3-8e1a-44aa-8f54-479d0daadcd1\"}}];\n",
       "  root.Bokeh.embed.embed_items_notebook(docs_json, render_items);\n",
       "\n",
       "  }\n",
       "  if (root.Bokeh !== undefined) {\n",
       "    embed_document(root);\n",
       "  } else {\n",
       "    var attempts = 0;\n",
       "    var timer = setInterval(function(root) {\n",
       "      if (root.Bokeh !== undefined) {\n",
       "        clearInterval(timer);\n",
       "        embed_document(root);\n",
       "      } else {\n",
       "        attempts++;\n",
       "        if (attempts > 100) {\n",
       "          clearInterval(timer);\n",
       "          console.log(\"Bokeh: ERROR: Unable to run BokehJS code because BokehJS library is missing\");\n",
       "        }\n",
       "      }\n",
       "    }, 10, root)\n",
       "  }\n",
       "})(window);"
      ],
      "application/vnd.bokehjs_exec.v0+json": ""
     },
     "metadata": {
      "application/vnd.bokehjs_exec.v0+json": {
       "id": "1004"
      }
     },
     "output_type": "display_data"
    }
   ],
   "source": [
    "#Choose a title!\n",
    "title = f'graph rooted in {UID}'\n",
    "\n",
    "#Establish which categories will appear when hovering over each node\n",
    "HOVER_TOOLTIPS = [(\"Source\", \"@index\")]\n",
    "\n",
    "#Create a plot — set dimensions, toolbar, and title\n",
    "plot = figure(tools=\"pan,wheel_zoom,save,reset\", active_scroll='wheel_zoom',\n",
    "              tooltips = HOVER_TOOLTIPS,\n",
    "              x_range=Range1d(-10.1, 10.1), y_range=Range1d(-10.1, 10.1), title=title)\n",
    "\n",
    "#Create a network graph object with spring layout\n",
    "# https://networkx.github.io/documentation/networkx-1.9/reference/generated/networkx.drawing.layout.spring_layout.html\n",
    "network_graph = from_networkx(G, nx.spring_layout, scale=10, center=(0, 0))\n",
    "\n",
    "#Set node size and color\n",
    "network_graph.node_renderer.glyph = Circle(size=15, fill_color='skyblue')\n",
    "\n",
    "#Set edge opacity and width\n",
    "network_graph.edge_renderer.glyph = MultiLine(line_alpha=0.5, line_width=1)\n",
    "\n",
    "#Add network graph to the plot\n",
    "plot.renderers.append(network_graph)\n",
    "\n",
    "show(plot)\n",
    "# save(plot, filename=f\"{title}.html\")"
   ]
  },
  {
   "cell_type": "markdown",
   "metadata": {},
   "source": [
    "## plot using netgraph\n",
    "Seeming problems in JupyterLab"
   ]
  },
  {
   "cell_type": "code",
   "execution_count": 22,
   "metadata": {},
   "outputs": [
    {
     "name": "stdout",
     "output_type": "stream",
     "text": [
      "Requirement already satisfied: netgraph in /home/idies/miniconda3/envs/py38/lib/python3.8/site-packages (4.10.1)\n",
      "Requirement already satisfied: scipy in /home/idies/miniconda3/envs/py38/lib/python3.8/site-packages (from netgraph) (1.6.0)\n",
      "Requirement already satisfied: numpy in /home/idies/miniconda3/envs/py38/lib/python3.8/site-packages (from netgraph) (1.24.3)\n",
      "Requirement already satisfied: grandalf in /home/idies/miniconda3/envs/py38/lib/python3.8/site-packages (from netgraph) (0.7)\n",
      "Requirement already satisfied: rectangle-packer in /home/idies/miniconda3/envs/py38/lib/python3.8/site-packages (from netgraph) (2.0.1)\n",
      "Requirement already satisfied: matplotlib in /home/idies/miniconda3/envs/py38/lib/python3.8/site-packages (from netgraph) (3.3.2)\n",
      "Requirement already satisfied: pyparsing in /home/idies/miniconda3/envs/py38/lib/python3.8/site-packages (from grandalf->netgraph) (2.4.7)\n",
      "Requirement already satisfied: pillow>=6.2.0 in /home/idies/miniconda3/envs/py38/lib/python3.8/site-packages (from matplotlib->netgraph) (8.0.1)\n",
      "Requirement already satisfied: certifi>=2020.06.20 in /home/idies/miniconda3/envs/py38/lib/python3.8/site-packages (from matplotlib->netgraph) (2020.12.5)\n",
      "Requirement already satisfied: kiwisolver>=1.0.1 in /home/idies/miniconda3/envs/py38/lib/python3.8/site-packages (from matplotlib->netgraph) (1.3.0)\n",
      "Requirement already satisfied: cycler>=0.10 in /home/idies/miniconda3/envs/py38/lib/python3.8/site-packages (from matplotlib->netgraph) (0.10.0)\n",
      "Requirement already satisfied: python-dateutil>=2.1 in /home/idies/miniconda3/envs/py38/lib/python3.8/site-packages (from matplotlib->netgraph) (2.8.2)\n",
      "Requirement already satisfied: six in /home/idies/miniconda3/envs/py38/lib/python3.8/site-packages (from cycler>=0.10->matplotlib->netgraph) (1.16.0)\n",
      "Note: you may need to restart the kernel to use updated packages.\n"
     ]
    }
   ],
   "source": [
    "pip install netgraph"
   ]
  },
  {
   "cell_type": "code",
   "execution_count": 23,
   "metadata": {},
   "outputs": [],
   "source": [
    "import netgraph # "
   ]
  },
  {
   "cell_type": "code",
   "execution_count": 24,
   "metadata": {},
   "outputs": [],
   "source": [
    "%matplotlib notebook\n",
    "import IPython"
   ]
  },
  {
   "cell_type": "code",
   "execution_count": null,
   "metadata": {
    "tags": []
   },
   "outputs": [],
   "source": [
    "import numpy as np\n",
    "import matplotlib.pyplot as plt; plt.ion()\n",
    "import networkx\n",
    "\n",
    "\n",
    "# Construct sparse, directed, weighted graph\n",
    "total_nodes = 20\n",
    "weights = np.random.rand(total_nodes, total_nodes)\n",
    "connection_probability = 0.1\n",
    "is_connected = np.random.rand(total_nodes, total_nodes) <= connection_probability\n",
    "graph = np.zeros((total_nodes, total_nodes))\n",
    "graph[is_connected] = weights[is_connected]\n",
    "\n",
    "# construct a networkx graph\n",
    "# g = networkx.from_numpy_array(graph, networkx.DiGraph)\n",
    "\n",
    "# decide on a layout\n",
    "pos = networkx.layout.spring_layout(G)\n",
    "\n",
    "# Create an interactive plot.\n",
    "# NOTE: you must retain a reference to the object instance!\n",
    "# Otherwise the whole thing will be garbage collected after the initial draw\n",
    "# and you won't be able to move the plot elements around.\n",
    "plot_instance = netgraph.InteractiveGraph(G, node_positions=pos)\n",
    "\n",
    "######## drag nodes around #########\n",
    "\n",
    "# To access the new node positions:\n",
    "node_positions = plot_instance.node_positions"
   ]
  },
  {
   "cell_type": "markdown",
   "metadata": {},
   "source": [
    "## display using pydot\n",
    "Not interactive."
   ]
  },
  {
   "cell_type": "code",
   "execution_count": null,
   "metadata": {},
   "outputs": [],
   "source": [
    "%pip install pydot"
   ]
  },
  {
   "cell_type": "code",
   "execution_count": 26,
   "metadata": {},
   "outputs": [],
   "source": [
    "import pydot\n",
    "from IPython.display import Image, display\n",
    "\n",
    "def view_pydot(pdot):\n",
    "    plt = Image(pdot.create_png())\n",
    "    display(plt)"
   ]
  },
  {
   "cell_type": "code",
   "execution_count": 27,
   "metadata": {},
   "outputs": [
    {
     "data": {
      "image/png": "[encoded data removed]",
      "text/plain": [
       "<IPython.core.display.Image object>"
      ]
     },
     "metadata": {},
     "output_type": "display_data"
    }
   ],
   "source": [
    "dotG=nx.nx_pydot.to_pydot(G)\n",
    "view_pydot(dotG)"
   ]
  },
  {
   "cell_type": "markdown",
   "metadata": {},
   "source": [
    "# yfiles_jupyter_graphs"
   ]
  },
  {
   "cell_type": "code",
   "execution_count": 13,
   "metadata": {
    "execution": {
     "iopub.execute_input": "2023-06-21T13:13:53.756059Z",
     "iopub.status.busy": "2023-06-21T13:13:53.755506Z",
     "iopub.status.idle": "2023-06-21T13:13:53.764856Z",
     "shell.execute_reply": "2023-06-21T13:13:53.763033Z",
     "shell.execute_reply.started": "2023-06-21T13:13:53.756007Z"
    },
    "tags": []
   },
   "outputs": [],
   "source": [
    "from yfiles_jupyter_graphs import GraphWidget\n",
    "from networkx import Graph, DiGraph, MultiGraph, MultiDiGraph, path_graph"
   ]
  },
  {
   "cell_type": "code",
   "execution_count": 20,
   "metadata": {
    "execution": {
     "iopub.execute_input": "2023-06-21T15:44:05.532988Z",
     "iopub.status.busy": "2023-06-21T15:44:05.532143Z",
     "iopub.status.idle": "2023-06-21T15:44:05.557486Z",
     "shell.execute_reply": "2023-06-21T15:44:05.555301Z",
     "shell.execute_reply.started": "2023-06-21T15:44:05.532906Z"
    },
    "tags": []
   },
   "outputs": [],
   "source": [
    "def _widget(graph):\n",
    "    # helper function\n",
    "    # print(graph)\n",
    "    # print('-'*40)\n",
    "    return GraphWidget(graph = graph)"
   ]
  },
  {
   "cell_type": "code",
   "execution_count": 25,
   "metadata": {
    "execution": {
     "iopub.execute_input": "2023-06-21T20:31:12.845457Z",
     "iopub.status.busy": "2023-06-21T20:31:12.844847Z",
     "iopub.status.idle": "2023-06-21T20:31:12.897527Z",
     "shell.execute_reply": "2023-06-21T20:31:12.895860Z",
     "shell.execute_reply.started": "2023-06-21T20:31:12.845394Z"
    },
    "tags": []
   },
   "outputs": [
    {
     "data": {
      "application/vnd.jupyter.widget-view+json": {
       "model_id": "80703b77dd7140478f30a64f4cc9c271",
       "version_major": 2,
       "version_minor": 0
      },
      "text/plain": [
       "GraphWidget(layout=Layout(height='500px', width='100%'))"
      ]
     },
     "metadata": {},
     "output_type": "display_data"
    }
   ],
   "source": [
    "GraphWidget(graph=G)"
   ]
  },
  {
   "cell_type": "code",
   "execution_count": 22,
   "metadata": {
    "execution": {
     "iopub.execute_input": "2023-06-21T15:44:39.012337Z",
     "iopub.status.busy": "2023-06-21T15:44:39.011727Z",
     "iopub.status.idle": "2023-06-21T15:44:39.029620Z",
     "shell.execute_reply": "2023-06-21T15:44:39.027837Z",
     "shell.execute_reply.started": "2023-06-21T15:44:39.012284Z"
    }
   },
   "outputs": [],
   "source": [
    "def make_graph(graph_class):\n",
    "    G = graph_class(day=\"Friday\")\n",
    "    G.add_node(\"origin\")\n",
    "    G.add_node(1)\n",
    "    G.add_nodes_from([2, 3])\n",
    "    H = path_graph(10)\n",
    "    G.add_nodes_from(H)\n",
    "    G.add_edge(1, 2)\n",
    "    G.add_edges_from([(1, 2), (1, 3)])\n",
    "    G.add_edges_from(H.edges)\n",
    "    G.add_node(1, time=\"5pm\")\n",
    "    G.add_nodes_from([3], time=\"2pm\")\n",
    "    for n in G.nodes:\n",
    "        G.add_edge(\"origin\", n)\n",
    "    G.nodes[1][\"room\"] = 714\n",
    "    G.add_edge(1, 2, weight=4.7)\n",
    "    G.add_edges_from([(3, 4), (4, 5)], color=\"red\")\n",
    "    G.add_edges_from([(1, 2, {\"color\": \"blue\"}), (2, 3, {\"weight\": 8})])\n",
    "    G[1][2][\"weight\"] = 4.7\n",
    "    G.edges[1, 2][\"weight\"] = 4\n",
    "    return G"
   ]
  },
  {
   "cell_type": "code",
   "execution_count": 26,
   "metadata": {
    "execution": {
     "iopub.execute_input": "2023-06-21T20:49:40.799963Z",
     "iopub.status.busy": "2023-06-21T20:49:40.799116Z",
     "iopub.status.idle": "2023-06-21T20:49:40.882256Z",
     "shell.execute_reply": "2023-06-21T20:49:40.879969Z",
     "shell.execute_reply.started": "2023-06-21T20:49:40.799910Z"
    },
    "tags": []
   },
   "outputs": [
    {
     "data": {
      "application/vnd.jupyter.widget-view+json": {
       "model_id": "44a5ab5ee74e478f92e0f64f572d897e",
       "version_major": 2,
       "version_minor": 0
      },
      "text/plain": [
       "GraphWidget(layout=Layout(height='500px', width='100%'))"
      ]
     },
     "metadata": {},
     "output_type": "display_data"
    }
   ],
   "source": [
    "GraphWidget(graph = make_graph(DiGraph))"
   ]
  },
  {
   "cell_type": "code",
   "execution_count": null,
   "metadata": {},
   "outputs": [],
   "source": []
  }
 ],
 "metadata": {
  "kernelspec": {
   "display_name": "Python 3.9 (py39)",
   "language": "python",
   "name": "py39"
  },
  "language_info": {
   "codemirror_mode": {
    "name": "ipython",
    "version": 3
   },
   "file_extension": ".py",
   "mimetype": "text/x-python",
   "name": "python",
   "nbconvert_exporter": "python",
   "pygments_lexer": "ipython3",
   "version": "3.9.7"
  }
 },
 "nbformat": 4,
 "nbformat_minor": 4
}
