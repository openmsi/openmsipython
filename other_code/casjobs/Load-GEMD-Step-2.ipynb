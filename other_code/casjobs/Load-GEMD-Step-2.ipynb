{
 "cells": [
  {
   "cell_type": "markdown",
   "metadata": {},
   "source": [
    "# Load GEMD files in database\n",
    "This code is for information purposes onlny as it requires permissions on our SciServer system that users of this repo will not in general posess. The database schema is defined by files in the database_design subfolder.\n",
    "\n",
    "#### NB parts of this code can only be run by someone with direct credentials to the database"
   ]
  },
  {
   "cell_type": "code",
   "execution_count": null,
   "metadata": {},
   "outputs": [],
   "source": [
    "import glob\n",
    "import json\n",
    "import random\n",
    "import pandas\n",
    "import pprint\n",
    "import sys\n",
    "import json\n",
    "import numpy as np\n",
    "import pymssql"
   ]
  },
  {
   "cell_type": "code",
   "execution_count": null,
   "metadata": {},
   "outputs": [],
   "source": [
    "from gemd_database import MSSQLDatabase"
   ]
  },
  {
   "cell_type": "code",
   "execution_count": null,
   "metadata": {},
   "outputs": [],
   "source": [
    "with open('/home/idies/workspace/persistent/.private/gemd.json','r') as f:\n",
    "    AUTH = json.load(f)\n",
    "GEMDDB=MSSQLDatabase(AUTH,'GEMD')"
   ]
  },
  {
   "cell_type": "markdown",
   "metadata": {},
   "source": [
    "# add more explicit tables and views\n",
    "For each of the main object types create table/view and extract somewhat more explicit metadata into columns. In particular a name and all the references/foreign keys to other tables n this set. Note that the tables are defined implicitly using the <tt>SELECT ... INTO...</tt> supported by MS SQL. For this reason one needs a database user with appopriate privileges.\n",
    "\n",
    "<img src='https://citrineinformatics.github.io/gemd-docs/img/GEMD-Object-Graph.png'></img>\n"
   ]
  },
  {
   "cell_type": "markdown",
   "metadata": {},
   "source": [
    "Use class in utility script. Again must be laoded with appropriate permissions not avilable to random users."
   ]
  },
  {
   "cell_type": "markdown",
   "metadata": {},
   "source": [
    "## material"
   ]
  },
  {
   "cell_type": "code",
   "execution_count": null,
   "metadata": {},
   "outputs": [],
   "source": [
    "sql=\"\"\"\n",
    "select uid\n",
    ",      model_id\n",
    ",      json_value(context,'$.name') as name\n",
    ",      context\n",
    "  into material_template\n",
    "  from gemdobject\n",
    " where gemd_type='material_template'\n",
    "\"\"\"\n",
    "r=GEMDDB.execute_update(sql)    "
   ]
  },
  {
   "cell_type": "code",
   "execution_count": null,
   "metadata": {},
   "outputs": [],
   "source": [
    "sql=\"\"\"\n",
    "--drop table material_spec\n",
    "select uid\n",
    ",      model_id\n",
    ",      json_value(context,'$.name') as name\n",
    ",      json_value(context,'$.template.id') as template_uid\n",
    ",      json_value(context,'$.process.id') as process_spec_uid\n",
    ",      context\n",
    "  into material_spec\n",
    "  from gemdobject\n",
    " where gemd_type='material_spec'\n",
    "\"\"\"\n",
    "GEMDDB.execute_update(sql)"
   ]
  },
  {
   "cell_type": "code",
   "execution_count": null,
   "metadata": {},
   "outputs": [],
   "source": [
    "sql=\"\"\"\n",
    "select uid\n",
    ",      model_id\n",
    ",      json_value(context,'$.name') as name\n",
    ",      json_value(context,'$.spec.id') as spec_uid\n",
    ",      json_value(context,'$.process.id') as process_run_uid\n",
    ",      context\n",
    "  into material_run\n",
    "  from gemdobject\n",
    " where gemd_type='material_run'\n",
    "\"\"\"\n",
    "GEMDDB.execute_update(sql)"
   ]
  },
  {
   "cell_type": "markdown",
   "metadata": {},
   "source": [
    "## measurement"
   ]
  },
  {
   "cell_type": "code",
   "execution_count": null,
   "metadata": {},
   "outputs": [],
   "source": [
    "sql=\"\"\"\n",
    "select uid\n",
    ",      model_id\n",
    ",      json_value(context,'$.name') as name\n",
    ",      context\n",
    "  into measurement_template\n",
    "  from gemdobject\n",
    " where gemd_type='measurement_template'\n",
    "\"\"\"\n",
    "GEMDDB.execute_update(sql)"
   ]
  },
  {
   "cell_type": "code",
   "execution_count": null,
   "metadata": {},
   "outputs": [],
   "source": [
    "sql=\"\"\"\n",
    "select uid\n",
    ",      model_id\n",
    ",      json_value(context,'$.name') as name\n",
    ",      json_value(context,'$.template.id') as template_uid\n",
    ",      context\n",
    "  into measurement_spec\n",
    "  from gemdobject\n",
    " where gemd_type='measurement_spec'\n",
    "\"\"\"\n",
    "GEMDDB.execute_update(sql)"
   ]
  },
  {
   "cell_type": "code",
   "execution_count": null,
   "metadata": {},
   "outputs": [],
   "source": [
    "sql=\"\"\"\n",
    "select uid\n",
    ",      model_id\n",
    ",      json_value(context,'$.name') as name\n",
    ",      json_value(context,'$.source.performed_by') as performed_by\n",
    ",      json_value(context,'$.source.performed_date') as performed_date\n",
    ",      json_value(context,'$.spec.id') as spec_uid\n",
    ",      json_value(context,'$.material.id') as material_uid\n",
    ",      context\n",
    "  into measurement_run\n",
    "  from gemdobject\n",
    " where gemd_type='measurement_run'\n",
    "\"\"\"\n",
    "GEMDDB.execute_update(sql)"
   ]
  },
  {
   "cell_type": "markdown",
   "metadata": {},
   "source": [
    "## process"
   ]
  },
  {
   "cell_type": "code",
   "execution_count": null,
   "metadata": {},
   "outputs": [],
   "source": [
    "sql=\"\"\"\n",
    "select uid\n",
    ",      model_id\n",
    ",      json_value(context,'$.name') as name\n",
    ",      context\n",
    "  into process_template\n",
    "  from gemdobject\n",
    " where gemd_type='process_template'\n",
    "\"\"\"\n",
    "GEMDDB.execute_update(sql)"
   ]
  },
  {
   "cell_type": "code",
   "execution_count": null,
   "metadata": {},
   "outputs": [],
   "source": [
    "sql=\"\"\"\n",
    "select uid\n",
    ",      model_id\n",
    ",      json_value(context,'$.name') as name\n",
    ",      json_value(context,'$.source.performed_by') as p_performed_by\n",
    ",      json_value(context,'$.source.performed_date') as p_performed_date\n",
    ",      json_value(context,'$.spec.id') as spec_uid\n",
    ",      context\n",
    "  into process_run\n",
    "  from gemdobject\n",
    " where gemd_type='process_run'\n",
    "\"\"\"\n",
    "GEMDDB.execute_update(sql)"
   ]
  },
  {
   "cell_type": "code",
   "execution_count": null,
   "metadata": {
    "tags": []
   },
   "outputs": [],
   "source": [
    "sql=\"\"\"\n",
    "select uid\n",
    ",      model_id\n",
    ",      json_value(context,'$.name') as name\n",
    ",      json_value(context,'$.template.id') as template_uid\n",
    ",      context\n",
    "  into process_spec\n",
    "  from gemdobject\n",
    " where gemd_type='process_spec'\n",
    "\"\"\"\n",
    "GEMDDB.execute_update(sql)"
   ]
  },
  {
   "cell_type": "markdown",
   "metadata": {},
   "source": [
    "## ingredient"
   ]
  },
  {
   "cell_type": "code",
   "execution_count": null,
   "metadata": {},
   "outputs": [],
   "source": [
    "# into ingredient_spec\n",
    "#   \n",
    "sql=\"\"\"\n",
    "select distinct s.gemd_type as spec\n",
    ",      s.model_id\n",
    ", m.gemd_type as material, p.gemd_type as process\n",
    "  from gemdobject i \n",
    "  join gemdobject s on s.uid=json_value(i.context,'$.spec.id')\n",
    "  join gemdobject m on m.uid=json_value(i.context,'$.material.id')\n",
    "  join gemdobject p on p.uid=json_value(i.context,'$.process.id')\n",
    " where i.gemd_type='ingredient_run'\n",
    "\"\"\"\n",
    "GEMDDB.execute_query(sql)\n",
    "# GEMDDB.execute_update(sql)"
   ]
  },
  {
   "cell_type": "code",
   "execution_count": null,
   "metadata": {},
   "outputs": [],
   "source": [
    "# \n",
    "#   \n",
    "sql=\"\"\"\n",
    "select i.uid\n",
    ",      model_id\n",
    ",      json_value(i.context,'$.name') as name\n",
    ",      json_value(i.context,'$.material.id') as material_spec_uid\n",
    ",      json_value(i.context,'$.process.id') as process_spec_uid\n",
    ",      i.context\n",
    "  into ingredient_spec\n",
    "  from gemdobject i \n",
    "where i.gemd_type='ingredient_spec'\n",
    "\"\"\"\n",
    "# GEMDDB.execute_query(sql)\n",
    "GEMDDB.execute_update(sql)"
   ]
  },
  {
   "cell_type": "code",
   "execution_count": null,
   "metadata": {},
   "outputs": [],
   "source": [
    "sql=\"\"\"\n",
    "select i.uid\n",
    ",      model_id\n",
    ",      json_value(i.context,'$.name') as name\n",
    ",      json_value(i.context,'$.spec.id') as spec_uid\n",
    ",      json_value(i.context,'$.material.id') as material_run_uid\n",
    ",      json_value(i.context,'$.process.id') as process_run_uid\n",
    ",      i.context\n",
    "  into ingredient_run\n",
    "  from gemdobject i \n",
    "where i.gemd_type='ingredient_run'\n",
    "\"\"\"\n",
    "# GEMDDB.execute_query(sql)\n",
    "GEMDDB.execute_update(sql)"
   ]
  },
  {
   "cell_type": "markdown",
   "metadata": {},
   "source": [
    "## attribute_template\n",
    "generic for ['condition_template','property_template','parameter_template']"
   ]
  },
  {
   "cell_type": "code",
   "execution_count": null,
   "metadata": {},
   "outputs": [],
   "source": [
    "sql = \"\"\"\n",
    "select gc.uid, gc.model_id, gc.gemd_type\n",
    ",      b.name, b.description\n",
    ",      b.bounds_type, b.units\n",
    ",      case when bounds_type = 'real_bounds' or bounds_type = 'integer_bounds' then\n",
    "              JSON_QUERY((\n",
    "              select lower_bound = JSON_VALUE(b.bounds,'$.lower_bound')\n",
    "              ,      upper_bound = JSON_VALUE(b.bounds,'$.upper_bound')\n",
    "                for json path\n",
    "              ))\n",
    "            when bounds_type = 'categorical_bounds' then\n",
    "              JSON_QUERY(b.bounds,'$.categories')\n",
    "            when bounds_type = 'composition_bounds' then\n",
    "              JSON_QUERY(b.bounds,'$.components')\n",
    "            else null end as bounds\n",
    ",      b.tags\n",
    ",      gc.context\n",
    "into attribute_template\n",
    "  from gemdobject gc\n",
    "  cross apply OPENJSON(gc.context,'$') with (\n",
    "    name nvarchar(128) '$.name'\n",
    "  , description nvarchar(max) '$.description'\n",
    "  , bounds_type nvarchar(32) 'lax$.bounds.type'\n",
    "  , units nvarchar(32) 'lax$.bounds.default_units'\n",
    "  , tags nvarchar(max) 'lax$.bounds.default_units' as json\n",
    "  , bounds nvarchar(max) 'lax$.bounds' as json) b\n",
    " where gc.gemd_type in ('condition_template','property_template','parameter_template')\n",
    "\"\"\"\n",
    "GEMDDB.execute_update(sql)"
   ]
  }
 ],
 "metadata": {
  "kernelspec": {
   "display_name": "Python 3.9 (py39)",
   "language": "python",
   "name": "py39"
  },
  "language_info": {
   "codemirror_mode": {
    "name": "ipython",
    "version": 3
   },
   "file_extension": ".py",
   "mimetype": "text/x-python",
   "name": "python",
   "nbconvert_exporter": "python",
   "pygments_lexer": "ipython3",
   "version": "3.9.7"
  }
 },
 "nbformat": 4,
 "nbformat_minor": 4
}
