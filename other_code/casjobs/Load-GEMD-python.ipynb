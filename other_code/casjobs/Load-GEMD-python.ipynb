{
 "cells": [
  {
   "cell_type": "markdown",
   "metadata": {},
   "source": [
    "# Load GEMD files in database\n",
    "This code is for information purposes onlny as it requires permissions on our SciServer system that users of this repo will not in general posess. The database schema is defined by files in the database_design subfolder.\n",
    "\n",
    "#### NB parts of this code can only be run by someone with direct credentials to the database"
   ]
  },
  {
   "cell_type": "code",
   "execution_count": null,
   "metadata": {},
   "outputs": [],
   "source": [
    "import glob\n",
    "import json\n",
    "import random\n",
    "import pandas\n",
    "import pprint\n",
    "import sys\n",
    "import json\n",
    "import numpy as np\n",
    "import pymssql"
   ]
  },
  {
   "cell_type": "code",
   "execution_count": null,
   "metadata": {},
   "outputs": [],
   "source": [
    "import sqlalchemy as sqla\n",
    "from sqlalchemy.orm import Session\n",
    "from sqlalchemy.ext.automap import automap_base\n",
    "from sqlalchemy import select"
   ]
  },
  {
   "cell_type": "code",
   "execution_count": null,
   "metadata": {},
   "outputs": [],
   "source": [
    "from gemd_database import MSSQLDatabase"
   ]
  },
  {
   "cell_type": "code",
   "execution_count": null,
   "metadata": {},
   "outputs": [],
   "source": [
    "with open('/home/idies/workspace/persistent/.private/gemd.json','r') as f:\n",
    "    AUTH = json.load(f)\n",
    "GEMDDB=MSSQLDatabase(AUTH,'GEMD')"
   ]
  },
  {
   "cell_type": "markdown",
   "metadata": {},
   "source": [
    "# Load in GEMD database\n",
    "Prepared with \n",
    "```sql\n",
    "create table GEMDModel (\n",
    "    id bigint identity(1,1) not null\n",
    "  , name varchar(1024) not null\n",
    "  , constraint pk_gemdmodel primary key(id)\n",
    ")\n",
    "\n",
    "create table GEMDContext (\n",
    "  uid varchar(64) not null\n",
    "  , model_id bigint not null\n",
    "  , gemd_type varchar(32) not null\n",
    "  , context varchar(max) not null\n",
    "  , constraint pk_GEMDContext primary key(uid)\n",
    "  , constraint fk_gemdcontext_model foreign key (model_id) REFERENCES gemdmodel(id)\n",
    "  )\n",
    "```"
   ]
  },
  {
   "cell_type": "code",
   "execution_count": null,
   "metadata": {},
   "outputs": [],
   "source": [
    "ddl = \"\"\"\n",
    "create table GEMDModel (\n",
    "    id bigint identity(1,1) not null\n",
    "  , name varchar(1024) not null\n",
    "  , constraint pk_gemdmodel primary key(id)\n",
    ")\n",
    "\n",
    "create table GEMDContext (\n",
    "  uid varchar(64) not null\n",
    "  , model_id bigint not null\n",
    "  , gemd_type varchar(32) not null\n",
    "  , context varchar(max) not null\n",
    "  , constraint pk_GEMDContext primary key(uid)\n",
    "  , constraint fk_gemdcontext_model foreign key (model_id) REFERENCES gemdmodel(id)\n",
    "  )\n",
    "  \n",
    " CREATE TABLE GEMDEdge(\n",
    "    id bigint IDENTITY(1,1)  not null\n",
    "  , from_uid varchar(64) not null\n",
    "  , to_uid varchar(64) not null\n",
    "  , gemd_ref varchar(64) not null\n",
    ")\n",
    "\"\"\"\n",
    "# GEMDDB.execute_update(ddl)"
   ]
  },
  {
   "cell_type": "code",
   "execution_count": null,
   "metadata": {},
   "outputs": [],
   "source": [
    "GEMDDB.execute_update(\"drop table gemdobject\")"
   ]
  },
  {
   "cell_type": "code",
   "execution_count": null,
   "metadata": {},
   "outputs": [],
   "source": [
    "sql = \"select * from information_schema.tables \"\n",
    "GEMDDB.execute_query(sql)"
   ]
  },
  {
   "cell_type": "code",
   "execution_count": null,
   "metadata": {},
   "outputs": [],
   "source": [
    "Base = automap_base()\n",
    "# Base.prepare(GEMDDB.ENGINE, reflect=True)\n",
    "Base.prepare(GEMDDB.ENGINE)#, reflect=True)\n",
    "for c in Base.classes:\n",
    "    print(c)\n",
    "GEMDContext = Base.classes.GEMDContext\n",
    "GEMDModel  = Base.classes.GEMDModel"
   ]
  },
  {
   "cell_type": "markdown",
   "metadata": {},
   "source": [
    "## create object files from the JSON GEMD \n",
    "complete_data_model.json is located in an aptly named folder and contains all JSON content to be loaded"
   ]
  },
  {
   "cell_type": "code",
   "execution_count": null,
   "metadata": {},
   "outputs": [],
   "source": [
    "folders = glob.glob('/home/idies/workspace/Temporary/gerard/GEMD-Maggie/GEMD_models/*')"
   ]
  },
  {
   "cell_type": "code",
   "execution_count": null,
   "metadata": {},
   "outputs": [],
   "source": [
    "%%time\n",
    "models = []\n",
    "for folder in folders:\n",
    "    model = GEMDModel(name=folder.split(\"/\")[-1])\n",
    "    models.append(model)\n",
    "    files = glob.glob(f\"{folder}/*\")\n",
    "    for file in files:\n",
    "        with open(f'{file}','r') as f:\n",
    "            try:\n",
    "                d=json.load(f)\n",
    "                GEMDContext(gemd_type=d['type'],uid=d['uids']['auto'],context=json.dumps(d),gemdmodel=model)\n",
    "            except Exception as e:\n",
    "                print(\"ERROR:\",file)\n",
    "                print(e)"
   ]
  },
  {
   "cell_type": "code",
   "execution_count": null,
   "metadata": {},
   "outputs": [],
   "source": [
    "%%time\n",
    "session = Session(GEMDDB.ENGINE)\n",
    "for model in models:\n",
    "    session.add(model)\n",
    "session.commit()"
   ]
  },
  {
   "cell_type": "markdown",
   "metadata": {},
   "source": [
    "Here starts some code that is only runnable by someone who has direct credentials to the database"
   ]
  },
  {
   "cell_type": "markdown",
   "metadata": {},
   "source": [
    "# add more explicit tables and views\n",
    "For each of the main object types create table/view and extract somewhat more explicit metadata into columns. In particular a name and all the references/foreign keys to other tables n this set. Note that the tables are defined implicitly using the <tt>SELECT ... INTO...</tt> supported by MS SQL. For this reason one needs a database user with appopriate privileges.\n",
    "\n",
    "<img src='https://citrineinformatics.github.io/gemd-docs/img/GEMD-Object-Graph.png'></img>\n"
   ]
  },
  {
   "cell_type": "markdown",
   "metadata": {},
   "source": [
    "Use class in utility script. Again must be laoded with appropriate permissions not avilable to random users."
   ]
  },
  {
   "cell_type": "markdown",
   "metadata": {},
   "source": [
    "## material"
   ]
  },
  {
   "cell_type": "code",
   "execution_count": null,
   "metadata": {},
   "outputs": [],
   "source": [
    "sql=\"\"\"\n",
    "select uid\n",
    ",      model_id\n",
    ",      json_value(context,'$.name') as name\n",
    ",      context\n",
    "  into material_template\n",
    "  from gemdcontext\n",
    " where gemd_type='material_template'\n",
    "\"\"\"\n",
    "r=GEMDDB.execute_update(sql)    "
   ]
  },
  {
   "cell_type": "code",
   "execution_count": null,
   "metadata": {},
   "outputs": [],
   "source": [
    "sql=\"\"\"\n",
    "--drop table material_spec\n",
    "select uid\n",
    ",      model_id\n",
    ",      json_value(context,'$.name') as name\n",
    ",      json_value(context,'$.template.id') as template_uid\n",
    ",      json_value(context,'$.process.id') as process_spec_uid\n",
    ",      context\n",
    "  into material_spec\n",
    "  from gemdcontext\n",
    " where gemd_type='material_spec'\n",
    "\"\"\"\n",
    "GEMDDB.execute_update(sql)"
   ]
  },
  {
   "cell_type": "code",
   "execution_count": null,
   "metadata": {},
   "outputs": [],
   "source": [
    "sql=\"\"\"\n",
    "select uid\n",
    ",      model_id\n",
    ",      json_value(context,'$.name') as name\n",
    ",      json_value(context,'$.spec.id') as spec_uid\n",
    ",      json_value(context,'$.process.id') as process_run_uid\n",
    ",      context\n",
    "  into material_run\n",
    "  from gemdcontext\n",
    " where gemd_type='material_run'\n",
    "\"\"\"\n",
    "GEMDDB.execute_update(sql)"
   ]
  },
  {
   "cell_type": "markdown",
   "metadata": {},
   "source": [
    "## measurement"
   ]
  },
  {
   "cell_type": "code",
   "execution_count": null,
   "metadata": {},
   "outputs": [],
   "source": [
    "sql=\"\"\"\n",
    "select uid\n",
    ",      model_id\n",
    ",      json_value(context,'$.name') as name\n",
    ",      context\n",
    "  into measurement_template\n",
    "  from gemdcontext\n",
    " where gemd_type='measurement_template'\n",
    "\"\"\"\n",
    "GEMDDB.execute_update(sql)"
   ]
  },
  {
   "cell_type": "code",
   "execution_count": null,
   "metadata": {},
   "outputs": [],
   "source": [
    "sql=\"\"\"\n",
    "select uid\n",
    ",      model_id\n",
    ",      json_value(context,'$.name') as name\n",
    ",      json_value(context,'$.template.id') as template_uid\n",
    ",      context\n",
    "  into measurement_spec\n",
    "  from gemdcontext\n",
    " where gemd_type='measurement_spec'\n",
    "\"\"\"\n",
    "GEMDDB.execute_update(sql)"
   ]
  },
  {
   "cell_type": "code",
   "execution_count": null,
   "metadata": {},
   "outputs": [],
   "source": [
    "sql=\"\"\"\n",
    "select uid\n",
    ",      model_id\n",
    ",      json_value(context,'$.name') as name\n",
    ",      json_value(context,'$.source.performed_by') as performed_by\n",
    ",      json_value(context,'$.source.performed_date') as performed_date\n",
    ",      json_value(context,'$.spec.id') as spec_uid\n",
    ",      json_value(context,'$.material.id') as material_uid\n",
    ",      context\n",
    "  into measurement_run\n",
    "  from gemdcontext\n",
    " where gemd_type='measurement_run'\n",
    "\"\"\"\n",
    "GEMDDB.execute_update(sql)"
   ]
  },
  {
   "cell_type": "markdown",
   "metadata": {},
   "source": [
    "## process"
   ]
  },
  {
   "cell_type": "code",
   "execution_count": null,
   "metadata": {},
   "outputs": [],
   "source": [
    "sql=\"\"\"\n",
    "select uid\n",
    ",      model_id\n",
    ",      json_value(context,'$.name') as name\n",
    ",      context\n",
    "  into process_template\n",
    "  from gemdcontext\n",
    " where gemd_type='process_template'\n",
    "\"\"\"\n",
    "GEMDDB.execute_update(sql)"
   ]
  },
  {
   "cell_type": "code",
   "execution_count": null,
   "metadata": {},
   "outputs": [],
   "source": [
    "sql=\"\"\"\n",
    "select uid\n",
    ",      model_id\n",
    ",      json_value(context,'$.name') as name\n",
    ",      json_value(context,'$.source.performed_by') as p_performed_by\n",
    ",      json_value(context,'$.source.performed_date') as p_performed_date\n",
    ",      json_value(context,'$.spec.id') as spec_uid\n",
    ",      context\n",
    "  into process_run\n",
    "  from gemdcontext\n",
    " where gemd_type='process_run'\n",
    "\"\"\"\n",
    "GEMDDB.execute_update(sql)"
   ]
  },
  {
   "cell_type": "code",
   "execution_count": null,
   "metadata": {
    "tags": []
   },
   "outputs": [],
   "source": [
    "sql=\"\"\"\n",
    "select uid\n",
    ",      model_id\n",
    ",      json_value(context,'$.name') as name\n",
    ",      json_value(context,'$.template.id') as template_uid\n",
    ",      context\n",
    "  into process_spec\n",
    "  from gemdcontext\n",
    " where gemd_type='process_spec'\n",
    "\"\"\"\n",
    "GEMDDB.execute_update(sql)"
   ]
  },
  {
   "cell_type": "markdown",
   "metadata": {},
   "source": [
    "## ingredient"
   ]
  },
  {
   "cell_type": "code",
   "execution_count": null,
   "metadata": {},
   "outputs": [],
   "source": [
    "# into ingredient_spec\n",
    "#   \n",
    "sql=\"\"\"\n",
    "select distinct s.gemd_type as spec\n",
    ",      s.model_id\n",
    ", m.gemd_type as material, p.gemd_type as process\n",
    "  from gemdcontext i \n",
    "  join gemdcontext s on s.uid=json_value(i.context,'$.spec.id')\n",
    "  join gemdcontext m on m.uid=json_value(i.context,'$.material.id')\n",
    "  join gemdcontext p on p.uid=json_value(i.context,'$.process.id')\n",
    " where i.gemd_type='ingredient_run'\n",
    "\"\"\"\n",
    "GEMDDB.execute_query(sql)\n",
    "# GEMDDB.execute_update(sql)"
   ]
  },
  {
   "cell_type": "code",
   "execution_count": null,
   "metadata": {},
   "outputs": [],
   "source": [
    "# \n",
    "#   \n",
    "sql=\"\"\"\n",
    "select i.uid\n",
    ",      model_id\n",
    ",      json_value(i.context,'$.name') as name\n",
    ",      json_value(i.context,'$.material.id') as material_spec_uid\n",
    ",      json_value(i.context,'$.process.id') as process_spec_uid\n",
    ",      i.context\n",
    "  into ingredient_spec\n",
    "  from gemdcontext i \n",
    "where i.gemd_type='ingredient_spec'\n",
    "\"\"\"\n",
    "# GEMDDB.execute_query(sql)\n",
    "GEMDDB.execute_update(sql)"
   ]
  },
  {
   "cell_type": "code",
   "execution_count": null,
   "metadata": {},
   "outputs": [],
   "source": [
    "sql=\"\"\"\n",
    "select i.uid\n",
    ",      model_id\n",
    ",      json_value(i.context,'$.name') as name\n",
    ",      json_value(i.context,'$.spec.id') as spec_uid\n",
    ",      json_value(i.context,'$.material.id') as material_run_uid\n",
    ",      json_value(i.context,'$.process.id') as process_run_uid\n",
    ",      i.context\n",
    "  into ingredient_run\n",
    "  from gemdcontext i \n",
    "where i.gemd_type='ingredient_run'\n",
    "\"\"\"\n",
    "# GEMDDB.execute_query(sql)\n",
    "GEMDDB.execute_update(sql)"
   ]
  },
  {
   "cell_type": "markdown",
   "metadata": {},
   "source": [
    "## attribute_template\n",
    "generic for ['condition_template','property_template','parameter_template']"
   ]
  },
  {
   "cell_type": "raw",
   "metadata": {
    "tags": []
   },
   "source": [
    "# this would create separate tables for 'condition_template','property_template','parameter_template'. \n",
    "# intead create more normalized attribute_template table below\n",
    "for gt in ['condition_template','property_template','parameter_template']:\n",
    "    sql=f\"\"\"\n",
    "select uid\n",
    ",      model_id\n",
    ",      context\n",
    "  into {gt}\n",
    "  from gemdcontext\n",
    "where gemd_type='{gt}'\n",
    "\"\"\"\n",
    "    GEMDDB.execute_update(sql)"
   ]
  },
  {
   "cell_type": "markdown",
   "metadata": {},
   "source": [
    "in following SQL, iso JSON_QUERY could use JSON_OBJECT in SQL Server 2022 and later"
   ]
  },
  {
   "cell_type": "code",
   "execution_count": null,
   "metadata": {},
   "outputs": [],
   "source": [
    "sql = \"\"\"\n",
    "select gc.uid, gc.model_id, gc.gemd_type\n",
    ",      b.name, b.description\n",
    ",      b.bounds_type, b.units\n",
    ",      case when bounds_type = 'real_bounds' or bounds_type = 'integer_bounds' then\n",
    "              JSON_QUERY((\n",
    "              select lower_bound = JSON_VALUE(b.bounds,'$.lower_bound')\n",
    "              ,      upper_bound = JSON_VALUE(b.bounds,'$.upper_bound')\n",
    "                for json path\n",
    "              ))\n",
    "            when bounds_type = 'categorical_bounds' then\n",
    "              JSON_QUERY(b.bounds,'$.categories')\n",
    "            when bounds_type = 'composition_bounds' then\n",
    "              JSON_QUERY(b.bounds,'$.components')\n",
    "            else null end as bounds\n",
    ",      b.tags\n",
    ",      gc.context\n",
    "into attribute_template\n",
    "  from GEMDContext gc\n",
    "  cross apply OPENJSON(gc.context,'$') with (\n",
    "    name nvarchar(128) '$.name'\n",
    "  , description nvarchar(max) '$.description'\n",
    "  , bounds_type nvarchar(32) 'lax$.bounds.type'\n",
    "  , units nvarchar(32) 'lax$.bounds.default_units'\n",
    "  , tags nvarchar(max) 'lax$.bounds.default_units' as json\n",
    "  , bounds nvarchar(max) 'lax$.bounds' as json) b\n",
    " where gc.gemd_type in ('condition_template','property_template','parameter_template')\n",
    "\"\"\"\n",
    "GEMDDB.execute_update(sql)"
   ]
  },
  {
   "cell_type": "markdown",
   "metadata": {},
   "source": [
    "# attributes: parameter, condition, property"
   ]
  },
  {
   "cell_type": "code",
   "execution_count": null,
   "metadata": {},
   "outputs": [],
   "source": [
    "sql=\"\"\"\n",
    "with a as (\n",
    "select s.uid, s.gemd_type\n",
    ",      sp.*\n",
    "  from GEMDContext s\n",
    "  cross apply OPENJSON(s.context,'$.parameters') with (\n",
    "     template_id nvarchar(128) '$.template.id',\n",
    "     name nvarchar(128) '$.name',\n",
    "     value_type nvarchar(max) '$.value.type' ,\n",
    "     value_units nvarchar(max) '$.value.units' ,\n",
    "     value nvarchar(max) '$.value' as json,\n",
    "     attribute_type nvarchar(128) '$.type',\n",
    "     parameter nvarchar(max) '$' as json) sp\n",
    ")\n",
    "select a.uid as gemdcontext_uid, a.template_id, a.name\n",
    ",      case when a.value_type = 'nominal_categorical' then json_value(a.value,'$.category')\n",
    "            when a.value_type = 'nominal_real' then json_value(a.value,'$.nominal')\n",
    "            when a.value_type = 'nominal_integer' then json_value(a.value,'$.nominal')\n",
    "            when a.value_type = 'nominal_composition' then json_value(a.value,'$')\n",
    "       else NULL end as value\n",
    "       , a.value_type\n",
    "       , a.value_units\n",
    ",      a.attribute_type\n",
    ",      a.parameter\n",
    "into parameter\n",
    "  from a \n",
    "\"\"\"\n",
    "GEMDDB.execute_update(sql)"
   ]
  },
  {
   "cell_type": "code",
   "execution_count": null,
   "metadata": {},
   "outputs": [],
   "source": [
    "sql = \"\"\"\n",
    "with c as (\n",
    "select s.uid, s.gemd_type, sp.property_type\n",
    ",      case when sp.property_type = 'property_and_conditions' then sp.p_property\n",
    "            else sp.property end property\n",
    ",      case when sp.property_type = 'property_and_conditions' then sp.p_conditions\n",
    "            else NULL end conditions\n",
    "  from GEMDContext s\n",
    "  cross apply OPENJSON(s.context,'$.properties') with (\n",
    "     property_type nvarchar(128) '$.type',\n",
    "     p_property nvarchar(max) '$.property' as json,\n",
    "     p_conditions nvarchar(max) '$.conditions' as json,\n",
    "     property nvarchar(max) '$' as json) sp\n",
    "), a as (\n",
    "select c.uid,c.gemd_type, c.property_type, c.property\n",
    ",      case when c.conditions = '[]' then NULL else c.conditions end as conditions\n",
    ",      sp.*\n",
    "  from c\n",
    "  cross apply OPENJSON(c.property,'$') with (\n",
    "     template_id nvarchar(128) '$.template.id',\n",
    "     name nvarchar(128) '$.name',\n",
    "     value_type nvarchar(max) '$.value.type' ,\n",
    "     value_units nvarchar(max) '$.value.units' ,\n",
    "     value nvarchar(max) '$.value' as json) sp\n",
    ")\n",
    "select a.uid as gemdcontext_uid, a.template_id, a.name\n",
    ",      case when a.value_type = 'nominal_categorical' then json_value(a.value,'$.category')\n",
    "            when a.value_type = 'nominal_real' then json_value(a.value,'$.nominal')\n",
    "            when a.value_type = 'nominal_integer' then json_value(a.value,'$.nominal')\n",
    "            when a.value_type = 'nominal_composition' then json_value(a.value,'$')\n",
    "       else NULL end as value\n",
    ",      a.value_type\n",
    ",      a.value_units\n",
    ",      a.property_type as attribute_type\n",
    ",      a.property\n",
    ",      a.conditions\n",
    "  into property\n",
    "  from a \n",
    "\"\"\"\n",
    "GEMDDB.execute_update(sql)"
   ]
  },
  {
   "cell_type": "code",
   "execution_count": null,
   "metadata": {},
   "outputs": [],
   "source": [
    "sql = \"\"\"\n",
    "with a as (\n",
    "select s.uid, s.gemd_type\n",
    ",      sp.*\n",
    "  from GEMDContext s\n",
    "  cross apply OPENJSON(s.context,'$.conditions') with (\n",
    "     template_id nvarchar(128) '$.template.id',\n",
    "     name nvarchar(128) '$.name',\n",
    "     value_type nvarchar(max) '$.value.type' ,\n",
    "     value_units nvarchar(max) '$.value.units' ,\n",
    "     value nvarchar(max) '$.value' as json,\n",
    "     attribute_type nvarchar(128) '$.type',\n",
    "     condition nvarchar(max) '$' as json) sp\n",
    ")\n",
    "select a.uid as gemdcontext_uid, a.template_id, a.name\n",
    ",      case when a.value_type = 'nominal_categorical' then json_value(a.value,'$.category')\n",
    "            when a.value_type = 'nominal_real' then json_value(a.value,'$.nominal')\n",
    "            when a.value_type = 'nominal_integer' then json_value(a.value,'$.nominal')\n",
    "            when a.value_type = 'nominal_composition' then json_value(a.value,'$')\n",
    "       else NULL end as value\n",
    "       , a.value_type\n",
    "       , a.value_units\n",
    ",      a.attribute_type\n",
    ",      a.condition\n",
    "into condition\n",
    "  from a \n",
    "\"\"\"\n",
    "GEMDDB.execute_update(sql)"
   ]
  },
  {
   "cell_type": "code",
   "execution_count": null,
   "metadata": {},
   "outputs": [],
   "source": [
    "sql = \"\"\"\n",
    "create or alter view attribute as\n",
    "select * from property\n",
    "union\n",
    "select *, null from condition\n",
    "union\n",
    "select *, null from parameter\n",
    "\"\"\"\n",
    "GEMDDB.execute_update(sql)"
   ]
  },
  {
   "cell_type": "markdown",
   "metadata": {},
   "source": [
    "## graph table\n",
    "adding edges to contexts"
   ]
  },
  {
   "cell_type": "code",
   "execution_count": null,
   "metadata": {},
   "outputs": [],
   "source": [
    "sql = \"\"\"\n",
    "-- delete from GEMDEdge\n",
    "insert into GEMDEdge \n",
    "select uid,material_run_uid, 'ingredient_run:material_run'\n",
    "from ingredient_run\n",
    "where material_run_uid is not null\n",
    "union\n",
    "select uid,process_run_uid, 'ingredient_run:process_run'\n",
    "from ingredient_run\n",
    "where process_run_uid is not null\n",
    "union\n",
    "select uid,spec_uid, 'ingredient_run:spec'\n",
    "from ingredient_run\n",
    "where process_run_uid is not null\n",
    "union\n",
    "select uid,process_spec_uid, 'ingredient_spec:process_spec'\n",
    "from ingredient_spec\n",
    "where process_spec_uid is not null\n",
    "union\n",
    "select uid,material_spec_uid, 'ingredient_spec:material_spec'\n",
    "from ingredient_spec\n",
    "where material_spec_uid is not null\n",
    "union\n",
    "select uid,spec_uid, 'material_run:spec'\n",
    "from material_run \n",
    "where spec_uid is not null\n",
    "union\n",
    "select uid, process_run_uid, 'material_run:process_run'\n",
    "from material_run \n",
    "where process_run_uid is not null\n",
    "union\n",
    "select uid,process_spec_uid, 'material_spec:process_spec'\n",
    "from material_spec \n",
    "where process_spec_uid is not null\n",
    "union\n",
    "select uid,template_uid, 'material_spec:template'\n",
    "from material_spec\n",
    "where template_uid is not null\n",
    "union\n",
    "select uid,spec_uid, 'measurement_run:spec'\n",
    "from measurement_run\n",
    "where spec_uid is not null\n",
    "union\n",
    "select uid,material_uid, 'measurement_run:material'\n",
    "from measurement_run\n",
    "where material_uid is not null\n",
    "union\n",
    "select uid,template_uid, 'measurement_spec:template'\n",
    "from measurement_spec\n",
    "where template_uid is not null\n",
    "union\n",
    "select uid,spec_uid, 'process_run:spec'\n",
    "from process_run\n",
    "where spec_uid is not null\n",
    "union\n",
    "select uid,template_uid, 'process_spec:template'\n",
    "from process_spec\n",
    "where template_uid is not null\n",
    "\"\"\"\n",
    "GEMDDB.execute_update(sql)"
   ]
  },
  {
   "cell_type": "markdown",
   "metadata": {},
   "source": [
    "# some more\n",
    "Find gemd_types not yet representes"
   ]
  },
  {
   "cell_type": "code",
   "execution_count": null,
   "metadata": {},
   "outputs": [],
   "source": [
    "sql=\"\"\"\n",
    "select top 1000 s.uid, s.gemd_type\n",
    ",      JSON_VALUE(s.context,'$.name') as spec\n",
    ",      JSON_VALUE(sp.property,'$.name') as p\n",
    ",      sp.property\n",
    ",      JSON_VALUE(sp.property,'$.template.id') as template_uid\n",
    ",      pt.*\n",
    "  from GEMDContext s\n",
    "  cross apply OPENJSON(s.context,'$.properties') with (property nvarchar(max) 'lax$.property' as json) sp\n",
    "  join attribute_template pt on pt.uid = JSON_VALUE(sp.property,'$.template.id')\n",
    " order by 2,1\n",
    "  \"\"\"\n",
    "df=GEMDDB.execute_query(sql).convert_dtypes()\n",
    "df"
   ]
  },
  {
   "cell_type": "code",
   "execution_count": null,
   "metadata": {},
   "outputs": [],
   "source": [
    "sql=\"\"\"\n",
    "select top 1000 s.uid, s.gemd_type\n",
    ",      JSON_VALUE(s.context,'$.name') as spec\n",
    ",      JSON_VALUE(sp.property,'$.name') as p\n",
    ",      sp.property\n",
    ",      JSON_VALUE(sp.property,'$.template.id') as template_uid\n",
    ",      pt.*\n",
    "  from GEMDContext s\n",
    "  cross apply OPENJSON(s.context,'$.conditions') with (condition nvarchar(max) 'lax$' as json) sp\n",
    "  join attribute_template pt on pt.uid = JSON_VALUE(sp.property,'$.template.id')\n",
    " order by 2,1\n",
    "  \"\"\"\n",
    "df=GEMDDB.execute_query(sql).convert_dtypes()\n",
    "df"
   ]
  },
  {
   "cell_type": "code",
   "execution_count": null,
   "metadata": {},
   "outputs": [],
   "source": [
    "props"
   ]
  },
  {
   "cell_type": "code",
   "execution_count": null,
   "metadata": {},
   "outputs": [],
   "source": []
  },
  {
   "cell_type": "code",
   "execution_count": null,
   "metadata": {},
   "outputs": [],
   "source": [
    "sql=\"\"\"\n",
    "with gt as (\n",
    "select distinct gemd_type from GEMDContext\n",
    ")\n",
    "select gt.gemd_type\n",
    "  from  gt\n",
    "  where not exists (Select t.table_name from information_Schema.tables t where t.table_name=gt.gemd_type)\n",
    "order by 1\n",
    "\"\"\"\n",
    "GEMDDB.execute_query(sql)"
   ]
  },
  {
   "cell_type": "code",
   "execution_count": null,
   "metadata": {},
   "outputs": [],
   "source": [
    "sql=\"\"\"\n",
    "with some_specs as (  \n",
    "select top 10 *              -- using SELECT TOP N ... ORDER BY newid() is standard trick for getting a random sample of N entries\n",
    "  from gemdcontext\n",
    " where gemd_type='process_spec' \n",
    "order by newid()                       \n",
    ")\n",
    "select s.uid as spec_id\n",
    ",      json_value(s.context,'$.name') as spec\n",
    ",      r.uid as run_id\n",
    ",      r.context as run\n",
    "  from some_specs s\n",
    "  join gemdcontext r\n",
    " on r.gemd_type='process_run' \n",
    "   and JSON_VALUE(r.context,'$.spec.id')=s.uid\n",
    "order by spec\n",
    "\"\"\"\n",
    "cj.executeQuery(sql,DATABASE)"
   ]
  },
  {
   "cell_type": "code",
   "execution_count": null,
   "metadata": {},
   "outputs": [],
   "source": [
    "sql = \"\"\" \n",
    "select top 10 *\n",
    "  from gemdcontext \n",
    "  where context like '%00f132e7-60d8-472c-80cc-0aec952f214e%'\n",
    "\"\"\"\n",
    "df = GEMDDB.execute_query(sql)\n",
    "# [json.loads(c) for c in df['context']]\n",
    "df"
   ]
  },
  {
   "cell_type": "code",
   "execution_count": null,
   "metadata": {},
   "outputs": [],
   "source": [
    "[{'bounds': {'default_units': 'meter / second',\n",
    "   'lower_bound': 0.0,\n",
    "   'type': 'real_bounds',\n",
    "   'upper_bound': 3000.0},\n",
    "  'description': 'Maximum velocity measured using PDV',\n",
    "  'name': 'Max Velocity',\n",
    "  'tags': [],\n",
    "  'type': 'property_template',\n",
    "  'uids': {'auto': '00f132e7-60d8-472c-80cc-0aec952f214e'}}]"
   ]
  },
  {
   "cell_type": "code",
   "execution_count": null,
   "metadata": {},
   "outputs": [],
   "source": [
    "contexts"
   ]
  },
  {
   "cell_type": "code",
   "execution_count": null,
   "metadata": {},
   "outputs": [],
   "source": []
  }
 ],
 "metadata": {
  "kernelspec": {
   "display_name": "Python 3.9 (py39)",
   "language": "python",
   "name": "py39"
  },
  "language_info": {
   "codemirror_mode": {
    "name": "ipython",
    "version": 3
   },
   "file_extension": ".py",
   "mimetype": "text/x-python",
   "name": "python",
   "nbconvert_exporter": "python",
   "pygments_lexer": "ipython3",
   "version": "3.9.7"
  }
 },
 "nbformat": 4,
 "nbformat_minor": 4
}
