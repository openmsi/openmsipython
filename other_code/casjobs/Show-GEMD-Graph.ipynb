{
 "cells": [
  {
   "cell_type": "markdown",
   "metadata": {},
   "source": [
    "# Sample queries exploring Graph structure in GEMD database\n"
   ]
  },
  {
   "cell_type": "code",
   "execution_count": 111,
   "metadata": {
    "execution": {
     "iopub.execute_input": "2023-06-22T19:15:15.040126Z",
     "iopub.status.busy": "2023-06-22T19:15:15.039391Z",
     "iopub.status.idle": "2023-06-22T19:15:15.050882Z",
     "shell.execute_reply": "2023-06-22T19:15:15.049005Z",
     "shell.execute_reply.started": "2023-06-22T19:15:15.040061Z"
    },
    "tags": []
   },
   "outputs": [],
   "source": [
    "import SciServer.CasJobs as cj\n",
    "from pprint import pprint\n",
    "import json\n",
    "import pandas"
   ]
  },
  {
   "cell_type": "code",
   "execution_count": 112,
   "metadata": {
    "execution": {
     "iopub.execute_input": "2023-06-22T19:15:15.367945Z",
     "iopub.status.busy": "2023-06-22T19:15:15.367294Z",
     "iopub.status.idle": "2023-06-22T19:15:15.376316Z",
     "shell.execute_reply": "2023-06-22T19:15:15.374480Z",
     "shell.execute_reply.started": "2023-06-22T19:15:15.367893Z"
    },
    "tags": []
   },
   "outputs": [],
   "source": [
    "DATABASE='GEMD'"
   ]
  },
  {
   "cell_type": "markdown",
   "metadata": {},
   "source": [
    "count for each node how many distinct nodes can be reached from it"
   ]
  },
  {
   "cell_type": "code",
   "execution_count": 113,
   "metadata": {
    "execution": {
     "iopub.execute_input": "2023-06-22T19:15:16.016009Z",
     "iopub.status.busy": "2023-06-22T19:15:16.015421Z",
     "iopub.status.idle": "2023-06-22T19:15:33.302335Z",
     "shell.execute_reply": "2023-06-22T19:15:33.300419Z",
     "shell.execute_reply.started": "2023-06-22T19:15:16.015957Z"
    },
    "tags": []
   },
   "outputs": [
    {
     "name": "stdout",
     "output_type": "stream",
     "text": [
      "CPU times: user 967 ms, sys: 140 ms, total: 1.11 s\n",
      "Wall time: 17.3 s\n"
     ]
    }
   ],
   "source": [
    "%%time\n",
    "sql=\"\"\"\n",
    "with gr as (\n",
    "select c.uid as root_uid\n",
    ",      c.gemd_type as root_type\n",
    ",      0 as level\n",
    ",      cast(NULL as varchar(64)) as endpoint_uid\n",
    ",      c.uid as from_uid, cast(NULL as bigint) as edge_id, cast(NULL as varchar(64)) as gemd_ref\n",
    ",      cast(gemd_type+c.uid as varchar(max)) as [path]\n",
    "  from GEMDObject c\n",
    " union all\n",
    "select gr.root_uid, gr.root_type, gr.level+1, e.to_uid\n",
    ",      e.to_uid, e.id, e.gemd_ref\n",
    ",      gr.path+'==>'+e.gemd_ref+':'+e.to_uid\n",
    "  from gr\n",
    "  join GEMDEdge e on e.from_uid=gr.from_uid\n",
    "where gr.level < 16\n",
    ")\n",
    "select root_uid, root_type, count(distinct endpoint_uid) as num_out_nodes\n",
    "  from gr\n",
    "group by root_type, root_uid\n",
    " order by num_out_nodes desc\n",
    "\"\"\"\n",
    "nodes_out=cj.executeQuery(sql, DATABASE)"
   ]
  },
  {
   "cell_type": "code",
   "execution_count": 114,
   "metadata": {
    "execution": {
     "iopub.execute_input": "2023-06-22T19:15:33.305765Z",
     "iopub.status.busy": "2023-06-22T19:15:33.305296Z",
     "iopub.status.idle": "2023-06-22T19:15:33.327277Z",
     "shell.execute_reply": "2023-06-22T19:15:33.325531Z",
     "shell.execute_reply.started": "2023-06-22T19:15:33.305714Z"
    },
    "tags": []
   },
   "outputs": [
    {
     "data": {
      "text/html": [
       "<div>\n",
       "<style scoped>\n",
       "    .dataframe tbody tr th:only-of-type {\n",
       "        vertical-align: middle;\n",
       "    }\n",
       "\n",
       "    .dataframe tbody tr th {\n",
       "        vertical-align: top;\n",
       "    }\n",
       "\n",
       "    .dataframe thead th {\n",
       "        text-align: right;\n",
       "    }\n",
       "</style>\n",
       "<table border=\"1\" class=\"dataframe\">\n",
       "  <thead>\n",
       "    <tr style=\"text-align: right;\">\n",
       "      <th></th>\n",
       "      <th>root_uid</th>\n",
       "      <th>root_type</th>\n",
       "      <th>num_out_nodes</th>\n",
       "    </tr>\n",
       "  </thead>\n",
       "  <tbody>\n",
       "    <tr>\n",
       "      <th>0</th>\n",
       "      <td>adaa778f-62d8-476f-a774-4a3877a53d05</td>\n",
       "      <td>ingredient_run</td>\n",
       "      <td>13</td>\n",
       "    </tr>\n",
       "    <tr>\n",
       "      <th>1</th>\n",
       "      <td>e190aa30-a7d1-44c1-89a6-3262939803c4</td>\n",
       "      <td>ingredient_run</td>\n",
       "      <td>13</td>\n",
       "    </tr>\n",
       "    <tr>\n",
       "      <th>2</th>\n",
       "      <td>daea63f1-9ca9-4027-9c03-a1ac6c178342</td>\n",
       "      <td>ingredient_run</td>\n",
       "      <td>13</td>\n",
       "    </tr>\n",
       "    <tr>\n",
       "      <th>3</th>\n",
       "      <td>b8610aac-5b37-4b22-b17b-00262286fce7</td>\n",
       "      <td>ingredient_run</td>\n",
       "      <td>13</td>\n",
       "    </tr>\n",
       "    <tr>\n",
       "      <th>4</th>\n",
       "      <td>7d62501f-7a29-4c85-9fab-a869f6923bb2</td>\n",
       "      <td>ingredient_run</td>\n",
       "      <td>13</td>\n",
       "    </tr>\n",
       "    <tr>\n",
       "      <th>5</th>\n",
       "      <td>9cab251d-ff37-428c-97e2-77c725e825d6</td>\n",
       "      <td>ingredient_run</td>\n",
       "      <td>13</td>\n",
       "    </tr>\n",
       "    <tr>\n",
       "      <th>6</th>\n",
       "      <td>3ccc45be-c8b0-455c-a8e6-1f07472ff40c</td>\n",
       "      <td>ingredient_run</td>\n",
       "      <td>13</td>\n",
       "    </tr>\n",
       "    <tr>\n",
       "      <th>7</th>\n",
       "      <td>0b6a2404-634d-4868-be85-5fa90597b7c5</td>\n",
       "      <td>ingredient_run</td>\n",
       "      <td>13</td>\n",
       "    </tr>\n",
       "    <tr>\n",
       "      <th>8</th>\n",
       "      <td>300dc1dc-0fb0-40c5-a690-3a8c6545404d</td>\n",
       "      <td>ingredient_run</td>\n",
       "      <td>13</td>\n",
       "    </tr>\n",
       "    <tr>\n",
       "      <th>9</th>\n",
       "      <td>04b9166d-5cb6-4a0d-9e83-383a3fbfd6ab</td>\n",
       "      <td>ingredient_run</td>\n",
       "      <td>13</td>\n",
       "    </tr>\n",
       "  </tbody>\n",
       "</table>\n",
       "</div>"
      ],
      "text/plain": [
       "                               root_uid       root_type  num_out_nodes\n",
       "0  adaa778f-62d8-476f-a774-4a3877a53d05  ingredient_run             13\n",
       "1  e190aa30-a7d1-44c1-89a6-3262939803c4  ingredient_run             13\n",
       "2  daea63f1-9ca9-4027-9c03-a1ac6c178342  ingredient_run             13\n",
       "3  b8610aac-5b37-4b22-b17b-00262286fce7  ingredient_run             13\n",
       "4  7d62501f-7a29-4c85-9fab-a869f6923bb2  ingredient_run             13\n",
       "5  9cab251d-ff37-428c-97e2-77c725e825d6  ingredient_run             13\n",
       "6  3ccc45be-c8b0-455c-a8e6-1f07472ff40c  ingredient_run             13\n",
       "7  0b6a2404-634d-4868-be85-5fa90597b7c5  ingredient_run             13\n",
       "8  300dc1dc-0fb0-40c5-a690-3a8c6545404d  ingredient_run             13\n",
       "9  04b9166d-5cb6-4a0d-9e83-383a3fbfd6ab  ingredient_run             13"
      ]
     },
     "execution_count": 114,
     "metadata": {},
     "output_type": "execute_result"
    }
   ],
   "source": [
    "nodes_out.head(10)"
   ]
  },
  {
   "cell_type": "markdown",
   "metadata": {},
   "source": [
    "count for each node how many distinct nodes can reach it"
   ]
  },
  {
   "cell_type": "code",
   "execution_count": 115,
   "metadata": {
    "execution": {
     "iopub.execute_input": "2023-06-22T19:15:33.329068Z",
     "iopub.status.busy": "2023-06-22T19:15:33.328688Z",
     "iopub.status.idle": "2023-06-22T19:16:07.026481Z",
     "shell.execute_reply": "2023-06-22T19:16:07.024201Z",
     "shell.execute_reply.started": "2023-06-22T19:15:33.329023Z"
    },
    "tags": []
   },
   "outputs": [
    {
     "name": "stdout",
     "output_type": "stream",
     "text": [
      "CPU times: user 128 ms, sys: 38.7 ms, total: 166 ms\n",
      "Wall time: 33.7 s\n"
     ]
    }
   ],
   "source": [
    "%%time\n",
    "sql=\"\"\"\n",
    "with gr as (\n",
    "select c.uid as root_uid\n",
    ",      c.gemd_type as root_type\n",
    ",      0 as level\n",
    ",      cast(NULL as varchar(64)) as endpoint_uid\n",
    ",      c.uid as from_uid, cast(NULL as bigint) as edge_id, cast(NULL as varchar(64)) as gemd_ref\n",
    ",      cast(gemd_type+c.uid as varchar(max)) as [path]\n",
    "  from GEMDObject c\n",
    " union all\n",
    "select gr.root_uid, gr.root_type, gr.level+1, e.to_uid\n",
    ",      e.to_uid, e.id, e.gemd_ref\n",
    ",      gr.path+'==>'+e.gemd_ref+':'+e.to_uid\n",
    "  from gr\n",
    "  join GEMDEdge e on e.from_uid=gr.from_uid\n",
    "where gr.level < 16\n",
    ")\n",
    "select endpoint_uid, count(distinct root_uid) as num_in_nodes\n",
    "  from gr\n",
    "group by endpoint_uid\n",
    " order by num_in_nodes desc\n",
    "\"\"\"\n",
    "nodes_in=cj.executeQuery(sql, DATABASE)"
   ]
  },
  {
   "cell_type": "markdown",
   "metadata": {},
   "source": [
    "## visualize\n",
    "Goal is to get a visualization vapability ala that supported by \n",
    "<a href=\"http://www.thebrain.com\" target=\"_blank\">http://www.thebrain.com</a>. \\\n",
    "This allows one to trace edges from a starting node, restricting views to only that node and nodes 1 or 2 steps away. \\\n",
    "Needs code development!"
   ]
  },
  {
   "cell_type": "code",
   "execution_count": 116,
   "metadata": {
    "execution": {
     "iopub.execute_input": "2023-06-22T19:16:07.030989Z",
     "iopub.status.busy": "2023-06-22T19:16:07.030565Z",
     "iopub.status.idle": "2023-06-22T19:16:07.040086Z",
     "shell.execute_reply": "2023-06-22T19:16:07.038163Z",
     "shell.execute_reply.started": "2023-06-22T19:16:07.030939Z"
    },
    "tags": []
   },
   "outputs": [],
   "source": [
    "import networkx as nx\n",
    "G = nx.Graph()"
   ]
  },
  {
   "cell_type": "markdown",
   "metadata": {},
   "source": [
    "take a node from nodes_out and find the graph reachable from it"
   ]
  },
  {
   "cell_type": "code",
   "execution_count": 117,
   "metadata": {
    "execution": {
     "iopub.execute_input": "2023-06-22T19:16:07.042025Z",
     "iopub.status.busy": "2023-06-22T19:16:07.041647Z",
     "iopub.status.idle": "2023-06-22T19:16:07.054286Z",
     "shell.execute_reply": "2023-06-22T19:16:07.052268Z",
     "shell.execute_reply.started": "2023-06-22T19:16:07.041982Z"
    },
    "tags": []
   },
   "outputs": [
    {
     "data": {
      "text/plain": [
       "'adaa778f-62d8-476f-a774-4a3877a53d05'"
      ]
     },
     "execution_count": 117,
     "metadata": {},
     "output_type": "execute_result"
    }
   ],
   "source": [
    "UID = nodes_out.iloc[0].root_uid\n",
    "UID\n",
    "# UID = '01b44457-6ebe-43bc-b316-66fcff35957e'"
   ]
  },
  {
   "cell_type": "code",
   "execution_count": 118,
   "metadata": {
    "execution": {
     "iopub.execute_input": "2023-06-22T19:16:07.056524Z",
     "iopub.status.busy": "2023-06-22T19:16:07.056124Z",
     "iopub.status.idle": "2023-06-22T19:16:09.852429Z",
     "shell.execute_reply": "2023-06-22T19:16:09.850925Z",
     "shell.execute_reply.started": "2023-06-22T19:16:07.056478Z"
    },
    "tags": []
   },
   "outputs": [
    {
     "data": {
      "text/html": [
       "<div>\n",
       "<style scoped>\n",
       "    .dataframe tbody tr th:only-of-type {\n",
       "        vertical-align: middle;\n",
       "    }\n",
       "\n",
       "    .dataframe tbody tr th {\n",
       "        vertical-align: top;\n",
       "    }\n",
       "\n",
       "    .dataframe thead th {\n",
       "        text-align: right;\n",
       "    }\n",
       "</style>\n",
       "<table border=\"1\" class=\"dataframe\">\n",
       "  <thead>\n",
       "    <tr style=\"text-align: right;\">\n",
       "      <th></th>\n",
       "      <th>Source</th>\n",
       "      <th>Target</th>\n",
       "    </tr>\n",
       "  </thead>\n",
       "  <tbody>\n",
       "    <tr>\n",
       "      <th>0</th>\n",
       "      <td>ingredient_run [adaa778f-62d8-476f-a774-4a3877...</td>\n",
       "      <td>material_run [5c6e208a-7c91-49d5-a6ba-023911c3...</td>\n",
       "    </tr>\n",
       "    <tr>\n",
       "      <th>1</th>\n",
       "      <td>ingredient_run [adaa778f-62d8-476f-a774-4a3877...</td>\n",
       "      <td>ingredient_spec [276a2071-594e-4c36-bf81-a867c...</td>\n",
       "    </tr>\n",
       "    <tr>\n",
       "      <th>2</th>\n",
       "      <td>ingredient_run [adaa778f-62d8-476f-a774-4a3877...</td>\n",
       "      <td>process_run [58d4bf30-de0d-4972-8600-7dd33e71b...</td>\n",
       "    </tr>\n",
       "    <tr>\n",
       "      <th>3</th>\n",
       "      <td>process_run [58d4bf30-de0d-4972-8600-7dd33e71b...</td>\n",
       "      <td>process_spec [5c649b97-6770-487e-834d-c228a314...</td>\n",
       "    </tr>\n",
       "    <tr>\n",
       "      <th>4</th>\n",
       "      <td>process_spec [5c649b97-6770-487e-834d-c228a314...</td>\n",
       "      <td>process_template [ee2196b4-b0eb-4c47-b2ff-4ba3...</td>\n",
       "    </tr>\n",
       "    <tr>\n",
       "      <th>5</th>\n",
       "      <td>ingredient_spec [276a2071-594e-4c36-bf81-a867c...</td>\n",
       "      <td>material_spec [7595a295-533f-406a-8b0a-eccd4b1...</td>\n",
       "    </tr>\n",
       "    <tr>\n",
       "      <th>6</th>\n",
       "      <td>ingredient_spec [276a2071-594e-4c36-bf81-a867c...</td>\n",
       "      <td>process_spec [5c649b97-6770-487e-834d-c228a314...</td>\n",
       "    </tr>\n",
       "    <tr>\n",
       "      <th>7</th>\n",
       "      <td>process_spec [5c649b97-6770-487e-834d-c228a314...</td>\n",
       "      <td>process_template [ee2196b4-b0eb-4c47-b2ff-4ba3...</td>\n",
       "    </tr>\n",
       "    <tr>\n",
       "      <th>8</th>\n",
       "      <td>material_spec [7595a295-533f-406a-8b0a-eccd4b1...</td>\n",
       "      <td>process_spec [ed82e185-d722-4b3a-a72a-5c80d42a...</td>\n",
       "    </tr>\n",
       "    <tr>\n",
       "      <th>9</th>\n",
       "      <td>material_spec [7595a295-533f-406a-8b0a-eccd4b1...</td>\n",
       "      <td>material_template [44b8ff23-00dd-4551-8196-68c...</td>\n",
       "    </tr>\n",
       "    <tr>\n",
       "      <th>10</th>\n",
       "      <td>process_spec [ed82e185-d722-4b3a-a72a-5c80d42a...</td>\n",
       "      <td>process_template [b33ea835-56e3-4b5e-88ba-eb17...</td>\n",
       "    </tr>\n",
       "    <tr>\n",
       "      <th>11</th>\n",
       "      <td>material_run [5c6e208a-7c91-49d5-a6ba-023911c3...</td>\n",
       "      <td>material_spec [e83b3018-8dea-439f-83bb-ae35c0c...</td>\n",
       "    </tr>\n",
       "    <tr>\n",
       "      <th>12</th>\n",
       "      <td>material_run [5c6e208a-7c91-49d5-a6ba-023911c3...</td>\n",
       "      <td>process_run [cc7b3c40-af3e-41c8-844b-7315cd01a...</td>\n",
       "    </tr>\n",
       "    <tr>\n",
       "      <th>13</th>\n",
       "      <td>process_run [cc7b3c40-af3e-41c8-844b-7315cd01a...</td>\n",
       "      <td>process_spec [aba8d3b2-4103-4993-8c3b-6fa0774b...</td>\n",
       "    </tr>\n",
       "    <tr>\n",
       "      <th>14</th>\n",
       "      <td>process_spec [aba8d3b2-4103-4993-8c3b-6fa0774b...</td>\n",
       "      <td>process_template [66157c71-b4b4-42a6-8354-c9a6...</td>\n",
       "    </tr>\n",
       "    <tr>\n",
       "      <th>15</th>\n",
       "      <td>material_spec [e83b3018-8dea-439f-83bb-ae35c0c...</td>\n",
       "      <td>material_template [44b8ff23-00dd-4551-8196-68c...</td>\n",
       "    </tr>\n",
       "    <tr>\n",
       "      <th>16</th>\n",
       "      <td>material_spec [e83b3018-8dea-439f-83bb-ae35c0c...</td>\n",
       "      <td>process_spec [aba8d3b2-4103-4993-8c3b-6fa0774b...</td>\n",
       "    </tr>\n",
       "    <tr>\n",
       "      <th>17</th>\n",
       "      <td>process_spec [aba8d3b2-4103-4993-8c3b-6fa0774b...</td>\n",
       "      <td>process_template [66157c71-b4b4-42a6-8354-c9a6...</td>\n",
       "    </tr>\n",
       "  </tbody>\n",
       "</table>\n",
       "</div>"
      ],
      "text/plain": [
       "                                               Source  \\\n",
       "0   ingredient_run [adaa778f-62d8-476f-a774-4a3877...   \n",
       "1   ingredient_run [adaa778f-62d8-476f-a774-4a3877...   \n",
       "2   ingredient_run [adaa778f-62d8-476f-a774-4a3877...   \n",
       "3   process_run [58d4bf30-de0d-4972-8600-7dd33e71b...   \n",
       "4   process_spec [5c649b97-6770-487e-834d-c228a314...   \n",
       "5   ingredient_spec [276a2071-594e-4c36-bf81-a867c...   \n",
       "6   ingredient_spec [276a2071-594e-4c36-bf81-a867c...   \n",
       "7   process_spec [5c649b97-6770-487e-834d-c228a314...   \n",
       "8   material_spec [7595a295-533f-406a-8b0a-eccd4b1...   \n",
       "9   material_spec [7595a295-533f-406a-8b0a-eccd4b1...   \n",
       "10  process_spec [ed82e185-d722-4b3a-a72a-5c80d42a...   \n",
       "11  material_run [5c6e208a-7c91-49d5-a6ba-023911c3...   \n",
       "12  material_run [5c6e208a-7c91-49d5-a6ba-023911c3...   \n",
       "13  process_run [cc7b3c40-af3e-41c8-844b-7315cd01a...   \n",
       "14  process_spec [aba8d3b2-4103-4993-8c3b-6fa0774b...   \n",
       "15  material_spec [e83b3018-8dea-439f-83bb-ae35c0c...   \n",
       "16  material_spec [e83b3018-8dea-439f-83bb-ae35c0c...   \n",
       "17  process_spec [aba8d3b2-4103-4993-8c3b-6fa0774b...   \n",
       "\n",
       "                                               Target  \n",
       "0   material_run [5c6e208a-7c91-49d5-a6ba-023911c3...  \n",
       "1   ingredient_spec [276a2071-594e-4c36-bf81-a867c...  \n",
       "2   process_run [58d4bf30-de0d-4972-8600-7dd33e71b...  \n",
       "3   process_spec [5c649b97-6770-487e-834d-c228a314...  \n",
       "4   process_template [ee2196b4-b0eb-4c47-b2ff-4ba3...  \n",
       "5   material_spec [7595a295-533f-406a-8b0a-eccd4b1...  \n",
       "6   process_spec [5c649b97-6770-487e-834d-c228a314...  \n",
       "7   process_template [ee2196b4-b0eb-4c47-b2ff-4ba3...  \n",
       "8   process_spec [ed82e185-d722-4b3a-a72a-5c80d42a...  \n",
       "9   material_template [44b8ff23-00dd-4551-8196-68c...  \n",
       "10  process_template [b33ea835-56e3-4b5e-88ba-eb17...  \n",
       "11  material_spec [e83b3018-8dea-439f-83bb-ae35c0c...  \n",
       "12  process_run [cc7b3c40-af3e-41c8-844b-7315cd01a...  \n",
       "13  process_spec [aba8d3b2-4103-4993-8c3b-6fa0774b...  \n",
       "14  process_template [66157c71-b4b4-42a6-8354-c9a6...  \n",
       "15  material_template [44b8ff23-00dd-4551-8196-68c...  \n",
       "16  process_spec [aba8d3b2-4103-4993-8c3b-6fa0774b...  \n",
       "17  process_template [66157c71-b4b4-42a6-8354-c9a6...  "
      ]
     },
     "execution_count": 118,
     "metadata": {},
     "output_type": "execute_result"
    }
   ],
   "source": [
    "sql=f\"\"\"\n",
    "with gr as (\n",
    "select c.uid as node_uid\n",
    ",      c.gemd_type as node_type\n",
    ",      c.context as node_context\n",
    ",      cast(c.gemd_type+' ['+c.uid+']' as varchar(128)) as Target\n",
    ",      cast(-1 as bigint) as edge_id\n",
    ",      cast(NULL as varchar(64)) as from_uid\n",
    ",      cast(NULL as varchar(128)) as Source\n",
    ",      0 as level\n",
    "  from GEMDObject c\n",
    "  where uid='{UID}'\n",
    " union all\n",
    "select c.uid as node_uid\n",
    ",      c.gemd_type as node_type\n",
    ",      c.context as node_context\n",
    ",      cast(c.gemd_type+' ['+c.uid+']' as varchar(128)) as Target\n",
    ",      e.id as edge_id\n",
    ",      gr.node_uid as from_uid\n",
    ",      gr.Target as Source\n",
    ",      gr.level+1 as level\n",
    "  from gr\n",
    "  join GEMDEdge e on e.from_uid=gr.node_uid\n",
    "  join GEMDObject c on c.uid=e.to_uid\n",
    "where gr.level < 16\n",
    ")\n",
    "select Source,Target\n",
    "--,node_type,node_context\n",
    "  from gr\n",
    " where Source is not null\n",
    "\"\"\"\n",
    "gr=cj.executeQuery(sql,DATABASE)\n",
    "gr"
   ]
  },
  {
   "cell_type": "code",
   "execution_count": 119,
   "metadata": {
    "execution": {
     "iopub.execute_input": "2023-06-22T19:16:09.854324Z",
     "iopub.status.busy": "2023-06-22T19:16:09.853944Z",
     "iopub.status.idle": "2023-06-22T19:16:13.469941Z",
     "shell.execute_reply": "2023-06-22T19:16:13.467513Z",
     "shell.execute_reply.started": "2023-06-22T19:16:09.854276Z"
    },
    "tags": []
   },
   "outputs": [],
   "source": [
    "UID = 'adaa778f-62d8-476f-a774-4a3877a53d05'\n",
    "sql=f\"\"\"\n",
    "declare @uid varchar(40) = '{UID}'\n",
    ";\n",
    "with gr as (\n",
    "select cast(NULL as varchar(64)) as Source_uid\n",
    ",      cast(NULL as varchar(32)) as source_type\n",
    ",      c.uid Target_uid\n",
    ",      c.gemd_type as Target_type\n",
    ",      cast(NULL as bigint) as edge_id\n",
    ",      cast(NULL as varchar(64)) as gemd_ref \n",
    ",      0 as level\n",
    "  from GEMDObject c\n",
    "  where uid=@UID\n",
    " union all\n",
    "select gr.Target_uid as Source_uid\n",
    ",      gr.target_type as source_type\n",
    ",      c.uid as Target_uid\n",
    ",      c.gemd_type as target_type\n",
    ",      e.id as edge_id\n",
    ",      e.gemd_ref\n",
    ",      gr.level+1 as level\n",
    "  from gr\n",
    "  join GEMDEdge e on e.from_uid=gr.Target_uid\n",
    "  join GEMDObject c on c.uid=e.to_uid\n",
    "where gr.level < 16\n",
    "), edges as (\n",
    "select Source_uid,Target_uid, source_type, target_type,gemd_ref, level\n",
    "  from gr\n",
    " where Source_uid is not null\n",
    ")\n",
    ", nodes as (\n",
    "select source_uid as node_uid, source_type as node_type\n",
    "  from edges \n",
    "union\n",
    "select Target_uid , target_type\n",
    "from edges\n",
    ")\n",
    "select n.node_uid, n.node_type, max(a.attributes ) as attributes\n",
    ",     (select e.target_uid , e.gemd_ref\n",
    "          from edges e\n",
    "         where e.source_uid=n.node_uid\n",
    "           for json path) as out_edges\n",
    "  from nodes n\n",
    "  join GEMDObjectAttributes a on a.uid=n.node_uid\n",
    "group by node_uid,node_type\n",
    "\"\"\"\n",
    "df = cj.executeQuery(sql,\"GEMD\",format='pandas')"
   ]
  },
  {
   "cell_type": "code",
   "execution_count": 120,
   "metadata": {
    "execution": {
     "iopub.execute_input": "2023-06-22T19:16:17.859341Z",
     "iopub.status.busy": "2023-06-22T19:16:17.858782Z",
     "iopub.status.idle": "2023-06-22T19:16:17.873778Z",
     "shell.execute_reply": "2023-06-22T19:16:17.871801Z",
     "shell.execute_reply.started": "2023-06-22T19:16:17.859288Z"
    },
    "tags": []
   },
   "outputs": [],
   "source": [
    "nodes = []\n",
    "edges = {}\n",
    "nodes_d = {}\n",
    "for t in df.itertuples():\n",
    "    atts = {\"node_type\":t.node_type}\n",
    "    if t.attributes is not None and len(t.attributes.strip()) > 0:\n",
    "        tatts = json.loads(t.attributes)\n",
    "        atts.update(tatts)\n",
    "    LABEL = t.node_type+':'+t.node_uid\n",
    "    node = (LABEL,atts)\n",
    "    nodes.append(node)\n",
    "    nodes_d[t.node_uid] = node\n",
    "    edges[t.node_uid] = t.out_edges"
   ]
  },
  {
   "cell_type": "code",
   "execution_count": 121,
   "metadata": {
    "execution": {
     "iopub.execute_input": "2023-06-22T19:16:18.288182Z",
     "iopub.status.busy": "2023-06-22T19:16:18.287635Z",
     "iopub.status.idle": "2023-06-22T19:16:18.300680Z",
     "shell.execute_reply": "2023-06-22T19:16:18.298156Z",
     "shell.execute_reply.started": "2023-06-22T19:16:18.288129Z"
    },
    "tags": []
   },
   "outputs": [],
   "source": [
    "all_edges = []\n",
    "for k,node in nodes_d.items():\n",
    "    try:\n",
    "        out_edges = json.loads(edges[k])\n",
    "        oe = [(node[0],nodes_d[e['target_uid']][0]) for e in out_edges]\n",
    "        all_edges+=oe\n",
    "    except:\n",
    "        pass"
   ]
  },
  {
   "cell_type": "code",
   "execution_count": 122,
   "metadata": {
    "execution": {
     "iopub.execute_input": "2023-06-22T19:16:19.355899Z",
     "iopub.status.busy": "2023-06-22T19:16:19.355293Z",
     "iopub.status.idle": "2023-06-22T19:16:19.364693Z",
     "shell.execute_reply": "2023-06-22T19:16:19.363038Z",
     "shell.execute_reply.started": "2023-06-22T19:16:19.355846Z"
    },
    "tags": []
   },
   "outputs": [],
   "source": [
    "G = nx.DiGraph()\n",
    "G.add_nodes_from(nodes)\n",
    "G.add_edges_from(all_edges)"
   ]
  },
  {
   "cell_type": "code",
   "execution_count": 123,
   "metadata": {
    "execution": {
     "iopub.execute_input": "2023-06-22T19:16:20.127173Z",
     "iopub.status.busy": "2023-06-22T19:16:20.126620Z",
     "iopub.status.idle": "2023-06-22T19:16:20.174488Z",
     "shell.execute_reply": "2023-06-22T19:16:20.172831Z",
     "shell.execute_reply.started": "2023-06-22T19:16:20.127122Z"
    },
    "tags": []
   },
   "outputs": [
    {
     "data": {
      "application/vnd.jupyter.widget-view+json": {
       "model_id": "8e36d526fb314e39bdfae7553683f86b",
       "version_major": 2,
       "version_minor": 0
      },
      "text/plain": [
       "GraphWidget(layout=Layout(height='500px', width='100%'))"
      ]
     },
     "metadata": {},
     "output_type": "display_data"
    }
   ],
   "source": [
    "GraphWidget(graph=G)"
   ]
  },
  {
   "cell_type": "code",
   "execution_count": null,
   "metadata": {},
   "outputs": [],
   "source": []
  },
  {
   "cell_type": "code",
   "execution_count": null,
   "metadata": {},
   "outputs": [],
   "source": []
  },
  {
   "cell_type": "code",
   "execution_count": 18,
   "metadata": {
    "execution": {
     "iopub.execute_input": "2023-06-21T13:14:28.203722Z",
     "iopub.status.busy": "2023-06-21T13:14:28.203229Z",
     "iopub.status.idle": "2023-06-21T13:14:28.214571Z",
     "shell.execute_reply": "2023-06-21T13:14:28.212873Z",
     "shell.execute_reply.started": "2023-06-21T13:14:28.203669Z"
    },
    "tags": []
   },
   "outputs": [],
   "source": [
    "G=nx.from_pandas_edgelist(gr,'Source','Target',create_using=nx.DiGraph)#,'node_type')"
   ]
  },
  {
   "cell_type": "markdown",
   "metadata": {},
   "source": [
    "# yfiles_jupyter_graphs"
   ]
  },
  {
   "cell_type": "code",
   "execution_count": null,
   "metadata": {},
   "outputs": [],
   "source": [
    "%pip install yfiles_jupyter_graphs"
   ]
  },
  {
   "cell_type": "code",
   "execution_count": 1,
   "metadata": {
    "execution": {
     "iopub.execute_input": "2023-06-22T14:11:41.642284Z",
     "iopub.status.busy": "2023-06-22T14:11:41.639345Z",
     "iopub.status.idle": "2023-06-22T14:11:49.773826Z",
     "shell.execute_reply": "2023-06-22T14:11:49.771596Z",
     "shell.execute_reply.started": "2023-06-22T14:11:41.640417Z"
    }
   },
   "outputs": [
    {
     "name": "stdout",
     "output_type": "stream",
     "text": [
      "Requirement already satisfied: igraph in /home/idies/miniconda3/envs/py39/lib/python3.9/site-packages (0.10.4)\n",
      "Requirement already satisfied: texttable>=1.6.2 in /home/idies/miniconda3/envs/py39/lib/python3.9/site-packages (from igraph) (1.6.7)\n",
      "Note: you may need to restart the kernel to use updated packages.\n"
     ]
    }
   ],
   "source": [
    "%pip install igraph"
   ]
  },
  {
   "cell_type": "code",
   "execution_count": 2,
   "metadata": {
    "execution": {
     "iopub.execute_input": "2023-06-22T14:16:53.699961Z",
     "iopub.status.busy": "2023-06-22T14:16:53.699148Z",
     "iopub.status.idle": "2023-06-22T14:16:53.856455Z",
     "shell.execute_reply": "2023-06-22T14:16:53.854544Z",
     "shell.execute_reply.started": "2023-06-22T14:16:53.699891Z"
    },
    "tags": []
   },
   "outputs": [],
   "source": [
    "from yfiles_jupyter_graphs import GraphWidget"
   ]
  },
  {
   "cell_type": "code",
   "execution_count": 12,
   "metadata": {
    "execution": {
     "iopub.execute_input": "2023-06-22T14:20:03.756654Z",
     "iopub.status.busy": "2023-06-22T14:20:03.756036Z",
     "iopub.status.idle": "2023-06-22T14:20:03.765080Z",
     "shell.execute_reply": "2023-06-22T14:20:03.763098Z",
     "shell.execute_reply.started": "2023-06-22T14:20:03.756601Z"
    },
    "tags": []
   },
   "outputs": [],
   "source": [
    "from datetime import datetime\n",
    "import string\n",
    "import random"
   ]
  },
  {
   "cell_type": "code",
   "execution_count": 9,
   "metadata": {
    "execution": {
     "iopub.execute_input": "2023-06-22T14:19:14.348490Z",
     "iopub.status.busy": "2023-06-22T14:19:14.347870Z",
     "iopub.status.idle": "2023-06-22T14:19:14.363766Z",
     "shell.execute_reply": "2023-06-22T14:19:14.361811Z",
     "shell.execute_reply.started": "2023-06-22T14:19:14.348436Z"
    },
    "tags": []
   },
   "outputs": [
    {
     "data": {
      "text/plain": [
       "datetime.datetime(2023, 6, 22, 10, 19, 14, 350645)"
      ]
     },
     "execution_count": 9,
     "metadata": {},
     "output_type": "execute_result"
    }
   ],
   "source": [
    "datetime.now()"
   ]
  },
  {
   "cell_type": "code",
   "execution_count": 3,
   "metadata": {
    "execution": {
     "iopub.execute_input": "2023-06-22T14:16:53.905019Z",
     "iopub.status.busy": "2023-06-22T14:16:53.904630Z",
     "iopub.status.idle": "2023-06-22T14:16:56.464970Z",
     "shell.execute_reply": "2023-06-22T14:16:56.463087Z",
     "shell.execute_reply.started": "2023-06-22T14:16:53.904974Z"
    },
    "tags": []
   },
   "outputs": [],
   "source": [
    "import networkx  as nx #import Graph, DiGraph, MultiGraph, MultiDiGraph, path_graph\n",
    "import igraph"
   ]
  },
  {
   "cell_type": "code",
   "execution_count": 51,
   "metadata": {
    "execution": {
     "iopub.execute_input": "2023-06-22T17:16:48.733878Z",
     "iopub.status.busy": "2023-06-22T17:16:48.733254Z",
     "iopub.status.idle": "2023-06-22T17:16:48.743421Z",
     "shell.execute_reply": "2023-06-22T17:16:48.741247Z",
     "shell.execute_reply.started": "2023-06-22T17:16:48.733826Z"
    },
    "tags": []
   },
   "outputs": [],
   "source": [
    "# def make_graph(graph_class):\n",
    "G = nx.DiGraph()"
   ]
  },
  {
   "cell_type": "code",
   "execution_count": 43,
   "metadata": {
    "execution": {
     "iopub.execute_input": "2023-06-22T17:13:24.051927Z",
     "iopub.status.busy": "2023-06-22T17:13:24.051081Z",
     "iopub.status.idle": "2023-06-22T17:13:24.062799Z",
     "shell.execute_reply": "2023-06-22T17:13:24.061150Z",
     "shell.execute_reply.started": "2023-06-22T17:13:24.051878Z"
    },
    "tags": []
   },
   "outputs": [],
   "source": [
    "for i in range(1,10):\n",
    "    G.add_node(f\"foo-{i}\", time=datetime.now(), name=''.join(random.choices(string.ascii_uppercase + string.digits, k=10)))\n",
    "    # G.add_node((f\"foo-{i}\", {\"time\":datetime.now(), \"name\":''.join(random.choices(string.ascii_uppercase + string.digits, k=10))}))\n",
    "for n in G.nodes:\n",
    "    G.add_edges_from([(n,f\"foo-{o}\") for o in random.sample(range(1,10),3)])"
   ]
  },
  {
   "cell_type": "code",
   "execution_count": 50,
   "metadata": {
    "execution": {
     "iopub.execute_input": "2023-06-22T17:16:39.877657Z",
     "iopub.status.busy": "2023-06-22T17:16:39.877067Z",
     "iopub.status.idle": "2023-06-22T17:16:39.887055Z",
     "shell.execute_reply": "2023-06-22T17:16:39.885463Z",
     "shell.execute_reply.started": "2023-06-22T17:16:39.877607Z"
    },
    "tags": []
   },
   "outputs": [],
   "source": [
    "nodes = [(f\"foo-{i}\", {\"time\":datetime.now(), \n",
    "                       ''.join(random.choices(string.ascii_uppercase + string.digits, k=10)):i}) for i in range(1,10)]"
   ]
  },
  {
   "cell_type": "code",
   "execution_count": 52,
   "metadata": {
    "execution": {
     "iopub.execute_input": "2023-06-22T17:16:54.268995Z",
     "iopub.status.busy": "2023-06-22T17:16:54.268327Z",
     "iopub.status.idle": "2023-06-22T17:16:54.282599Z",
     "shell.execute_reply": "2023-06-22T17:16:54.276038Z",
     "shell.execute_reply.started": "2023-06-22T17:16:54.268939Z"
    },
    "tags": []
   },
   "outputs": [],
   "source": [
    "G.add_nodes_from(nodes)"
   ]
  },
  {
   "cell_type": "code",
   "execution_count": null,
   "metadata": {},
   "outputs": [],
   "source": []
  },
  {
   "cell_type": "code",
   "execution_count": 20,
   "metadata": {
    "execution": {
     "iopub.execute_input": "2023-06-22T14:27:41.271352Z",
     "iopub.status.busy": "2023-06-22T14:27:41.270552Z",
     "iopub.status.idle": "2023-06-22T14:27:41.283340Z",
     "shell.execute_reply": "2023-06-22T14:27:41.281455Z",
     "shell.execute_reply.started": "2023-06-22T14:27:41.271281Z"
    },
    "tags": []
   },
   "outputs": [],
   "source": [
    "for n in G.nodes:\n",
    "    G.add_edges_from([(n,f\"foo-{o}\") for o in random.sample(range(1,10),3)])"
   ]
  },
  {
   "cell_type": "code",
   "execution_count": 53,
   "metadata": {
    "execution": {
     "iopub.execute_input": "2023-06-22T17:16:58.344467Z",
     "iopub.status.busy": "2023-06-22T17:16:58.343866Z",
     "iopub.status.idle": "2023-06-22T17:16:58.397464Z",
     "shell.execute_reply": "2023-06-22T17:16:58.395862Z",
     "shell.execute_reply.started": "2023-06-22T17:16:58.344409Z"
    },
    "tags": []
   },
   "outputs": [
    {
     "data": {
      "application/vnd.jupyter.widget-view+json": {
       "model_id": "74865f3902824c8783609e3aad5d8f65",
       "version_major": 2,
       "version_minor": 0
      },
      "text/plain": [
       "GraphWidget(layout=Layout(height='500px', width='100%'))"
      ]
     },
     "metadata": {},
     "output_type": "display_data"
    }
   ],
   "source": [
    "GraphWidget(graph = G)"
   ]
  },
  {
   "cell_type": "code",
   "execution_count": null,
   "metadata": {},
   "outputs": [],
   "source": []
  },
  {
   "cell_type": "code",
   "execution_count": null,
   "metadata": {},
   "outputs": [],
   "source": []
  },
  {
   "cell_type": "code",
   "execution_count": 4,
   "metadata": {
    "execution": {
     "iopub.execute_input": "2023-06-22T14:17:33.656014Z",
     "iopub.status.busy": "2023-06-22T14:17:33.655296Z",
     "iopub.status.idle": "2023-06-22T14:17:33.685472Z",
     "shell.execute_reply": "2023-06-22T14:17:33.683542Z",
     "shell.execute_reply.started": "2023-06-22T14:17:33.655957Z"
    },
    "tags": []
   },
   "outputs": [],
   "source": [
    "        \n",
    "    G.add_nodes_from([2, 3])\n",
    "    H = nx.path_graph(10)\n",
    "    G.add_nodes_from(H)\n",
    "    G.add_edge(1, 2)\n",
    "    G.add_edges_from([(1, 2), (1, 3)])\n",
    "    G.add_edges_from(H.edges)\n",
    "    G.add_node(1, time=\"5pm\")\n",
    "    G.add_nodes_from([3], time=\"2pm\")\n",
    "    for n in G.nodes:\n",
    "        G.add_edge(\"origin\", n)\n",
    "    G.nodes[1][\"room\"] = 714\n",
    "    G.add_edge(1, 2, weight=4.7)\n",
    "    G.add_edges_from([(3, 4), (4, 5)], color=\"red\")\n",
    "    G.add_edges_from([(1, 2, {\"color\": \"blue\"}), (2, 3, {\"weight\": 8})])\n",
    "    G[1][2][\"weight\"] = 4.7\n",
    "    G.edges[1, 2][\"weight\"] = 4\n",
    "    return G"
   ]
  },
  {
   "cell_type": "code",
   "execution_count": 5,
   "metadata": {
    "execution": {
     "iopub.execute_input": "2023-06-22T14:17:34.198914Z",
     "iopub.status.busy": "2023-06-22T14:17:34.198276Z",
     "iopub.status.idle": "2023-06-22T14:17:34.209180Z",
     "shell.execute_reply": "2023-06-22T14:17:34.207482Z",
     "shell.execute_reply.started": "2023-06-22T14:17:34.198861Z"
    },
    "tags": []
   },
   "outputs": [],
   "source": [
    "nxG = make_graph(nx.Graph)"
   ]
  },
  {
   "cell_type": "code",
   "execution_count": 6,
   "metadata": {
    "execution": {
     "iopub.execute_input": "2023-06-22T14:17:41.613321Z",
     "iopub.status.busy": "2023-06-22T14:17:41.611975Z",
     "iopub.status.idle": "2023-06-22T14:17:41.671030Z",
     "shell.execute_reply": "2023-06-22T14:17:41.669478Z",
     "shell.execute_reply.started": "2023-06-22T14:17:41.613265Z"
    },
    "tags": []
   },
   "outputs": [
    {
     "data": {
      "application/vnd.jupyter.widget-view+json": {
       "model_id": "c1e2de25b45947769f157965581ea53d",
       "version_major": 2,
       "version_minor": 0
      },
      "text/plain": [
       "GraphWidget(layout=Layout(height='500px', width='100%'))"
      ]
     },
     "metadata": {},
     "output_type": "display_data"
    }
   ],
   "source": [
    "GraphWidget(graph = nxG)"
   ]
  },
  {
   "cell_type": "markdown",
   "metadata": {},
   "source": [
    "# neo4j graph"
   ]
  },
  {
   "cell_type": "code",
   "execution_count": 20,
   "metadata": {
    "execution": {
     "iopub.execute_input": "2023-06-21T20:59:17.792660Z",
     "iopub.status.busy": "2023-06-21T20:59:17.792047Z",
     "iopub.status.idle": "2023-06-21T20:59:17.801439Z",
     "shell.execute_reply": "2023-06-21T20:59:17.799754Z",
     "shell.execute_reply.started": "2023-06-21T20:59:17.792606Z"
    },
    "tags": []
   },
   "outputs": [],
   "source": [
    "import neo4j\n",
    "import neo4j.graph as ng"
   ]
  },
  {
   "cell_type": "code",
   "execution_count": 29,
   "metadata": {
    "execution": {
     "iopub.execute_input": "2023-06-21T21:01:19.088044Z",
     "iopub.status.busy": "2023-06-21T21:01:19.087493Z",
     "iopub.status.idle": "2023-06-21T21:01:19.096955Z",
     "shell.execute_reply": "2023-06-21T21:01:19.095142Z",
     "shell.execute_reply.started": "2023-06-21T21:01:19.087994Z"
    },
    "tags": []
   },
   "outputs": [],
   "source": [
    "nG = ng.Graph()"
   ]
  },
  {
   "cell_type": "code",
   "execution_count": 30,
   "metadata": {
    "execution": {
     "iopub.execute_input": "2023-06-21T21:01:19.265435Z",
     "iopub.status.busy": "2023-06-21T21:01:19.265003Z",
     "iopub.status.idle": "2023-06-21T21:01:19.273421Z",
     "shell.execute_reply": "2023-06-21T21:01:19.271592Z",
     "shell.execute_reply.started": "2023-06-21T21:01:19.265352Z"
    },
    "tags": []
   },
   "outputs": [],
   "source": [
    "n1 = ng.Node(nG,\"1\",\"1\")\n",
    "n2 = ng.Node(nG,\"2\",\"2\")"
   ]
  },
  {
   "cell_type": "code",
   "execution_count": 31,
   "metadata": {
    "execution": {
     "iopub.execute_input": "2023-06-21T21:01:34.375953Z",
     "iopub.status.busy": "2023-06-21T21:01:34.375346Z",
     "iopub.status.idle": "2023-06-21T21:01:34.384214Z",
     "shell.execute_reply": "2023-06-21T21:01:34.382564Z",
     "shell.execute_reply.started": "2023-06-21T21:01:34.375898Z"
    },
    "tags": []
   },
   "outputs": [],
   "source": [
    "for n in nG.nodes:\n",
    "    print(n)\n",
    "   "
   ]
  },
  {
   "cell_type": "code",
   "execution_count": 19,
   "metadata": {
    "execution": {
     "iopub.execute_input": "2023-06-21T20:58:56.349718Z",
     "iopub.status.busy": "2023-06-21T20:58:56.349113Z",
     "iopub.status.idle": "2023-06-21T20:58:56.361743Z",
     "shell.execute_reply": "2023-06-21T20:58:56.359809Z",
     "shell.execute_reply.started": "2023-06-21T20:58:56.349665Z"
    },
    "tags": []
   },
   "outputs": [
    {
     "data": {
      "text/plain": [
       "{'_nodes': {},\n",
       " '_legacy_nodes': {},\n",
       " '_relationships': {},\n",
       " '_legacy_relationships': {},\n",
       " '_relationship_types': {},\n",
       " '_node_set_view': <neo4j.graph.EntitySetView at 0x7f83fb998550>,\n",
       " '_relationship_set_view': <neo4j.graph.EntitySetView at 0x7f83fb998460>}"
      ]
     },
     "execution_count": 19,
     "metadata": {},
     "output_type": "execute_result"
    }
   ],
   "source": [
    "nG.__dict__#nodes[\"1\"] = ng.Node(nG,\"1\",\"1\")"
   ]
  },
  {
   "cell_type": "code",
   "execution_count": 22,
   "metadata": {
    "execution": {
     "iopub.execute_input": "2023-06-21T20:59:31.006923Z",
     "iopub.status.busy": "2023-06-21T20:59:31.006307Z",
     "iopub.status.idle": "2023-06-21T20:59:31.051136Z",
     "shell.execute_reply": "2023-06-21T20:59:31.048788Z",
     "shell.execute_reply.started": "2023-06-21T20:59:31.006849Z"
    },
    "tags": []
   },
   "outputs": [
    {
     "ename": "AttributeError",
     "evalue": "module neo4j has no attribute Graph",
     "output_type": "error",
     "traceback": [
      "\u001b[0;31m---------------------------------------------------------------------------\u001b[0m",
      "\u001b[0;31mAttributeError\u001b[0m                            Traceback (most recent call last)",
      "Input \u001b[0;32mIn [22]\u001b[0m, in \u001b[0;36m<cell line: 1>\u001b[0;34m()\u001b[0m\n\u001b[0;32m----> 1\u001b[0m \u001b[43mneo4j\u001b[49m\u001b[38;5;241;43m.\u001b[39;49m\u001b[43mGraph\u001b[49m()\n",
      "File \u001b[0;32m~/miniconda3/envs/py39/lib/python3.9/site-packages/neo4j/__init__.py:187\u001b[0m, in \u001b[0;36m__getattr__\u001b[0;34m(name)\u001b[0m\n\u001b[1;32m    180\u001b[0m     deprecation_warn(\n\u001b[1;32m    181\u001b[0m         \u001b[38;5;124m\"\u001b[39m\u001b[38;5;124mImporting \u001b[39m\u001b[38;5;132;01m{}\u001b[39;00m\u001b[38;5;124m from neo4j is deprecated without replacement. It\u001b[39m\u001b[38;5;124m'\u001b[39m\u001b[38;5;124ms \u001b[39m\u001b[38;5;124m\"\u001b[39m\n\u001b[1;32m    182\u001b[0m         \u001b[38;5;124m\"\u001b[39m\u001b[38;5;124minternal and will be removed in a future version.\u001b[39m\u001b[38;5;124m\"\u001b[39m\n\u001b[1;32m    183\u001b[0m         \u001b[38;5;241m.\u001b[39mformat(name),\n\u001b[1;32m    184\u001b[0m         stack_level\u001b[38;5;241m=\u001b[39m\u001b[38;5;241m2\u001b[39m\n\u001b[1;32m    185\u001b[0m     )\n\u001b[1;32m    186\u001b[0m     \u001b[38;5;28;01mreturn\u001b[39;00m \u001b[38;5;28mglobals\u001b[39m()[\u001b[38;5;124mf\u001b[39m\u001b[38;5;124m\"\u001b[39m\u001b[38;5;124m_\u001b[39m\u001b[38;5;132;01m{\u001b[39;00mname\u001b[38;5;132;01m}\u001b[39;00m\u001b[38;5;124m\"\u001b[39m]\n\u001b[0;32m--> 187\u001b[0m \u001b[38;5;28;01mraise\u001b[39;00m \u001b[38;5;167;01mAttributeError\u001b[39;00m(\u001b[38;5;124mf\u001b[39m\u001b[38;5;124m\"\u001b[39m\u001b[38;5;124mmodule \u001b[39m\u001b[38;5;132;01m{\u001b[39;00m\u001b[38;5;18m__name__\u001b[39m\u001b[38;5;132;01m}\u001b[39;00m\u001b[38;5;124m has no attribute \u001b[39m\u001b[38;5;132;01m{\u001b[39;00mname\u001b[38;5;132;01m}\u001b[39;00m\u001b[38;5;124m\"\u001b[39m)\n",
      "\u001b[0;31mAttributeError\u001b[0m: module neo4j has no attribute Graph"
     ]
    }
   ],
   "source": [
    "neo4j.Graph()"
   ]
  },
  {
   "cell_type": "markdown",
   "metadata": {},
   "source": [
    "# igraph"
   ]
  },
  {
   "cell_type": "code",
   "execution_count": 32,
   "metadata": {
    "execution": {
     "iopub.execute_input": "2023-06-21T21:03:50.118102Z",
     "iopub.status.busy": "2023-06-21T21:03:50.117513Z",
     "iopub.status.idle": "2023-06-21T21:03:52.244251Z",
     "shell.execute_reply": "2023-06-21T21:03:52.242234Z",
     "shell.execute_reply.started": "2023-06-21T21:03:50.118048Z"
    }
   },
   "outputs": [],
   "source": [
    "import igraph"
   ]
  },
  {
   "cell_type": "code",
   "execution_count": 37,
   "metadata": {
    "execution": {
     "iopub.execute_input": "2023-06-21T21:04:58.077046Z",
     "iopub.status.busy": "2023-06-21T21:04:58.075551Z",
     "iopub.status.idle": "2023-06-21T21:04:58.090453Z",
     "shell.execute_reply": "2023-06-21T21:04:58.088413Z",
     "shell.execute_reply.started": "2023-06-21T21:04:58.076986Z"
    },
    "tags": []
   },
   "outputs": [],
   "source": [
    "f = igraph.Graph([(0,1), (0,2), (2,3), (3,4), (4,2), (2,5), (5,0), (6,3), (5,6)])\n",
    "f.vs[\"id\"] = [\"Alice\", \"Bob\", \"Claire\", \"Dennis\", \"Esther\", \"Frank\", \"George\"]\n",
    "f.vs[\"name\"] = [\"Alice\", \"Bob\", \"Claire\", \"Dennis\", \"Esther\", \"Frank\", \"George\"]\n",
    "f.vs[\"age\"] = [25, 31, 18, 47, 22, 23, 50]\n",
    "f.vs[\"gender\"] = [\"f\", \"m\", \"f\", \"m\", \"f\", \"m\", \"m\"]\n",
    "f.es[\"is_formal\"] = [False, False, True, True, True, False, True, False, False]"
   ]
  },
  {
   "cell_type": "code",
   "execution_count": 38,
   "metadata": {
    "execution": {
     "iopub.execute_input": "2023-06-21T21:04:58.781146Z",
     "iopub.status.busy": "2023-06-21T21:04:58.779613Z",
     "iopub.status.idle": "2023-06-21T21:04:58.842798Z",
     "shell.execute_reply": "2023-06-21T21:04:58.841065Z",
     "shell.execute_reply.started": "2023-06-21T21:04:58.781050Z"
    },
    "tags": []
   },
   "outputs": [
    {
     "data": {
      "application/vnd.jupyter.widget-view+json": {
       "model_id": "c47e8512e778462787cfdf2a4f3d8a25",
       "version_major": 2,
       "version_minor": 0
      },
      "text/plain": [
       "GraphWidget(layout=Layout(height='500px', width='100%'))"
      ]
     },
     "metadata": {},
     "output_type": "display_data"
    }
   ],
   "source": [
    "GraphWidget(graph = f)"
   ]
  },
  {
   "cell_type": "code",
   "execution_count": null,
   "metadata": {},
   "outputs": [],
   "source": []
  }
 ],
 "metadata": {
  "kernelspec": {
   "display_name": "Python 3.9 (py39)",
   "language": "python",
   "name": "py39"
  },
  "language_info": {
   "codemirror_mode": {
    "name": "ipython",
    "version": 3
   },
   "file_extension": ".py",
   "mimetype": "text/x-python",
   "name": "python",
   "nbconvert_exporter": "python",
   "pygments_lexer": "ipython3",
   "version": "3.9.7"
  }
 },
 "nbformat": 4,
 "nbformat_minor": 4
}
