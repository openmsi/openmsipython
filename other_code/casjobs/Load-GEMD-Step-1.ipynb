{
 "cells": [
  {
   "cell_type": "markdown",
   "metadata": {},
   "source": [
    "# Load GEMD files in database\n",
    "This code is for information purposes onlny as it requires permissions on our SciServer system that users of this repo will not in general posess. The database schema is defined by files in the database_design subfolder.\n",
    "\n",
    "#### NB parts of this code can only be run by someone with direct credentials to the database"
   ]
  },
  {
   "cell_type": "code",
   "execution_count": null,
   "metadata": {},
   "outputs": [],
   "source": [
    "import glob\n",
    "import json\n",
    "import random\n",
    "import pandas\n",
    "import pprint\n",
    "import sys\n",
    "import json\n",
    "import numpy as np\n",
    "import pymssql"
   ]
  },
  {
   "cell_type": "code",
   "execution_count": null,
   "metadata": {},
   "outputs": [],
   "source": [
    "# import sqlalchemy as sqla\n",
    "from sqlalchemy.orm import Session\n",
    "from sqlalchemy.ext.automap import automap_base\n",
    "# from sqlalchemy import select"
   ]
  },
  {
   "cell_type": "code",
   "execution_count": null,
   "metadata": {},
   "outputs": [],
   "source": [
    "from gemd_database import MSSQLDatabase"
   ]
  },
  {
   "cell_type": "code",
   "execution_count": null,
   "metadata": {},
   "outputs": [],
   "source": [
    "with open('/home/idies/workspace/persistent/.private/gemd.json','r') as f:\n",
    "    AUTH = json.load(f)\n",
    "GEMDDB=MSSQLDatabase(AUTH,'GEMD')"
   ]
  },
  {
   "cell_type": "markdown",
   "metadata": {},
   "source": [
    "# Load in GEMD database\n",
    "Prepared with \n",
    "```sql\n",
    "create table GEMDModel (\n",
    "    id bigint identity(1,1) not null\n",
    "  , name varchar(1024) not null\n",
    "  , constraint pk_gemdmodel primary key(id)\n",
    ")\n",
    "\n",
    "create table GEMDContext (\n",
    "  uid varchar(64) not null\n",
    "  , model_id bigint not null\n",
    "  , gemd_type varchar(32) not null\n",
    "  , context varchar(max) not null\n",
    "  , constraint pk_GEMDContext primary key(uid)\n",
    "  , constraint fk_gemdcontext_model foreign key (model_id) REFERENCES gemdmodel(id)\n",
    "  )\n",
    "```"
   ]
  },
  {
   "cell_type": "code",
   "execution_count": null,
   "metadata": {},
   "outputs": [],
   "source": [
    "ddl = \"\"\"\n",
    "create table GEMDModel (\n",
    "    id bigint identity(1,1) not null\n",
    "  , name varchar(1024) not null\n",
    "  , constraint pk_gemdmodel primary key(id)\n",
    ")\n",
    "\n",
    "create table GEMDObject (\n",
    "  uid varchar(64) not null\n",
    "  , model_id bigint not null\n",
    "  , gemd_type varchar(32) not null\n",
    "  , context varchar(max) not null\n",
    "  , constraint pk_GEMDContext primary key(uid)\n",
    "  , constraint fk_gemdcontext_model foreign key (model_id) REFERENCES gemdmodel(id)\n",
    ")\n",
    "  \n",
    "CREATE TABLE [dbo].[GEMDAttribute](\n",
    "  [gemdobject_uid] [varchar](64) NOT NULL,\n",
    "  [template_id] [nvarchar](128) NULL,\n",
    "  [name] [nvarchar](128) NULL,\n",
    "  [value] [nvarchar](4000) NULL,\n",
    "  [value_type] [nvarchar](32) NULL,\n",
    "  [value_units] [nvarchar](128) NULL,\n",
    "  [attribute_type] [nvarchar](128) NULL,\n",
    "  [property] [nvarchar](max) NULL,\n",
    "  [conditions] [nvarchar](max) NULL\n",
    ")\n",
    "\n",
    " CREATE TABLE GEMDEdge(\n",
    "    id bigint IDENTITY(1,1)  not null\n",
    "  , from_uid varchar(64) not null\n",
    "  , to_uid varchar(64) not null\n",
    "  , gemd_ref varchar(64) not null\n",
    ")\n",
    "\"\"\"\n",
    "# GEMDDB.execute_update(ddl)"
   ]
  },
  {
   "cell_type": "code",
   "execution_count": null,
   "metadata": {},
   "outputs": [],
   "source": [
    "Base = automap_base()\n",
    "# Base.prepare(GEMDDB.ENGINE, reflect=True)\n",
    "Base.prepare(GEMDDB.ENGINE)#, reflect=True)\n",
    "for c in Base.classes:\n",
    "    print(c)\n",
    "GEMDObject = Base.classes.GEMDObject\n",
    "GEMDModel  = Base.classes.GEMDModel"
   ]
  },
  {
   "cell_type": "markdown",
   "metadata": {},
   "source": [
    "## create object files from the JSON GEMD \n",
    "complete_data_model.json is located in an aptly named folder and contains all JSON content to be loaded"
   ]
  },
  {
   "cell_type": "code",
   "execution_count": null,
   "metadata": {},
   "outputs": [],
   "source": [
    "folders = glob.glob('/home/idies/workspace/Temporary/gerard/GEMD-Maggie/GEMD_models/*')"
   ]
  },
  {
   "cell_type": "code",
   "execution_count": null,
   "metadata": {},
   "outputs": [],
   "source": [
    "%%time\n",
    "models = []\n",
    "for folder in folders:\n",
    "    model = GEMDModel(name=folder.split(\"/\")[-1])\n",
    "    models.append(model)\n",
    "    files = glob.glob(f\"{folder}/*\")\n",
    "    for file in files:\n",
    "        with open(f'{file}','r') as f:\n",
    "            try:\n",
    "                d=json.load(f)\n",
    "                GEMDObject(gemd_type=d['type'],uid=d['uids']['auto'],context=json.dumps(d),gemdmodel=model)\n",
    "            except Exception as e:\n",
    "                print(\"ERROR:\",file)\n",
    "                print(e)"
   ]
  },
  {
   "cell_type": "code",
   "execution_count": null,
   "metadata": {},
   "outputs": [],
   "source": [
    "%%time\n",
    "session = Session(GEMDDB.ENGINE)\n",
    "for model in models:\n",
    "    session.add(model)\n",
    "session.commit()"
   ]
  },
  {
   "cell_type": "markdown",
   "metadata": {},
   "source": [
    "## extract attributes"
   ]
  },
  {
   "cell_type": "code",
   "execution_count": null,
   "metadata": {},
   "outputs": [],
   "source": [
    "sql=\"\"\"\n",
    "with a as (\n",
    "select s.uid, s.gemd_type\n",
    ",      sp.*\n",
    "  from GEMDObject s\n",
    "  cross apply OPENJSON(s.context,'$.parameters') with (\n",
    "     template_id nvarchar(128) '$.template.id',\n",
    "     name nvarchar(128) '$.name',\n",
    "     value_type nvarchar(max) '$.value.type' ,\n",
    "     value_units nvarchar(max) '$.value.units' ,\n",
    "     value nvarchar(max) '$.value' as json,\n",
    "     attribute_type nvarchar(128) '$.type',\n",
    "     parameter nvarchar(max) '$' as json) sp\n",
    ")\n",
    "insert into GEMDAttribute\n",
    "select a.uid as gemdcontext_uid, a.template_id, a.name\n",
    ",      case when a.value_type = 'nominal_categorical' then json_value(a.value,'$.category')\n",
    "            when a.value_type = 'nominal_real' then json_value(a.value,'$.nominal')\n",
    "            when a.value_type = 'nominal_integer' then json_value(a.value,'$.nominal')\n",
    "            when a.value_type = 'nominal_composition' then json_value(a.value,'$')\n",
    "       else NULL end as value\n",
    "       , a.value_type\n",
    "       , a.value_units\n",
    ",      a.attribute_type\n",
    ",      a.parameter, NULL\n",
    "  from a \n",
    "\"\"\"\n",
    "GEMDDB.execute_update(sql)"
   ]
  },
  {
   "cell_type": "code",
   "execution_count": null,
   "metadata": {},
   "outputs": [],
   "source": [
    "sql = \"\"\"\n",
    "with c as (\n",
    "select s.uid, s.gemd_type, sp.property_type\n",
    ",      case when sp.property_type = 'property_and_conditions' then sp.p_property\n",
    "            else sp.property end property\n",
    ",      case when sp.property_type = 'property_and_conditions' then sp.p_conditions\n",
    "            else NULL end conditions\n",
    "  from GEMDObject s\n",
    "  cross apply OPENJSON(s.context,'$.properties') with (\n",
    "     property_type nvarchar(128) '$.type',\n",
    "     p_property nvarchar(max) '$.property' as json,\n",
    "     p_conditions nvarchar(max) '$.conditions' as json,\n",
    "     property nvarchar(max) '$' as json) sp\n",
    "), a as (\n",
    "select c.uid,c.gemd_type, c.property_type, c.property\n",
    ",      case when c.conditions = '[]' then NULL else c.conditions end as conditions\n",
    ",      sp.*\n",
    "  from c\n",
    "  cross apply OPENJSON(c.property,'$') with (\n",
    "     template_id nvarchar(128) '$.template.id',\n",
    "     name nvarchar(128) '$.name',\n",
    "     value_type nvarchar(max) '$.value.type' ,\n",
    "     value_units nvarchar(max) '$.value.units' ,\n",
    "     value nvarchar(max) '$.value' as json) sp\n",
    ")\n",
    "insert into GEMDAttribute\n",
    "select a.uid as gemdcontext_uid, a.template_id, a.name\n",
    ",      case when a.value_type = 'nominal_categorical' then json_value(a.value,'$.category')\n",
    "            when a.value_type = 'nominal_real' then json_value(a.value,'$.nominal')\n",
    "            when a.value_type = 'nominal_integer' then json_value(a.value,'$.nominal')\n",
    "            when a.value_type = 'nominal_composition' then json_value(a.value,'$')\n",
    "       else NULL end as value\n",
    ",      a.value_type\n",
    ",      a.value_units\n",
    ",      a.property_type as attribute_type\n",
    ",      a.property\n",
    ",      a.conditions\n",
    "  from a \n",
    "\"\"\"\n",
    "GEMDDB.execute_update(sql)"
   ]
  },
  {
   "cell_type": "code",
   "execution_count": null,
   "metadata": {},
   "outputs": [],
   "source": [
    "sql = \"\"\"\n",
    "with a as (\n",
    "select s.uid, s.gemd_type\n",
    ",      sp.*\n",
    "  from GEMDObject s\n",
    "  cross apply OPENJSON(s.context,'$.conditions') with (\n",
    "     template_id nvarchar(128) '$.template.id',\n",
    "     name nvarchar(128) '$.name',\n",
    "     value_type nvarchar(max) '$.value.type' ,\n",
    "     value_units nvarchar(max) '$.value.units' ,\n",
    "     value nvarchar(max) '$.value' as json,\n",
    "     attribute_type nvarchar(128) '$.type',\n",
    "     condition nvarchar(max) '$' as json) sp\n",
    ")\n",
    "insert into GEMDAttribute\n",
    "select a.uid as gemdcontext_uid, a.template_id, a.name\n",
    ",      case when a.value_type = 'nominal_categorical' then json_value(a.value,'$.category')\n",
    "            when a.value_type = 'nominal_real' then json_value(a.value,'$.nominal')\n",
    "            when a.value_type = 'nominal_integer' then json_value(a.value,'$.nominal')\n",
    "            when a.value_type = 'nominal_composition' then json_value(a.value,'$')\n",
    "       else NULL end as value\n",
    "       , a.value_type\n",
    "       , a.value_units\n",
    ",      a.attribute_type\n",
    ",      a.condition, NULL\n",
    "  from a \n",
    "\"\"\"\n",
    "GEMDDB.execute_update(sql)"
   ]
  },
  {
   "cell_type": "markdown",
   "metadata": {},
   "source": [
    "# utility views"
   ]
  },
  {
   "cell_type": "markdown",
   "metadata": {},
   "source": [
    "GEMDObjectAttributes: GEMD objects with attributes (properties, parameters, conditions) aggregated in JSON string"
   ]
  },
  {
   "cell_type": "code",
   "execution_count": null,
   "metadata": {
    "tags": []
   },
   "outputs": [],
   "source": [
    "sql = \"\"\"\n",
    "create or alter view GEMDObjectAttributes as\n",
    "select o.model_id,o.uid, o.gemd_type\n",
    ",      '{'+STRING_AGG('\"'+a.name+'\":\"'+cast(a.value as nvarchar(max))+'\"',',') +'}' as attributes\n",
    "from [dbo].[GEMDObject] o\n",
    "left outer join gemdattribute a on a.gemdobject_uid=o.uid\n",
    "group by o.model_id, o.uid, o.gemd_type\n",
    "\"\"\"\n",
    "GEMDDB.execute_update(sql)"
   ]
  },
  {
   "cell_type": "markdown",
   "metadata": {},
   "source": [
    "alternative: name/value pairs"
   ]
  },
  {
   "cell_type": "code",
   "execution_count": null,
   "metadata": {
    "tags": []
   },
   "outputs": [],
   "source": [
    "sql = \"\"\"\n",
    "create or alter view GEMDObjectAttributesJ as\n",
    "select o.model_id, o.uid, o.gemd_type\n",
    ",      (select name, value, value_units, attribute_type \n",
    "          from gemdattribute a \n",
    "         where a.gemdobject_uid=o.uid\n",
    "           for json path) as attributes\n",
    "from [dbo].[GEMDObject] o\n",
    "group by o.model_id, o.uid, gemd_type\n",
    "\"\"\"\n",
    "GEMDDB.execute_update(sql)"
   ]
  },
  {
   "cell_type": "code",
   "execution_count": null,
   "metadata": {},
   "outputs": [],
   "source": []
  }
 ],
 "metadata": {
  "kernelspec": {
   "display_name": "Python 3.9 (py39)",
   "language": "python",
   "name": "py39"
  },
  "language_info": {
   "codemirror_mode": {
    "name": "ipython",
    "version": 3
   },
   "file_extension": ".py",
   "mimetype": "text/x-python",
   "name": "python",
   "nbconvert_exporter": "python",
   "pygments_lexer": "ipython3",
   "version": "3.9.7"
  }
 },
 "nbformat": 4,
 "nbformat_minor": 4
}
