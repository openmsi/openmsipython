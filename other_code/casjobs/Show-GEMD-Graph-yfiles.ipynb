{
 "cells": [
  {
   "cell_type": "markdown",
   "metadata": {},
   "source": [
    "# Sample queries exploring Graph structure in GEMD database\n"
   ]
  },
  {
   "cell_type": "markdown",
   "metadata": {
    "execution": {
     "iopub.execute_input": "2023-06-30T19:03:42.084541Z",
     "iopub.status.busy": "2023-06-30T19:03:42.083906Z",
     "iopub.status.idle": "2023-06-30T19:03:51.056609Z",
     "shell.execute_reply": "2023-06-30T19:03:51.054211Z",
     "shell.execute_reply.started": "2023-06-30T19:03:42.084489Z"
    },
    "tags": []
   },
   "source": [
    "note, pip install yfiles.\n",
    "As this uses javascript code, may also have to be installed in 'base' environment. <br/>\n",
    "in terminal:\n",
    "<pre>\n",
    "> pip install yfiles_jupyter_graphs\n",
    "> conda activate base\n",
    "> pip install yfiles_jupyter_graphs\n",
    "</pre>\n",
    "then restart kernel. maybe restart container. "
   ]
  },
  {
   "cell_type": "code",
   "execution_count": null,
   "metadata": {
    "tags": []
   },
   "outputs": [],
   "source": [
    "import SciServer.CasJobs as cj\n",
    "from pprint import pprint\n",
    "import json\n",
    "import pandas\n",
    "from yfiles_jupyter_graphs import GraphWidget\n",
    "# use networkx to create the graph object that is to be used by yfiles\n",
    "import networkx as nx   "
   ]
  },
  {
   "cell_type": "code",
   "execution_count": null,
   "metadata": {
    "tags": []
   },
   "outputs": [],
   "source": [
    "DATABASE='GEMD'"
   ]
  },
  {
   "cell_type": "markdown",
   "metadata": {},
   "source": [
    "count for each node how many distinct nodes can be reached from it"
   ]
  },
  {
   "cell_type": "code",
   "execution_count": null,
   "metadata": {
    "tags": []
   },
   "outputs": [],
   "source": [
    "%%time\n",
    "sql=\"\"\"\n",
    "with gr as (\n",
    "select c.uid as root_uid\n",
    ",      c.gemd_type as root_type\n",
    ",      0 as level\n",
    ",      cast(NULL as varchar(64)) as endpoint_uid\n",
    ",      c.uid as from_uid, cast(NULL as bigint) as edge_id, cast(NULL as varchar(64)) as gemd_ref\n",
    ",      cast(gemd_type+c.uid as varchar(max)) as [path]\n",
    "  from GEMDObject c\n",
    " union all\n",
    "select gr.root_uid, gr.root_type, gr.level+1, e.to_uid\n",
    ",      e.to_uid, e.id, e.gemd_ref\n",
    ",      gr.path+'==>'+e.gemd_ref+':'+e.to_uid\n",
    "  from gr\n",
    "  join GEMDEdge e on e.from_uid=gr.from_uid\n",
    "where gr.level < 16\n",
    ")\n",
    "select root_uid, root_type, count(distinct endpoint_uid) as num_out_nodes\n",
    "  from gr\n",
    "group by root_type, root_uid\n",
    " order by num_out_nodes desc\n",
    "\"\"\"\n",
    "nodes_out=cj.executeQuery(sql, DATABASE)"
   ]
  },
  {
   "cell_type": "code",
   "execution_count": null,
   "metadata": {
    "tags": []
   },
   "outputs": [],
   "source": [
    "nodes_out.head(10)"
   ]
  },
  {
   "cell_type": "markdown",
   "metadata": {},
   "source": [
    "count for each node how many distinct nodes can reach it"
   ]
  },
  {
   "cell_type": "code",
   "execution_count": null,
   "metadata": {
    "tags": []
   },
   "outputs": [],
   "source": [
    "%%time\n",
    "sql=\"\"\"\n",
    "with gr as (\n",
    "select c.uid as root_uid\n",
    ",      c.gemd_type as root_type\n",
    ",      0 as level\n",
    ",      cast(NULL as varchar(64)) as endpoint_uid\n",
    ",      c.uid as from_uid, cast(NULL as bigint) as edge_id, cast(NULL as varchar(64)) as gemd_ref\n",
    ",      cast(gemd_type+c.uid as varchar(max)) as [path]\n",
    "  from GEMDObject c\n",
    " union all\n",
    "select gr.root_uid, gr.root_type, gr.level+1, e.to_uid\n",
    ",      e.to_uid, e.id, e.gemd_ref\n",
    ",      gr.path+'==>'+e.gemd_ref+':'+e.to_uid\n",
    "  from gr\n",
    "  join GEMDEdge e on e.from_uid=gr.from_uid\n",
    "where gr.level < 16\n",
    ")\n",
    "select endpoint_uid, count(distinct root_uid) as num_in_nodes\n",
    "  from gr\n",
    "group by endpoint_uid\n",
    " order by num_in_nodes desc\n",
    "\"\"\"\n",
    "nodes_in=cj.executeQuery(sql, DATABASE)"
   ]
  },
  {
   "cell_type": "markdown",
   "metadata": {},
   "source": [
    "## visualize"
   ]
  },
  {
   "cell_type": "markdown",
   "metadata": {},
   "source": [
    "take a node from nodes_out and find the graph reachable from it"
   ]
  },
  {
   "cell_type": "code",
   "execution_count": null,
   "metadata": {
    "tags": []
   },
   "outputs": [],
   "source": [
    "UID = nodes_out.iloc[0].root_uid\n",
    "UID\n",
    "# UID = '01b44457-6ebe-43bc-b316-66fcff35957e'"
   ]
  },
  {
   "cell_type": "raw",
   "metadata": {
    "tags": []
   },
   "source": [
    "sql=f\"\"\"\n",
    "with gr as (\n",
    "select c.uid as node_uid\n",
    ",      c.gemd_type as node_type\n",
    ",      c.context as node_context\n",
    ",      cast(c.gemd_type+' ['+c.uid+']' as varchar(128)) as Target\n",
    ",      cast(-1 as bigint) as edge_id\n",
    ",      cast(NULL as varchar(64)) as from_uid\n",
    ",      cast(NULL as varchar(128)) as Source\n",
    ",      0 as level\n",
    "  from GEMDObject c\n",
    "  where uid='{UID}'\n",
    " union all\n",
    "select c.uid as node_uid\n",
    ",      c.gemd_type as node_type\n",
    ",      c.context as node_context\n",
    ",      cast(c.gemd_type+' ['+c.uid+']' as varchar(128)) as Target\n",
    ",      e.id as edge_id\n",
    ",      gr.node_uid as from_uid\n",
    ",      gr.Target as Source\n",
    ",      gr.level+1 as level\n",
    "  from gr\n",
    "  join GEMDEdge e on e.from_uid=gr.node_uid\n",
    "  join GEMDObject c on c.uid=e.to_uid\n",
    "where gr.level < 16\n",
    ")\n",
    "select Source,Target\n",
    "--,node_type,node_context\n",
    "  from gr\n",
    " where Source is not null\n",
    "\"\"\"\n",
    "gr=cj.executeQuery(sql,DATABASE)\n",
    "gr"
   ]
  },
  {
   "cell_type": "markdown",
   "metadata": {},
   "source": [
    "Following query gets graph reachable form the specified node. It also retrieves attributes for the nodes to be added to the graph. "
   ]
  },
  {
   "cell_type": "code",
   "execution_count": null,
   "metadata": {
    "tags": []
   },
   "outputs": [],
   "source": [
    "UID = 'adaa778f-62d8-476f-a774-4a3877a53d05'\n",
    "sql=f\"\"\"\n",
    "declare @uid varchar(40) = '{UID}'\n",
    ";\n",
    "with gr as (\n",
    "select cast(NULL as varchar(64)) as Source_uid\n",
    ",      cast(NULL as varchar(32)) as source_type\n",
    ",      c.uid Target_uid\n",
    ",      c.gemd_type as Target_type\n",
    ",      cast(NULL as bigint) as edge_id\n",
    ",      cast(NULL as varchar(64)) as gemd_ref \n",
    ",      0 as level\n",
    "  from GEMDObject c\n",
    "  where uid=@UID\n",
    " union all\n",
    "select gr.Target_uid as Source_uid\n",
    ",      gr.target_type as source_type\n",
    ",      c.uid as Target_uid\n",
    ",      c.gemd_type as target_type\n",
    ",      e.id as edge_id\n",
    ",      e.gemd_ref\n",
    ",      gr.level+1 as level\n",
    "  from gr\n",
    "  join GEMDEdge e on e.from_uid=gr.Target_uid\n",
    "  join GEMDObject c on c.uid=e.to_uid\n",
    "where gr.level < 16\n",
    "), edges as (\n",
    "select Source_uid,Target_uid, source_type, target_type,gemd_ref, level\n",
    "  from gr\n",
    " where Source_uid is not null\n",
    ")\n",
    ", nodes as (\n",
    "select source_uid as node_uid, source_type as node_type\n",
    "  from edges \n",
    "union\n",
    "select Target_uid , target_type\n",
    "from edges\n",
    ")\n",
    "select n.node_uid, n.node_type, max(a.attributes ) as attributes\n",
    ",     (select e.target_uid , e.gemd_ref\n",
    "          from edges e\n",
    "         where e.source_uid=n.node_uid\n",
    "           for json path) as out_edges\n",
    "  from nodes n\n",
    "  join GEMDObjectAttributes a on a.uid=n.node_uid\n",
    "group by node_uid,node_type\n",
    "\"\"\"\n",
    "df = cj.executeQuery(sql,\"GEMD\",format='pandas')"
   ]
  },
  {
   "cell_type": "code",
   "execution_count": null,
   "metadata": {
    "tags": []
   },
   "outputs": [],
   "source": [
    "nodes = []\n",
    "edges = {}\n",
    "nodes_d = {}\n",
    "for t in df.itertuples():\n",
    "    atts = {\"node_type\":t.node_type}\n",
    "    if t.attributes is not None and len(t.attributes.strip()) > 0:\n",
    "        tatts = json.loads(t.attributes)\n",
    "        atts.update(tatts)\n",
    "    LABEL = t.node_type+':'+t.node_uid\n",
    "    node = (LABEL,atts)\n",
    "    nodes.append(node)\n",
    "    nodes_d[t.node_uid] = node\n",
    "    edges[t.node_uid] = t.out_edges"
   ]
  },
  {
   "cell_type": "code",
   "execution_count": null,
   "metadata": {
    "tags": []
   },
   "outputs": [],
   "source": [
    "all_edges = []\n",
    "for k,node in nodes_d.items():\n",
    "    try:\n",
    "        out_edges = json.loads(edges[k])\n",
    "        oe = [(node[0],nodes_d[e['target_uid']][0]) for e in out_edges]\n",
    "        all_edges+=oe\n",
    "    except:\n",
    "        pass"
   ]
  },
  {
   "cell_type": "code",
   "execution_count": null,
   "metadata": {
    "tags": []
   },
   "outputs": [],
   "source": [
    "G = nx.DiGraph()\n",
    "G.add_nodes_from(nodes)\n",
    "G.add_edges_from(all_edges)"
   ]
  },
  {
   "cell_type": "code",
   "execution_count": null,
   "metadata": {
    "tags": []
   },
   "outputs": [],
   "source": [
    "GraphWidget(graph=G)"
   ]
  }
 ],
 "metadata": {
  "kernelspec": {
   "display_name": "Python 3.9 (py39)",
   "language": "python",
   "name": "py39"
  },
  "language_info": {
   "codemirror_mode": {
    "name": "ipython",
    "version": 3
   },
   "file_extension": ".py",
   "mimetype": "text/x-python",
   "name": "python",
   "nbconvert_exporter": "python",
   "pygments_lexer": "ipython3",
   "version": "3.9.7"
  }
 },
 "nbformat": 4,
 "nbformat_minor": 4
}
